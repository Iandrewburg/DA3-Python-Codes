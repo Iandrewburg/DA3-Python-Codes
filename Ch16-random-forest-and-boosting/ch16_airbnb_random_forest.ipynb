{
 "cells": [
  {
   "cell_type": "markdown",
   "metadata": {
    "tags": []
   },
   "source": [
    "### Chapter 16\n",
    "\n",
    "**CH16 Airbnb random forest and gradient boosintg machines**\n",
    "\n",
    "using the airbnb dataset\n",
    "\n",
    "version 1.2 2024-01-03"
   ]
  },
  {
   "cell_type": "code",
   "execution_count": 1,
   "metadata": {
    "tags": []
   },
   "outputs": [],
   "source": [
    "import warnings\n",
    "warnings.filterwarnings('ignore')\n",
    "\n",
    "import pandas as pd\n",
    "import numpy as np\n",
    "import os\n",
    "from pathlib import Path\n",
    "import sys\n",
    "from patsy import dmatrices\n",
    "from sklearn.model_selection import train_test_split\n",
    "import matplotlib.pyplot as plt\n",
    "\n",
    "from sklearn.ensemble import RandomForestRegressor\n",
    "from sklearn.model_selection import GridSearchCV\n",
    "from sklearn.model_selection import RandomizedSearchCV\n",
    "from sklearn.impute import SimpleImputer\n",
    "from sklearn.inspection import permutation_importance\n",
    "from sklearn.inspection import PartialDependenceDisplay\n",
    "from sklearn.inspection import partial_dependence\n",
    "from sklearn.compose import ColumnTransformer\n",
    "from sklearn.pipeline import Pipeline\n",
    "from sklearn.preprocessing import OneHotEncoder\n",
    "from sklearn.metrics import mean_squared_error"
   ]
  },
  {
   "cell_type": "markdown",
   "metadata": {},
   "source": [
    "### Get Data"
   ]
  },
  {
   "cell_type": "code",
   "execution_count": 2,
   "metadata": {},
   "outputs": [],
   "source": [
    "# Current script and repository folder\n",
    "current_path = os.getcwd()\n",
    "repository_path = current_path.split('Ch16')[0]"
   ]
  },
  {
   "cell_type": "code",
   "execution_count": 3,
   "metadata": {},
   "outputs": [],
   "source": [
    "# Add utils folder to sys path \n",
    "# Note: os.path.join() creates a string with the right syntax for defining a path for your operating sytem.\n",
    "sys.path.append(os.path.join(repository_path, 'utils'))"
   ]
  },
  {
   "cell_type": "code",
   "execution_count": 4,
   "metadata": {},
   "outputs": [],
   "source": [
    "# Define data folder\n",
    "data_path = os.path.join(repository_path, 'data')"
   ]
  },
  {
   "cell_type": "code",
   "execution_count": 5,
   "metadata": {},
   "outputs": [],
   "source": [
    "# Import the prewritten helper functions\n",
    "from py_helper_functions import *"
   ]
  },
  {
   "cell_type": "raw",
   "metadata": {},
   "source": [
    "# DATA IMPORT - FROM FILE\n",
    "data = pd.read_csv(os.path.join(data_path, 'airbnb_london_workfile_adj_book.csv'))"
   ]
  },
  {
   "cell_type": "code",
   "execution_count": 6,
   "metadata": {},
   "outputs": [],
   "source": [
    "# DATA IMPORT - FROM GITHUB\n",
    "data = pd.read_csv('https://raw.githubusercontent.com/peterduronelly/DA3-Python-Codes/main/data/airbnb_london_workfile_adj_book.csv')"
   ]
  },
  {
   "cell_type": "code",
   "execution_count": 7,
   "metadata": {},
   "outputs": [
    {
     "data": {
      "text/html": [
       "<div>\n",
       "<style scoped>\n",
       "    .dataframe tbody tr th:only-of-type {\n",
       "        vertical-align: middle;\n",
       "    }\n",
       "\n",
       "    .dataframe tbody tr th {\n",
       "        vertical-align: top;\n",
       "    }\n",
       "\n",
       "    .dataframe thead th {\n",
       "        text-align: right;\n",
       "    }\n",
       "</style>\n",
       "<table border=\"1\" class=\"dataframe\">\n",
       "  <thead>\n",
       "    <tr style=\"text-align: right;\">\n",
       "      <th></th>\n",
       "      <th>f_property_type</th>\n",
       "      <th>f_room_type</th>\n",
       "      <th>f_room_type2</th>\n",
       "      <th>f_cancellation_policy</th>\n",
       "      <th>f_bed_type</th>\n",
       "      <th>f_neighbourhood_cleansed</th>\n",
       "      <th>usd_price_day</th>\n",
       "      <th>n_accommodates</th>\n",
       "      <th>n_bathrooms</th>\n",
       "      <th>n_review_scores_rating</th>\n",
       "      <th>...</th>\n",
       "      <th>flag_days_since</th>\n",
       "      <th>flag_review_scores_rating</th>\n",
       "      <th>flag_reviews_per_month</th>\n",
       "      <th>flag_n_number_of_reviews</th>\n",
       "      <th>ln_days_since</th>\n",
       "      <th>ln_days_since2</th>\n",
       "      <th>ln_days_since3</th>\n",
       "      <th>n_days_since2</th>\n",
       "      <th>n_days_since3</th>\n",
       "      <th>ln_review_scores_rating</th>\n",
       "    </tr>\n",
       "  </thead>\n",
       "  <tbody>\n",
       "    <tr>\n",
       "      <th>0</th>\n",
       "      <td>Apartment</td>\n",
       "      <td>Private room</td>\n",
       "      <td>Private</td>\n",
       "      <td>flexible</td>\n",
       "      <td>Real Bed</td>\n",
       "      <td>Kingston upon Thames</td>\n",
       "      <td>23</td>\n",
       "      <td>1</td>\n",
       "      <td>1.0</td>\n",
       "      <td>100</td>\n",
       "      <td>...</td>\n",
       "      <td>0</td>\n",
       "      <td>0</td>\n",
       "      <td>0</td>\n",
       "      <td>0</td>\n",
       "      <td>4.532599</td>\n",
       "      <td>20.544458</td>\n",
       "      <td>93.119801</td>\n",
       "      <td>8464</td>\n",
       "      <td>778688</td>\n",
       "      <td>4.605170</td>\n",
       "    </tr>\n",
       "    <tr>\n",
       "      <th>1</th>\n",
       "      <td>Apartment</td>\n",
       "      <td>Private room</td>\n",
       "      <td>Private</td>\n",
       "      <td>moderate</td>\n",
       "      <td>Couch</td>\n",
       "      <td>Kingston upon Thames</td>\n",
       "      <td>50</td>\n",
       "      <td>2</td>\n",
       "      <td>1.0</td>\n",
       "      <td>91</td>\n",
       "      <td>...</td>\n",
       "      <td>0</td>\n",
       "      <td>0</td>\n",
       "      <td>0</td>\n",
       "      <td>0</td>\n",
       "      <td>6.510258</td>\n",
       "      <td>42.383464</td>\n",
       "      <td>275.927298</td>\n",
       "      <td>450241</td>\n",
       "      <td>302111711</td>\n",
       "      <td>4.510860</td>\n",
       "    </tr>\n",
       "    <tr>\n",
       "      <th>2</th>\n",
       "      <td>Apartment</td>\n",
       "      <td>Private room</td>\n",
       "      <td>Private</td>\n",
       "      <td>flexible</td>\n",
       "      <td>Real Bed</td>\n",
       "      <td>Kingston upon Thames</td>\n",
       "      <td>24</td>\n",
       "      <td>2</td>\n",
       "      <td>1.0</td>\n",
       "      <td>80</td>\n",
       "      <td>...</td>\n",
       "      <td>0</td>\n",
       "      <td>0</td>\n",
       "      <td>0</td>\n",
       "      <td>0</td>\n",
       "      <td>5.493061</td>\n",
       "      <td>30.173724</td>\n",
       "      <td>165.746120</td>\n",
       "      <td>58564</td>\n",
       "      <td>14172488</td>\n",
       "      <td>4.382027</td>\n",
       "    </tr>\n",
       "    <tr>\n",
       "      <th>3</th>\n",
       "      <td>House</td>\n",
       "      <td>Private room</td>\n",
       "      <td>Private</td>\n",
       "      <td>flexible</td>\n",
       "      <td>Real Bed</td>\n",
       "      <td>Kingston upon Thames</td>\n",
       "      <td>50</td>\n",
       "      <td>2</td>\n",
       "      <td>1.5</td>\n",
       "      <td>94</td>\n",
       "      <td>...</td>\n",
       "      <td>1</td>\n",
       "      <td>1</td>\n",
       "      <td>1</td>\n",
       "      <td>1</td>\n",
       "      <td>5.793014</td>\n",
       "      <td>33.559007</td>\n",
       "      <td>194.407782</td>\n",
       "      <td>106929</td>\n",
       "      <td>34965783</td>\n",
       "      <td>4.543295</td>\n",
       "    </tr>\n",
       "    <tr>\n",
       "      <th>4</th>\n",
       "      <td>House</td>\n",
       "      <td>Private room</td>\n",
       "      <td>Private</td>\n",
       "      <td>flexible</td>\n",
       "      <td>Real Bed</td>\n",
       "      <td>Kingston upon Thames</td>\n",
       "      <td>25</td>\n",
       "      <td>1</td>\n",
       "      <td>1.0</td>\n",
       "      <td>94</td>\n",
       "      <td>...</td>\n",
       "      <td>1</td>\n",
       "      <td>1</td>\n",
       "      <td>1</td>\n",
       "      <td>1</td>\n",
       "      <td>5.793014</td>\n",
       "      <td>33.559007</td>\n",
       "      <td>194.407782</td>\n",
       "      <td>106929</td>\n",
       "      <td>34965783</td>\n",
       "      <td>4.543295</td>\n",
       "    </tr>\n",
       "  </tbody>\n",
       "</table>\n",
       "<p>5 rows × 92 columns</p>\n",
       "</div>"
      ],
      "text/plain": [
       "  f_property_type   f_room_type f_room_type2 f_cancellation_policy f_bed_type  \\\n",
       "0       Apartment  Private room      Private              flexible   Real Bed   \n",
       "1       Apartment  Private room      Private              moderate      Couch   \n",
       "2       Apartment  Private room      Private              flexible   Real Bed   \n",
       "3           House  Private room      Private              flexible   Real Bed   \n",
       "4           House  Private room      Private              flexible   Real Bed   \n",
       "\n",
       "  f_neighbourhood_cleansed  usd_price_day  n_accommodates  n_bathrooms  \\\n",
       "0     Kingston upon Thames             23               1          1.0   \n",
       "1     Kingston upon Thames             50               2          1.0   \n",
       "2     Kingston upon Thames             24               2          1.0   \n",
       "3     Kingston upon Thames             50               2          1.5   \n",
       "4     Kingston upon Thames             25               1          1.0   \n",
       "\n",
       "   n_review_scores_rating  ...  flag_days_since  flag_review_scores_rating  \\\n",
       "0                     100  ...                0                          0   \n",
       "1                      91  ...                0                          0   \n",
       "2                      80  ...                0                          0   \n",
       "3                      94  ...                1                          1   \n",
       "4                      94  ...                1                          1   \n",
       "\n",
       "   flag_reviews_per_month  flag_n_number_of_reviews  ln_days_since  \\\n",
       "0                       0                         0       4.532599   \n",
       "1                       0                         0       6.510258   \n",
       "2                       0                         0       5.493061   \n",
       "3                       1                         1       5.793014   \n",
       "4                       1                         1       5.793014   \n",
       "\n",
       "   ln_days_since2  ln_days_since3  n_days_since2  n_days_since3  \\\n",
       "0       20.544458       93.119801           8464         778688   \n",
       "1       42.383464      275.927298         450241      302111711   \n",
       "2       30.173724      165.746120          58564       14172488   \n",
       "3       33.559007      194.407782         106929       34965783   \n",
       "4       33.559007      194.407782         106929       34965783   \n",
       "\n",
       "   ln_review_scores_rating  \n",
       "0                 4.605170  \n",
       "1                 4.510860  \n",
       "2                 4.382027  \n",
       "3                 4.543295  \n",
       "4                 4.543295  \n",
       "\n",
       "[5 rows x 92 columns]"
      ]
     },
     "execution_count": 7,
     "metadata": {},
     "output_type": "execute_result"
    }
   ],
   "source": [
    "data.head()"
   ]
  },
  {
   "cell_type": "code",
   "execution_count": 8,
   "metadata": {},
   "outputs": [
    {
     "name": "stdout",
     "output_type": "stream",
     "text": [
      "<class 'pandas.core.frame.DataFrame'>\n",
      "RangeIndex: 51646 entries, 0 to 51645\n",
      "Data columns (total 92 columns):\n",
      " #   Column                     Non-Null Count  Dtype  \n",
      "---  ------                     --------------  -----  \n",
      " 0   f_property_type            51646 non-null  object \n",
      " 1   f_room_type                51646 non-null  object \n",
      " 2   f_room_type2               51646 non-null  object \n",
      " 3   f_cancellation_policy      51646 non-null  object \n",
      " 4   f_bed_type                 51646 non-null  object \n",
      " 5   f_neighbourhood_cleansed   51646 non-null  object \n",
      " 6   usd_price_day              51646 non-null  int64  \n",
      " 7   n_accommodates             51646 non-null  int64  \n",
      " 8   n_bathrooms                51646 non-null  float64\n",
      " 9   n_review_scores_rating     51646 non-null  int64  \n",
      " 10  n_number_of_reviews        51646 non-null  int64  \n",
      " 11  n_guests_included          51646 non-null  int64  \n",
      " 12  n_reviews_per_month        51646 non-null  float64\n",
      " 13  n_extra_people             51646 non-null  int64  \n",
      " 14  n_minimum_nights           51646 non-null  int64  \n",
      " 15  n_beds                     51646 non-null  int64  \n",
      " 16  n_days_since               51646 non-null  int64  \n",
      " 17  d_24hourcheckin            51646 non-null  int64  \n",
      " 18  d_airconditioning          51646 non-null  int64  \n",
      " 19  d_breakfast                51646 non-null  int64  \n",
      " 20  d_buzzerwirelessintercom   51646 non-null  int64  \n",
      " 21  d_cabletv                  51646 non-null  int64  \n",
      " 22  d_carbonmonoxidedetector   51646 non-null  int64  \n",
      " 23  d_cats                     51646 non-null  int64  \n",
      " 24  d_dogs                     51646 non-null  int64  \n",
      " 25  d_doorman                  51646 non-null  int64  \n",
      " 26  d_doormanentry             51646 non-null  int64  \n",
      " 27  d_dryer                    51646 non-null  int64  \n",
      " 28  d_elevatorinbuilding       51646 non-null  int64  \n",
      " 29  d_essentials               51646 non-null  int64  \n",
      " 30  d_familykidfriendly        51646 non-null  int64  \n",
      " 31  d_fireextinguisher         51646 non-null  int64  \n",
      " 32  d_firstaidkit              51646 non-null  int64  \n",
      " 33  d_freeparkingonpremises    51646 non-null  int64  \n",
      " 34  d_freeparkingonstreet      51646 non-null  int64  \n",
      " 35  d_gym                      51646 non-null  int64  \n",
      " 36  d_hairdryer                51646 non-null  int64  \n",
      " 37  d_hangers                  51646 non-null  int64  \n",
      " 38  d_heating                  51646 non-null  int64  \n",
      " 39  d_hottub                   51646 non-null  int64  \n",
      " 40  d_indoorfireplace          51646 non-null  int64  \n",
      " 41  d_internet                 51646 non-null  int64  \n",
      " 42  d_iron                     51646 non-null  int64  \n",
      " 43  d_keypad                   51646 non-null  int64  \n",
      " 44  d_kitchen                  51646 non-null  int64  \n",
      " 45  d_laptopfriendlyworkspace  51646 non-null  int64  \n",
      " 46  d_lockonbedroomdoor        51646 non-null  int64  \n",
      " 47  d_lockbox                  51646 non-null  int64  \n",
      " 48  d_otherpets                51646 non-null  int64  \n",
      " 49  d_paidparkingoffpremises   51646 non-null  int64  \n",
      " 50  d_petsallowed              51646 non-null  int64  \n",
      " 51  d_petsliveonthisproperty   51646 non-null  int64  \n",
      " 52  d_pool                     51646 non-null  int64  \n",
      " 53  d_privateentrance          51646 non-null  int64  \n",
      " 54  d_privatelivingroom        51646 non-null  int64  \n",
      " 55  d_safetycard               51646 non-null  int64  \n",
      " 56  d_selfcheckin              51646 non-null  int64  \n",
      " 57  d_shampoo                  51646 non-null  int64  \n",
      " 58  d_smartlock                51646 non-null  int64  \n",
      " 59  d_smokedetector            51646 non-null  int64  \n",
      " 60  d_smokingallowed           51646 non-null  int64  \n",
      " 61  d_suitableforevents        51646 non-null  int64  \n",
      " 62  d_tv                       51646 non-null  int64  \n",
      " 63  d_washer                   51646 non-null  int64  \n",
      " 64  d_washerdryer              51646 non-null  int64  \n",
      " 65  d_wheelchairaccessible     51646 non-null  int64  \n",
      " 66  d_wirelessinternet         51646 non-null  int64  \n",
      " 67  price                      51646 non-null  int64  \n",
      " 68  id                         51646 non-null  int64  \n",
      " 69  neighbourhood_cleansed     51646 non-null  object \n",
      " 70  cancellation_policy        51646 non-null  object \n",
      " 71  room_type                  51646 non-null  object \n",
      " 72  property_type              51646 non-null  object \n",
      " 73  ln_price                   51646 non-null  float64\n",
      " 74  n_accommodates2            51646 non-null  int64  \n",
      " 75  ln_accommodates            51646 non-null  float64\n",
      " 76  ln_accommodates2           51646 non-null  float64\n",
      " 77  ln_beds                    51646 non-null  float64\n",
      " 78  ln_number_of_reviews       51646 non-null  float64\n",
      " 79  f_bathroom                 51646 non-null  int64  \n",
      " 80  f_number_of_reviews        51646 non-null  int64  \n",
      " 81  f_minimum_nights           51646 non-null  int64  \n",
      " 82  flag_days_since            51646 non-null  int64  \n",
      " 83  flag_review_scores_rating  51646 non-null  int64  \n",
      " 84  flag_reviews_per_month     51646 non-null  int64  \n",
      " 85  flag_n_number_of_reviews   51646 non-null  int64  \n",
      " 86  ln_days_since              51646 non-null  float64\n",
      " 87  ln_days_since2             51646 non-null  float64\n",
      " 88  ln_days_since3             51646 non-null  float64\n",
      " 89  n_days_since2              51646 non-null  int64  \n",
      " 90  n_days_since3              51646 non-null  int64  \n",
      " 91  ln_review_scores_rating    51646 non-null  float64\n",
      "dtypes: float64(11), int64(71), object(10)\n",
      "memory usage: 36.3+ MB\n"
     ]
    }
   ],
   "source": [
    "data.info()"
   ]
  },
  {
   "cell_type": "code",
   "execution_count": 9,
   "metadata": {},
   "outputs": [
    {
     "data": {
      "text/plain": [
       "0"
      ]
     },
     "execution_count": 9,
     "metadata": {},
     "output_type": "execute_result"
    }
   ],
   "source": [
    "data.isna().sum().sum()"
   ]
  },
  {
   "cell_type": "markdown",
   "metadata": {},
   "source": [
    "### EDA"
   ]
  },
  {
   "cell_type": "code",
   "execution_count": 10,
   "metadata": {},
   "outputs": [],
   "source": [
    "# We focus on normal apartments, n<8\n",
    "data = data[data.n_accommodates < 8]"
   ]
  },
  {
   "cell_type": "code",
   "execution_count": 11,
   "metadata": {
    "tags": []
   },
   "outputs": [
    {
     "data": {
      "text/plain": [
       "(49826, 92)"
      ]
     },
     "execution_count": 11,
     "metadata": {},
     "output_type": "execute_result"
    }
   ],
   "source": [
    "data.shape"
   ]
  },
  {
   "cell_type": "code",
   "execution_count": 12,
   "metadata": {},
   "outputs": [],
   "source": [
    "# copy a variable - purpose later, see at variable importance\n",
    "data['n_accommodates_copy'] = data['n_accommodates']"
   ]
  },
  {
   "cell_type": "markdown",
   "metadata": {},
   "source": [
    "***numerical variables***"
   ]
  },
  {
   "cell_type": "code",
   "execution_count": 13,
   "metadata": {},
   "outputs": [
    {
     "data": {
      "text/html": [
       "<div>\n",
       "<style scoped>\n",
       "    .dataframe tbody tr th:only-of-type {\n",
       "        vertical-align: middle;\n",
       "    }\n",
       "\n",
       "    .dataframe tbody tr th {\n",
       "        vertical-align: top;\n",
       "    }\n",
       "\n",
       "    .dataframe thead th {\n",
       "        text-align: right;\n",
       "    }\n",
       "</style>\n",
       "<table border=\"1\" class=\"dataframe\">\n",
       "  <thead>\n",
       "    <tr style=\"text-align: right;\">\n",
       "      <th></th>\n",
       "      <th>count</th>\n",
       "      <th>mean</th>\n",
       "      <th>std</th>\n",
       "      <th>min</th>\n",
       "      <th>25%</th>\n",
       "      <th>50%</th>\n",
       "      <th>75%</th>\n",
       "      <th>max</th>\n",
       "    </tr>\n",
       "  </thead>\n",
       "  <tbody>\n",
       "    <tr>\n",
       "      <th>usd_price_day</th>\n",
       "      <td>49826.0</td>\n",
       "      <td>8.898404e+01</td>\n",
       "      <td>7.051509e+01</td>\n",
       "      <td>8.000000</td>\n",
       "      <td>4.100000e+01</td>\n",
       "      <td>7.000000e+01</td>\n",
       "      <td>1.100000e+02</td>\n",
       "      <td>9.990000e+02</td>\n",
       "    </tr>\n",
       "    <tr>\n",
       "      <th>n_accommodates</th>\n",
       "      <td>49826.0</td>\n",
       "      <td>2.838759e+00</td>\n",
       "      <td>1.494748e+00</td>\n",
       "      <td>1.000000</td>\n",
       "      <td>2.000000e+00</td>\n",
       "      <td>2.000000e+00</td>\n",
       "      <td>4.000000e+00</td>\n",
       "      <td>7.000000e+00</td>\n",
       "    </tr>\n",
       "    <tr>\n",
       "      <th>n_bathrooms</th>\n",
       "      <td>49826.0</td>\n",
       "      <td>1.224260e+00</td>\n",
       "      <td>4.664481e-01</td>\n",
       "      <td>0.000000</td>\n",
       "      <td>1.000000e+00</td>\n",
       "      <td>1.000000e+00</td>\n",
       "      <td>1.000000e+00</td>\n",
       "      <td>8.000000e+00</td>\n",
       "    </tr>\n",
       "    <tr>\n",
       "      <th>n_review_scores_rating</th>\n",
       "      <td>49826.0</td>\n",
       "      <td>9.245862e+01</td>\n",
       "      <td>8.418474e+00</td>\n",
       "      <td>20.000000</td>\n",
       "      <td>9.200000e+01</td>\n",
       "      <td>9.400000e+01</td>\n",
       "      <td>9.700000e+01</td>\n",
       "      <td>1.000000e+02</td>\n",
       "    </tr>\n",
       "    <tr>\n",
       "      <th>n_number_of_reviews</th>\n",
       "      <td>49826.0</td>\n",
       "      <td>1.234014e+01</td>\n",
       "      <td>2.588993e+01</td>\n",
       "      <td>0.000000</td>\n",
       "      <td>0.000000e+00</td>\n",
       "      <td>3.000000e+00</td>\n",
       "      <td>1.200000e+01</td>\n",
       "      <td>3.960000e+02</td>\n",
       "    </tr>\n",
       "    <tr>\n",
       "      <th>...</th>\n",
       "      <td>...</td>\n",
       "      <td>...</td>\n",
       "      <td>...</td>\n",
       "      <td>...</td>\n",
       "      <td>...</td>\n",
       "      <td>...</td>\n",
       "      <td>...</td>\n",
       "      <td>...</td>\n",
       "    </tr>\n",
       "    <tr>\n",
       "      <th>ln_days_since3</th>\n",
       "      <td>49826.0</td>\n",
       "      <td>1.996072e+02</td>\n",
       "      <td>8.026405e+01</td>\n",
       "      <td>0.000000</td>\n",
       "      <td>1.604325e+02</td>\n",
       "      <td>1.944078e+02</td>\n",
       "      <td>2.411713e+02</td>\n",
       "      <td>4.948179e+02</td>\n",
       "    </tr>\n",
       "    <tr>\n",
       "      <th>n_days_since2</th>\n",
       "      <td>49826.0</td>\n",
       "      <td>2.931985e+05</td>\n",
       "      <td>5.640361e+05</td>\n",
       "      <td>0.000000</td>\n",
       "      <td>5.198400e+04</td>\n",
       "      <td>1.069290e+05</td>\n",
       "      <td>2.540160e+05</td>\n",
       "      <td>7.409284e+06</td>\n",
       "    </tr>\n",
       "    <tr>\n",
       "      <th>n_days_since3</th>\n",
       "      <td>49826.0</td>\n",
       "      <td>3.046539e+08</td>\n",
       "      <td>9.636140e+08</td>\n",
       "      <td>0.000000</td>\n",
       "      <td>1.185235e+07</td>\n",
       "      <td>3.496578e+07</td>\n",
       "      <td>1.280241e+08</td>\n",
       "      <td>2.016807e+10</td>\n",
       "    </tr>\n",
       "    <tr>\n",
       "      <th>ln_review_scores_rating</th>\n",
       "      <td>49826.0</td>\n",
       "      <td>4.520910e+00</td>\n",
       "      <td>1.204214e-01</td>\n",
       "      <td>2.995732</td>\n",
       "      <td>4.521789e+00</td>\n",
       "      <td>4.543295e+00</td>\n",
       "      <td>4.574711e+00</td>\n",
       "      <td>4.605170e+00</td>\n",
       "    </tr>\n",
       "    <tr>\n",
       "      <th>n_accommodates_copy</th>\n",
       "      <td>49826.0</td>\n",
       "      <td>2.838759e+00</td>\n",
       "      <td>1.494748e+00</td>\n",
       "      <td>1.000000</td>\n",
       "      <td>2.000000e+00</td>\n",
       "      <td>2.000000e+00</td>\n",
       "      <td>4.000000e+00</td>\n",
       "      <td>7.000000e+00</td>\n",
       "    </tr>\n",
       "  </tbody>\n",
       "</table>\n",
       "<p>83 rows × 8 columns</p>\n",
       "</div>"
      ],
      "text/plain": [
       "                           count          mean           std        min  \\\n",
       "usd_price_day            49826.0  8.898404e+01  7.051509e+01   8.000000   \n",
       "n_accommodates           49826.0  2.838759e+00  1.494748e+00   1.000000   \n",
       "n_bathrooms              49826.0  1.224260e+00  4.664481e-01   0.000000   \n",
       "n_review_scores_rating   49826.0  9.245862e+01  8.418474e+00  20.000000   \n",
       "n_number_of_reviews      49826.0  1.234014e+01  2.588993e+01   0.000000   \n",
       "...                          ...           ...           ...        ...   \n",
       "ln_days_since3           49826.0  1.996072e+02  8.026405e+01   0.000000   \n",
       "n_days_since2            49826.0  2.931985e+05  5.640361e+05   0.000000   \n",
       "n_days_since3            49826.0  3.046539e+08  9.636140e+08   0.000000   \n",
       "ln_review_scores_rating  49826.0  4.520910e+00  1.204214e-01   2.995732   \n",
       "n_accommodates_copy      49826.0  2.838759e+00  1.494748e+00   1.000000   \n",
       "\n",
       "                                  25%           50%           75%  \\\n",
       "usd_price_day            4.100000e+01  7.000000e+01  1.100000e+02   \n",
       "n_accommodates           2.000000e+00  2.000000e+00  4.000000e+00   \n",
       "n_bathrooms              1.000000e+00  1.000000e+00  1.000000e+00   \n",
       "n_review_scores_rating   9.200000e+01  9.400000e+01  9.700000e+01   \n",
       "n_number_of_reviews      0.000000e+00  3.000000e+00  1.200000e+01   \n",
       "...                               ...           ...           ...   \n",
       "ln_days_since3           1.604325e+02  1.944078e+02  2.411713e+02   \n",
       "n_days_since2            5.198400e+04  1.069290e+05  2.540160e+05   \n",
       "n_days_since3            1.185235e+07  3.496578e+07  1.280241e+08   \n",
       "ln_review_scores_rating  4.521789e+00  4.543295e+00  4.574711e+00   \n",
       "n_accommodates_copy      2.000000e+00  2.000000e+00  4.000000e+00   \n",
       "\n",
       "                                  max  \n",
       "usd_price_day            9.990000e+02  \n",
       "n_accommodates           7.000000e+00  \n",
       "n_bathrooms              8.000000e+00  \n",
       "n_review_scores_rating   1.000000e+02  \n",
       "n_number_of_reviews      3.960000e+02  \n",
       "...                               ...  \n",
       "ln_days_since3           4.948179e+02  \n",
       "n_days_since2            7.409284e+06  \n",
       "n_days_since3            2.016807e+10  \n",
       "ln_review_scores_rating  4.605170e+00  \n",
       "n_accommodates_copy      7.000000e+00  \n",
       "\n",
       "[83 rows x 8 columns]"
      ]
     },
     "execution_count": 13,
     "metadata": {},
     "output_type": "execute_result"
    }
   ],
   "source": [
    "# too long to display and read\n",
    "data.describe().T"
   ]
  },
  {
   "cell_type": "code",
   "execution_count": 14,
   "metadata": {
    "tags": []
   },
   "outputs": [
    {
     "data": {
      "text/plain": [
       "count    49,826.0\n",
       "mean         89.0\n",
       "std          70.5\n",
       "min           8.0\n",
       "1%           20.0\n",
       "10%          30.0\n",
       "25%          41.0\n",
       "50%          70.0\n",
       "75%         110.0\n",
       "90%         169.0\n",
       "99%         350.0\n",
       "max         999.0\n",
       "Name: price, dtype: object"
      ]
     },
     "execution_count": 14,
     "metadata": {},
     "output_type": "execute_result"
    }
   ],
   "source": [
    "data.price.describe(percentiles = [0.01, 0.1, 0.25, 0.5, 0.75, 0.9, 0.99]).map('{:,.1f}'.format)"
   ]
  },
  {
   "cell_type": "markdown",
   "metadata": {},
   "source": [
    "***categorical variables***"
   ]
  },
  {
   "cell_type": "code",
   "execution_count": 15,
   "metadata": {
    "tags": []
   },
   "outputs": [
    {
     "data": {
      "text/plain": [
       "f_room_type\n",
       "Entire home/apt    24938\n",
       "Private room       24351\n",
       "Shared room          537\n",
       "Name: count, dtype: int64"
      ]
     },
     "execution_count": 15,
     "metadata": {},
     "output_type": "execute_result"
    }
   ],
   "source": [
    "data.f_room_type.value_counts()"
   ]
  },
  {
   "cell_type": "code",
   "execution_count": 16,
   "metadata": {
    "tags": []
   },
   "outputs": [
    {
     "data": {
      "text/plain": [
       "f_property_type\n",
       "Apartment    37467\n",
       "House        12359\n",
       "Name: count, dtype: int64"
      ]
     },
     "execution_count": 16,
     "metadata": {},
     "output_type": "execute_result"
    }
   ],
   "source": [
    "data.f_property_type.value_counts()"
   ]
  },
  {
   "cell_type": "code",
   "execution_count": 17,
   "metadata": {
    "tags": []
   },
   "outputs": [
    {
     "data": {
      "text/plain": [
       "f_number_of_reviews\n",
       "2    31575\n",
       "1    15148\n",
       "3     3103\n",
       "Name: count, dtype: int64"
      ]
     },
     "execution_count": 17,
     "metadata": {},
     "output_type": "execute_result"
    }
   ],
   "source": [
    "data.f_number_of_reviews.value_counts()"
   ]
  },
  {
   "cell_type": "code",
   "execution_count": 18,
   "metadata": {
    "tags": []
   },
   "outputs": [
    {
     "data": {
      "text/plain": [
       "f_neighbourhood_cleansed\n",
       "Tower Hamlets             5237\n",
       "Westminster               5025\n",
       "Hackney                   4393\n",
       "Camden                    3463\n",
       "Islington                 3399\n",
       "Kensington and Chelsea    3247\n",
       "Southwark                 3144\n",
       "Lambeth                   3065\n",
       "Hammersmith and Fulham    2567\n",
       "Wandsworth                2506\n",
       "Brent                     1479\n",
       "Lewisham                  1420\n",
       "Haringey                  1343\n",
       "Newham                    1078\n",
       "Barnet                     890\n",
       "Ealing                     880\n",
       "Waltham Forest             842\n",
       "Greenwich                  836\n",
       "Richmond upon Thames       754\n",
       "Merton                     743\n",
       "Hounslow                   557\n",
       "Croydon                    504\n",
       "Bromley                    341\n",
       "Redbridge                  337\n",
       "City of London             295\n",
       "Enfield                    273\n",
       "Kingston upon Thames       267\n",
       "Hillingdon                 240\n",
       "Harrow                     234\n",
       "Sutton                     139\n",
       "Barking and Dagenham       133\n",
       "Bexley                     110\n",
       "Havering                    85\n",
       "Name: count, dtype: int64"
      ]
     },
     "execution_count": 18,
     "metadata": {},
     "output_type": "execute_result"
    }
   ],
   "source": [
    "data.f_neighbourhood_cleansed.value_counts()"
   ]
  },
  {
   "cell_type": "markdown",
   "metadata": {},
   "source": [
    "***split train and test***\n",
    "- train is where we do it all, incl CV\n",
    "\n",
    "- first pick a smaller than usual training set so that models run faster and check if works\n",
    "- if works, start anew without these two lines"
   ]
  },
  {
   "cell_type": "code",
   "execution_count": 19,
   "metadata": {
    "tags": []
   },
   "outputs": [],
   "source": [
    "data_train, data_holdout = train_test_split( data, train_size=0.7, random_state=42)"
   ]
  },
  {
   "cell_type": "code",
   "execution_count": 20,
   "metadata": {
    "tags": []
   },
   "outputs": [
    {
     "data": {
      "text/plain": [
       "((34878, 93), (14948, 93))"
      ]
     },
     "execution_count": 20,
     "metadata": {},
     "output_type": "execute_result"
    }
   ],
   "source": [
    "data_train.shape, data_holdout.shape"
   ]
  },
  {
   "cell_type": "code",
   "execution_count": 21,
   "metadata": {},
   "outputs": [],
   "source": [
    "# basic variables inc neighbourhood\n",
    "basic_vars = [\n",
    "    \"n_accommodates\",\n",
    "    \"n_beds\",\n",
    "    \"n_days_since\",\n",
    "    \"f_property_type\",\n",
    "    \"f_room_type\",\n",
    "    \"f_bathroom\",\n",
    "    \"f_cancellation_policy\",\n",
    "    \"f_bed_type\",\n",
    "    \"f_neighbourhood_cleansed\",\n",
    "]\n",
    "\n",
    "# reviews\n",
    "reviews = [\n",
    "    \"n_number_of_reviews\",\n",
    "    \"flag_n_number_of_reviews\",\n",
    "    \"n_review_scores_rating\",\n",
    "    \"flag_review_scores_rating\",\n",
    "]\n",
    "\n",
    "# dummy variables\n",
    "amenities = [col for col in data if col.startswith(\"d_\")]\n",
    "\n",
    "# interactions for the LASSO\n",
    "# from ch14\n",
    "X1 = [\n",
    "    \"n_accommodates:f_property_type\",\n",
    "    \"f_room_type:f_property_type\",\n",
    "    \"f_room_type:d_familykidfriendly\",\n",
    "    \"d_airconditioning:f_property_type\",\n",
    "    \"d_cats:f_property_type\",\n",
    "    \"d_dogs:f_property_type\",\n",
    "]\n",
    "# with boroughs\n",
    "X2 = [\n",
    "    \"f_property_type:f_neighbourhood_cleansed\",\n",
    "    \"f_room_type:f_neighbourhood_cleansed\",\n",
    "    \"n_accommodates:f_neighbourhood_cleansed\",\n",
    "]"
   ]
  },
  {
   "cell_type": "code",
   "execution_count": 22,
   "metadata": {},
   "outputs": [],
   "source": [
    "predictors_1 = basic_vars\n",
    "predictors_2 = basic_vars + reviews + amenities\n",
    "predictors_E = basic_vars + reviews + amenities + X1 + X2"
   ]
  },
  {
   "cell_type": "markdown",
   "metadata": {
    "tags": []
   },
   "source": [
    "### Random forest"
   ]
  },
  {
   "cell_type": "markdown",
   "metadata": {},
   "source": [
    "For data preparation we are using the [patsy](https://patsy.readthedocs.io/en/latest/overview.html) package (not [this](https://montypython.fandom.com/wiki/Patsy) Patsy, bur almost). `patsy` is a Python package for describing statistical models (especially linear models, or models that have a linear component) and building design matrices. It is closely inspired by and compatible with the formula mini-language used in R and S."
   ]
  },
  {
   "cell_type": "code",
   "execution_count": 23,
   "metadata": {},
   "outputs": [],
   "source": [
    "y, X = dmatrices(\"price ~ \" + \" + \".join(predictors_2), data_train)"
   ]
  },
  {
   "cell_type": "markdown",
   "metadata": {},
   "source": [
    "`dmatrices()` constructs two design matrices given a formula_like and data. By convention, the first matrix is the “outcome” or “y” data, and the second is the “predictor” or “x” data."
   ]
  },
  {
   "cell_type": "markdown",
   "metadata": {},
   "source": [
    "What is X?"
   ]
  },
  {
   "cell_type": "code",
   "execution_count": 24,
   "metadata": {
    "tags": []
   },
   "outputs": [
    {
     "data": {
      "text/plain": [
       "patsy.design_info.DesignMatrix"
      ]
     },
     "execution_count": 24,
     "metadata": {},
     "output_type": "execute_result"
    }
   ],
   "source": [
    "type(X)"
   ]
  },
  {
   "cell_type": "code",
   "execution_count": 25,
   "metadata": {
    "tags": []
   },
   "outputs": [
    {
     "data": {
      "text/plain": [
       "DesignMatrix with shape (34878, 97)\n",
       "  Columns:\n",
       "    ['Intercept',\n",
       "     'f_property_type[T.House]',\n",
       "     'f_room_type[T.Private room]',\n",
       "     'f_room_type[T.Shared room]',\n",
       "     'f_cancellation_policy[T.moderate]',\n",
       "     'f_cancellation_policy[T.strict]',\n",
       "     'f_bed_type[T.Real Bed]',\n",
       "     'f_neighbourhood_cleansed[T.Barnet]',\n",
       "     'f_neighbourhood_cleansed[T.Bexley]',\n",
       "     'f_neighbourhood_cleansed[T.Brent]',\n",
       "     'f_neighbourhood_cleansed[T.Bromley]',\n",
       "     'f_neighbourhood_cleansed[T.Camden]',\n",
       "     'f_neighbourhood_cleansed[T.City of London]',\n",
       "     'f_neighbourhood_cleansed[T.Croydon]',\n",
       "     'f_neighbourhood_cleansed[T.Ealing]',\n",
       "     'f_neighbourhood_cleansed[T.Enfield]',\n",
       "     'f_neighbourhood_cleansed[T.Greenwich]',\n",
       "     'f_neighbourhood_cleansed[T.Hackney]',\n",
       "     'f_neighbourhood_cleansed[T.Hammersmith and Fulham]',\n",
       "     'f_neighbourhood_cleansed[T.Haringey]',\n",
       "     'f_neighbourhood_cleansed[T.Harrow]',\n",
       "     'f_neighbourhood_cleansed[T.Havering]',\n",
       "     'f_neighbourhood_cleansed[T.Hillingdon]',\n",
       "     'f_neighbourhood_cleansed[T.Hounslow]',\n",
       "     'f_neighbourhood_cleansed[T.Islington]',\n",
       "     'f_neighbourhood_cleansed[T.Kensington and Chelsea]',\n",
       "     'f_neighbourhood_cleansed[T.Kingston upon Thames]',\n",
       "     'f_neighbourhood_cleansed[T.Lambeth]',\n",
       "     'f_neighbourhood_cleansed[T.Lewisham]',\n",
       "     'f_neighbourhood_cleansed[T.Merton]',\n",
       "     'f_neighbourhood_cleansed[T.Newham]',\n",
       "     'f_neighbourhood_cleansed[T.Redbridge]',\n",
       "     'f_neighbourhood_cleansed[T.Richmond upon Thames]',\n",
       "     'f_neighbourhood_cleansed[T.Southwark]',\n",
       "     'f_neighbourhood_cleansed[T.Sutton]',\n",
       "     'f_neighbourhood_cleansed[T.Tower Hamlets]',\n",
       "     'f_neighbourhood_cleansed[T.Waltham Forest]',\n",
       "     'f_neighbourhood_cleansed[T.Wandsworth]',\n",
       "     'f_neighbourhood_cleansed[T.Westminster]',\n",
       "     'n_accommodates',\n",
       "     'n_beds',\n",
       "     'n_days_since',\n",
       "     'f_bathroom',\n",
       "     'n_number_of_reviews',\n",
       "     'flag_n_number_of_reviews',\n",
       "     'n_review_scores_rating',\n",
       "     'flag_review_scores_rating',\n",
       "     'd_24hourcheckin',\n",
       "     'd_airconditioning',\n",
       "     'd_breakfast',\n",
       "     'd_buzzerwirelessintercom',\n",
       "     'd_cabletv',\n",
       "     'd_carbonmonoxidedetector',\n",
       "     'd_cats',\n",
       "     'd_dogs',\n",
       "     'd_doorman',\n",
       "     'd_doormanentry',\n",
       "     'd_dryer',\n",
       "     'd_elevatorinbuilding',\n",
       "     'd_essentials',\n",
       "     'd_familykidfriendly',\n",
       "     'd_fireextinguisher',\n",
       "     'd_firstaidkit',\n",
       "     'd_freeparkingonpremises',\n",
       "     'd_freeparkingonstreet',\n",
       "     'd_gym',\n",
       "     'd_hairdryer',\n",
       "     'd_hangers',\n",
       "     'd_heating',\n",
       "     'd_hottub',\n",
       "     'd_indoorfireplace',\n",
       "     'd_internet',\n",
       "     'd_iron',\n",
       "     'd_keypad',\n",
       "     'd_kitchen',\n",
       "     'd_laptopfriendlyworkspace',\n",
       "     'd_lockonbedroomdoor',\n",
       "     'd_lockbox',\n",
       "     'd_otherpets',\n",
       "     'd_paidparkingoffpremises',\n",
       "     'd_petsallowed',\n",
       "     'd_petsliveonthisproperty',\n",
       "     'd_pool',\n",
       "     'd_privateentrance',\n",
       "     'd_privatelivingroom',\n",
       "     'd_safetycard',\n",
       "     'd_selfcheckin',\n",
       "     'd_shampoo',\n",
       "     'd_smartlock',\n",
       "     'd_smokedetector',\n",
       "     'd_smokingallowed',\n",
       "     'd_suitableforevents',\n",
       "     'd_tv',\n",
       "     'd_washer',\n",
       "     'd_washerdryer',\n",
       "     'd_wheelchairaccessible',\n",
       "     'd_wirelessinternet']\n",
       "  Terms:\n",
       "    'Intercept' (column 0)\n",
       "    'f_property_type' (column 1)\n",
       "    'f_room_type' (columns 2:4)\n",
       "    'f_cancellation_policy' (columns 4:6)\n",
       "    'f_bed_type' (column 6)\n",
       "    'f_neighbourhood_cleansed' (columns 7:39)\n",
       "    'n_accommodates' (column 39)\n",
       "    'n_beds' (column 40)\n",
       "    'n_days_since' (column 41)\n",
       "    'f_bathroom' (column 42)\n",
       "    'n_number_of_reviews' (column 43)\n",
       "    'flag_n_number_of_reviews' (column 44)\n",
       "    'n_review_scores_rating' (column 45)\n",
       "    'flag_review_scores_rating' (column 46)\n",
       "    'd_24hourcheckin' (column 47)\n",
       "    'd_airconditioning' (column 48)\n",
       "    'd_breakfast' (column 49)\n",
       "    'd_buzzerwirelessintercom' (column 50)\n",
       "    'd_cabletv' (column 51)\n",
       "    'd_carbonmonoxidedetector' (column 52)\n",
       "    'd_cats' (column 53)\n",
       "    'd_dogs' (column 54)\n",
       "    'd_doorman' (column 55)\n",
       "    'd_doormanentry' (column 56)\n",
       "    'd_dryer' (column 57)\n",
       "    'd_elevatorinbuilding' (column 58)\n",
       "    'd_essentials' (column 59)\n",
       "    'd_familykidfriendly' (column 60)\n",
       "    'd_fireextinguisher' (column 61)\n",
       "    'd_firstaidkit' (column 62)\n",
       "    'd_freeparkingonpremises' (column 63)\n",
       "    'd_freeparkingonstreet' (column 64)\n",
       "    'd_gym' (column 65)\n",
       "    'd_hairdryer' (column 66)\n",
       "    'd_hangers' (column 67)\n",
       "    'd_heating' (column 68)\n",
       "    'd_hottub' (column 69)\n",
       "    'd_indoorfireplace' (column 70)\n",
       "    'd_internet' (column 71)\n",
       "    'd_iron' (column 72)\n",
       "    'd_keypad' (column 73)\n",
       "    'd_kitchen' (column 74)\n",
       "    'd_laptopfriendlyworkspace' (column 75)\n",
       "    'd_lockonbedroomdoor' (column 76)\n",
       "    'd_lockbox' (column 77)\n",
       "    'd_otherpets' (column 78)\n",
       "    'd_paidparkingoffpremises' (column 79)\n",
       "    'd_petsallowed' (column 80)\n",
       "    'd_petsliveonthisproperty' (column 81)\n",
       "    'd_pool' (column 82)\n",
       "    'd_privateentrance' (column 83)\n",
       "    'd_privatelivingroom' (column 84)\n",
       "    'd_safetycard' (column 85)\n",
       "    'd_selfcheckin' (column 86)\n",
       "    'd_shampoo' (column 87)\n",
       "    'd_smartlock' (column 88)\n",
       "    'd_smokedetector' (column 89)\n",
       "    'd_smokingallowed' (column 90)\n",
       "    'd_suitableforevents' (column 91)\n",
       "    'd_tv' (column 92)\n",
       "    'd_washer' (column 93)\n",
       "    'd_washerdryer' (column 94)\n",
       "    'd_wheelchairaccessible' (column 95)\n",
       "    'd_wirelessinternet' (column 96)\n",
       "  (to view full data, use np.asarray(this_obj))"
      ]
     },
     "execution_count": 25,
     "metadata": {},
     "output_type": "execute_result"
    }
   ],
   "source": [
    "X"
   ]
  },
  {
   "cell_type": "code",
   "execution_count": 26,
   "metadata": {},
   "outputs": [
    {
     "data": {
      "text/plain": [
       "['Intercept',\n",
       " 'f_property_type[T.House]',\n",
       " 'f_room_type[T.Private room]',\n",
       " 'f_room_type[T.Shared room]',\n",
       " 'f_cancellation_policy[T.moderate]',\n",
       " 'f_cancellation_policy[T.strict]',\n",
       " 'f_bed_type[T.Real Bed]',\n",
       " 'f_neighbourhood_cleansed[T.Barnet]',\n",
       " 'f_neighbourhood_cleansed[T.Bexley]',\n",
       " 'f_neighbourhood_cleansed[T.Brent]',\n",
       " 'f_neighbourhood_cleansed[T.Bromley]',\n",
       " 'f_neighbourhood_cleansed[T.Camden]',\n",
       " 'f_neighbourhood_cleansed[T.City of London]',\n",
       " 'f_neighbourhood_cleansed[T.Croydon]',\n",
       " 'f_neighbourhood_cleansed[T.Ealing]',\n",
       " 'f_neighbourhood_cleansed[T.Enfield]',\n",
       " 'f_neighbourhood_cleansed[T.Greenwich]',\n",
       " 'f_neighbourhood_cleansed[T.Hackney]',\n",
       " 'f_neighbourhood_cleansed[T.Hammersmith and Fulham]',\n",
       " 'f_neighbourhood_cleansed[T.Haringey]',\n",
       " 'f_neighbourhood_cleansed[T.Harrow]',\n",
       " 'f_neighbourhood_cleansed[T.Havering]',\n",
       " 'f_neighbourhood_cleansed[T.Hillingdon]',\n",
       " 'f_neighbourhood_cleansed[T.Hounslow]',\n",
       " 'f_neighbourhood_cleansed[T.Islington]',\n",
       " 'f_neighbourhood_cleansed[T.Kensington and Chelsea]',\n",
       " 'f_neighbourhood_cleansed[T.Kingston upon Thames]',\n",
       " 'f_neighbourhood_cleansed[T.Lambeth]',\n",
       " 'f_neighbourhood_cleansed[T.Lewisham]',\n",
       " 'f_neighbourhood_cleansed[T.Merton]',\n",
       " 'f_neighbourhood_cleansed[T.Newham]',\n",
       " 'f_neighbourhood_cleansed[T.Redbridge]',\n",
       " 'f_neighbourhood_cleansed[T.Richmond upon Thames]',\n",
       " 'f_neighbourhood_cleansed[T.Southwark]',\n",
       " 'f_neighbourhood_cleansed[T.Sutton]',\n",
       " 'f_neighbourhood_cleansed[T.Tower Hamlets]',\n",
       " 'f_neighbourhood_cleansed[T.Waltham Forest]',\n",
       " 'f_neighbourhood_cleansed[T.Wandsworth]',\n",
       " 'f_neighbourhood_cleansed[T.Westminster]',\n",
       " 'n_accommodates',\n",
       " 'n_beds',\n",
       " 'n_days_since',\n",
       " 'f_bathroom',\n",
       " 'n_number_of_reviews',\n",
       " 'flag_n_number_of_reviews',\n",
       " 'n_review_scores_rating',\n",
       " 'flag_review_scores_rating',\n",
       " 'd_24hourcheckin',\n",
       " 'd_airconditioning',\n",
       " 'd_breakfast',\n",
       " 'd_buzzerwirelessintercom',\n",
       " 'd_cabletv',\n",
       " 'd_carbonmonoxidedetector',\n",
       " 'd_cats',\n",
       " 'd_dogs',\n",
       " 'd_doorman',\n",
       " 'd_doormanentry',\n",
       " 'd_dryer',\n",
       " 'd_elevatorinbuilding',\n",
       " 'd_essentials',\n",
       " 'd_familykidfriendly',\n",
       " 'd_fireextinguisher',\n",
       " 'd_firstaidkit',\n",
       " 'd_freeparkingonpremises',\n",
       " 'd_freeparkingonstreet',\n",
       " 'd_gym',\n",
       " 'd_hairdryer',\n",
       " 'd_hangers',\n",
       " 'd_heating',\n",
       " 'd_hottub',\n",
       " 'd_indoorfireplace',\n",
       " 'd_internet',\n",
       " 'd_iron',\n",
       " 'd_keypad',\n",
       " 'd_kitchen',\n",
       " 'd_laptopfriendlyworkspace',\n",
       " 'd_lockonbedroomdoor',\n",
       " 'd_lockbox',\n",
       " 'd_otherpets',\n",
       " 'd_paidparkingoffpremises',\n",
       " 'd_petsallowed',\n",
       " 'd_petsliveonthisproperty',\n",
       " 'd_pool',\n",
       " 'd_privateentrance',\n",
       " 'd_privatelivingroom',\n",
       " 'd_safetycard',\n",
       " 'd_selfcheckin',\n",
       " 'd_shampoo',\n",
       " 'd_smartlock',\n",
       " 'd_smokedetector',\n",
       " 'd_smokingallowed',\n",
       " 'd_suitableforevents',\n",
       " 'd_tv',\n",
       " 'd_washer',\n",
       " 'd_washerdryer',\n",
       " 'd_wheelchairaccessible',\n",
       " 'd_wirelessinternet']"
      ]
     },
     "execution_count": 26,
     "metadata": {},
     "output_type": "execute_result"
    }
   ],
   "source": [
    "X.design_info.column_names"
   ]
  },
  {
   "cell_type": "code",
   "execution_count": 27,
   "metadata": {
    "tags": []
   },
   "outputs": [
    {
     "data": {
      "text/plain": [
       "array([[1., 0., 1., ..., 0., 0., 1.],\n",
       "       [1., 0., 1., ..., 0., 0., 1.],\n",
       "       [1., 0., 1., ..., 0., 0., 1.],\n",
       "       ...,\n",
       "       [1., 0., 0., ..., 0., 0., 1.],\n",
       "       [1., 1., 1., ..., 0., 0., 1.],\n",
       "       [1., 0., 0., ..., 0., 0., 1.]])"
      ]
     },
     "execution_count": 27,
     "metadata": {},
     "output_type": "execute_result"
    }
   ],
   "source": [
    "np.asarray(X)"
   ]
  },
  {
   "cell_type": "code",
   "execution_count": 28,
   "metadata": {},
   "outputs": [],
   "source": [
    "import math"
   ]
  },
  {
   "cell_type": "code",
   "execution_count": 29,
   "metadata": {
    "tags": []
   },
   "outputs": [
    {
     "name": "stdout",
     "output_type": "stream",
     "text": [
      "The theoretical recommended number of variables: 9.85.\n"
     ]
    }
   ],
   "source": [
    "print('The theoretical recommended number of variables: {:.2f}.'.format(math.sqrt(len(X.design_info.column_names))))"
   ]
  },
  {
   "cell_type": "code",
   "execution_count": 30,
   "metadata": {
    "tags": []
   },
   "outputs": [
    {
     "data": {
      "text/plain": [
       "(34878, 97)"
      ]
     },
     "execution_count": 30,
     "metadata": {},
     "output_type": "execute_result"
    }
   ],
   "source": [
    "X.shape"
   ]
  },
  {
   "cell_type": "code",
   "execution_count": 31,
   "metadata": {
    "tags": []
   },
   "outputs": [
    {
     "data": {
      "text/plain": [
       "patsy.design_info.DesignMatrix"
      ]
     },
     "execution_count": 31,
     "metadata": {},
     "output_type": "execute_result"
    }
   ],
   "source": [
    "type(y)"
   ]
  },
  {
   "cell_type": "code",
   "execution_count": 32,
   "metadata": {
    "tags": []
   },
   "outputs": [
    {
     "data": {
      "text/plain": [
       "(34878, 1)"
      ]
     },
     "execution_count": 32,
     "metadata": {},
     "output_type": "execute_result"
    }
   ],
   "source": [
    "# a two-dimensional object\n",
    "y.shape"
   ]
  },
  {
   "cell_type": "code",
   "execution_count": 33,
   "metadata": {
    "tags": []
   },
   "outputs": [
    {
     "data": {
      "text/plain": [
       "(34878,)"
      ]
     },
     "execution_count": 33,
     "metadata": {},
     "output_type": "execute_result"
    }
   ],
   "source": [
    "# using ravel() we flatten it to a one-dimensional data object. \n",
    "y.ravel().shape"
   ]
  },
  {
   "cell_type": "code",
   "execution_count": 34,
   "metadata": {},
   "outputs": [],
   "source": [
    "rfr = RandomForestRegressor(random_state = 20240129)"
   ]
  },
  {
   "cell_type": "markdown",
   "metadata": {},
   "source": [
    "A random forest is a meta estimator that fits a number of classifying decision trees on various sub-samples of the dataset and uses averaging to improve the predictive accuracy and control over-fitting. "
   ]
  },
  {
   "cell_type": "code",
   "execution_count": 35,
   "metadata": {},
   "outputs": [],
   "source": [
    "tune_grid = {\"max_features\": [6, 8, 10, 12], \"min_samples_leaf\": [5, 10, 15]}"
   ]
  },
  {
   "cell_type": "code",
   "execution_count": 36,
   "metadata": {},
   "outputs": [],
   "source": [
    "rf_random = GridSearchCV(\n",
    "    rfr,\n",
    "    tune_grid,\n",
    "    cv=5,\n",
    "    scoring=\"neg_root_mean_squared_error\",\n",
    "    verbose=3,\n",
    ")"
   ]
  },
  {
   "cell_type": "markdown",
   "metadata": {},
   "source": [
    "`GridsearchCV()` is an exhaustive search over specified parameter values for an estimator."
   ]
  },
  {
   "cell_type": "code",
   "execution_count": 37,
   "metadata": {
    "tags": []
   },
   "outputs": [
    {
     "name": "stdout",
     "output_type": "stream",
     "text": [
      "Fitting 5 folds for each of 12 candidates, totalling 60 fits\n",
      "[CV 1/5] END max_features=6, min_samples_leaf=5;, score=-47.155 total time=   2.1s\n",
      "[CV 2/5] END max_features=6, min_samples_leaf=5;, score=-45.679 total time=   2.2s\n",
      "[CV 3/5] END max_features=6, min_samples_leaf=5;, score=-46.700 total time=   2.2s\n",
      "[CV 4/5] END max_features=6, min_samples_leaf=5;, score=-44.820 total time=   2.2s\n",
      "[CV 5/5] END max_features=6, min_samples_leaf=5;, score=-47.830 total time=   2.2s\n",
      "[CV 1/5] END max_features=6, min_samples_leaf=10;, score=-47.864 total time=   1.8s\n",
      "[CV 2/5] END max_features=6, min_samples_leaf=10;, score=-46.534 total time=   1.8s\n",
      "[CV 3/5] END max_features=6, min_samples_leaf=10;, score=-47.494 total time=   1.7s\n",
      "[CV 4/5] END max_features=6, min_samples_leaf=10;, score=-45.807 total time=   1.8s\n",
      "[CV 5/5] END max_features=6, min_samples_leaf=10;, score=-48.928 total time=   1.7s\n",
      "[CV 1/5] END max_features=6, min_samples_leaf=15;, score=-48.510 total time=   1.6s\n",
      "[CV 2/5] END max_features=6, min_samples_leaf=15;, score=-47.029 total time=   1.7s\n",
      "[CV 3/5] END max_features=6, min_samples_leaf=15;, score=-48.207 total time=   1.6s\n",
      "[CV 4/5] END max_features=6, min_samples_leaf=15;, score=-46.461 total time=   1.6s\n",
      "[CV 5/5] END max_features=6, min_samples_leaf=15;, score=-49.428 total time=   1.6s\n",
      "[CV 1/5] END max_features=8, min_samples_leaf=5;, score=-46.083 total time=   2.7s\n",
      "[CV 2/5] END max_features=8, min_samples_leaf=5;, score=-45.044 total time=   2.7s\n",
      "[CV 3/5] END max_features=8, min_samples_leaf=5;, score=-45.882 total time=   2.7s\n",
      "[CV 4/5] END max_features=8, min_samples_leaf=5;, score=-43.799 total time=   2.7s\n",
      "[CV 5/5] END max_features=8, min_samples_leaf=5;, score=-46.717 total time=   2.7s\n",
      "[CV 1/5] END max_features=8, min_samples_leaf=10;, score=-46.955 total time=   2.2s\n",
      "[CV 2/5] END max_features=8, min_samples_leaf=10;, score=-45.717 total time=   2.1s\n",
      "[CV 3/5] END max_features=8, min_samples_leaf=10;, score=-46.511 total time=   2.1s\n",
      "[CV 4/5] END max_features=8, min_samples_leaf=10;, score=-44.707 total time=   2.2s\n",
      "[CV 5/5] END max_features=8, min_samples_leaf=10;, score=-47.749 total time=   2.2s\n",
      "[CV 1/5] END max_features=8, min_samples_leaf=15;, score=-47.504 total time=   2.0s\n",
      "[CV 2/5] END max_features=8, min_samples_leaf=15;, score=-46.150 total time=   1.9s\n",
      "[CV 3/5] END max_features=8, min_samples_leaf=15;, score=-47.142 total time=   1.9s\n",
      "[CV 4/5] END max_features=8, min_samples_leaf=15;, score=-45.403 total time=   1.9s\n",
      "[CV 5/5] END max_features=8, min_samples_leaf=15;, score=-48.284 total time=   1.9s\n",
      "[CV 1/5] END max_features=10, min_samples_leaf=5;, score=-45.753 total time=   3.2s\n",
      "[CV 2/5] END max_features=10, min_samples_leaf=5;, score=-44.601 total time=   3.2s\n",
      "[CV 3/5] END max_features=10, min_samples_leaf=5;, score=-45.457 total time=   3.3s\n",
      "[CV 4/5] END max_features=10, min_samples_leaf=5;, score=-43.165 total time=   3.2s\n",
      "[CV 5/5] END max_features=10, min_samples_leaf=5;, score=-46.325 total time=   3.2s\n",
      "[CV 1/5] END max_features=10, min_samples_leaf=10;, score=-46.363 total time=   2.7s\n",
      "[CV 2/5] END max_features=10, min_samples_leaf=10;, score=-45.335 total time=   2.7s\n",
      "[CV 3/5] END max_features=10, min_samples_leaf=10;, score=-46.076 total time=   2.7s\n",
      "[CV 4/5] END max_features=10, min_samples_leaf=10;, score=-44.130 total time=   2.7s\n",
      "[CV 5/5] END max_features=10, min_samples_leaf=10;, score=-47.042 total time=   2.6s\n",
      "[CV 1/5] END max_features=10, min_samples_leaf=15;, score=-46.967 total time=   2.5s\n",
      "[CV 2/5] END max_features=10, min_samples_leaf=15;, score=-45.670 total time=   2.5s\n",
      "[CV 3/5] END max_features=10, min_samples_leaf=15;, score=-46.337 total time=   2.5s\n",
      "[CV 4/5] END max_features=10, min_samples_leaf=15;, score=-44.712 total time=   2.7s\n",
      "[CV 5/5] END max_features=10, min_samples_leaf=15;, score=-47.584 total time=   2.6s\n",
      "[CV 1/5] END max_features=12, min_samples_leaf=5;, score=-45.237 total time=   4.9s\n",
      "[CV 2/5] END max_features=12, min_samples_leaf=5;, score=-44.442 total time=   4.2s\n",
      "[CV 3/5] END max_features=12, min_samples_leaf=5;, score=-44.927 total time=   4.2s\n",
      "[CV 4/5] END max_features=12, min_samples_leaf=5;, score=-42.901 total time=   3.9s\n",
      "[CV 5/5] END max_features=12, min_samples_leaf=5;, score=-45.888 total time=   4.0s\n",
      "[CV 1/5] END max_features=12, min_samples_leaf=10;, score=-45.921 total time=   3.2s\n",
      "[CV 2/5] END max_features=12, min_samples_leaf=10;, score=-45.000 total time=   3.5s\n",
      "[CV 3/5] END max_features=12, min_samples_leaf=10;, score=-45.484 total time=   3.1s\n",
      "[CV 4/5] END max_features=12, min_samples_leaf=10;, score=-43.753 total time=   3.0s\n",
      "[CV 5/5] END max_features=12, min_samples_leaf=10;, score=-46.625 total time=   3.0s\n",
      "[CV 1/5] END max_features=12, min_samples_leaf=15;, score=-46.326 total time=   2.7s\n",
      "[CV 2/5] END max_features=12, min_samples_leaf=15;, score=-45.391 total time=   2.7s\n",
      "[CV 3/5] END max_features=12, min_samples_leaf=15;, score=-46.033 total time=   2.7s\n",
      "[CV 4/5] END max_features=12, min_samples_leaf=15;, score=-44.159 total time=   2.7s\n",
      "[CV 5/5] END max_features=12, min_samples_leaf=15;, score=-47.306 total time=   2.6s\n",
      "CPU times: total: 2min 45s\n",
      "Wall time: 2min 45s\n"
     ]
    }
   ],
   "source": [
    "%%time\n",
    "rf_model = rf_random.fit(X, y.ravel())"
   ]
  },
  {
   "cell_type": "markdown",
   "metadata": {},
   "source": [
    "<br>\n",
    "\n",
    "Cross-validated results are saved in the grid search object's `cv_results_` attribute. Note that *RMSE* is displayed as a negative number. "
   ]
  },
  {
   "cell_type": "code",
   "execution_count": 38,
   "metadata": {
    "tags": []
   },
   "outputs": [
    {
     "data": {
      "text/plain": [
       "{'mean_fit_time': array([2.16531677, 1.77838793, 1.63572731, 2.68942046, 2.17533078,\n",
       "        1.96361408, 3.24026546, 2.71036267, 2.57976418, 4.21354952,\n",
       "        3.16805902, 2.6858767 ]),\n",
       " 'std_fit_time': array([0.01093681, 0.02362186, 0.03144151, 0.01767889, 0.01262884,\n",
       "        0.01432576, 0.02744275, 0.04307022, 0.1044744 , 0.37139618,\n",
       "        0.16453178, 0.01321934]),\n",
       " 'mean_score_time': array([0.09292984, 0.07744546, 0.07267842, 0.09062576, 0.07861419,\n",
       "        0.07361059, 0.09561901, 0.0856071 , 0.08412151, 0.11901231,\n",
       "        0.08374739, 0.0752408 ]),\n",
       " 'std_score_time': array([0.00920603, 0.0017921 , 0.00488804, 0.00121027, 0.00241756,\n",
       "        0.00265351, 0.00313206, 0.00224043, 0.01002861, 0.02762569,\n",
       "        0.00235048, 0.00094308]),\n",
       " 'param_max_features': masked_array(data=[6, 6, 6, 8, 8, 8, 10, 10, 10, 12, 12, 12],\n",
       "              mask=[False, False, False, False, False, False, False, False,\n",
       "                    False, False, False, False],\n",
       "        fill_value='?',\n",
       "             dtype=object),\n",
       " 'param_min_samples_leaf': masked_array(data=[5, 10, 15, 5, 10, 15, 5, 10, 15, 5, 10, 15],\n",
       "              mask=[False, False, False, False, False, False, False, False,\n",
       "                    False, False, False, False],\n",
       "        fill_value='?',\n",
       "             dtype=object),\n",
       " 'params': [{'max_features': 6, 'min_samples_leaf': 5},\n",
       "  {'max_features': 6, 'min_samples_leaf': 10},\n",
       "  {'max_features': 6, 'min_samples_leaf': 15},\n",
       "  {'max_features': 8, 'min_samples_leaf': 5},\n",
       "  {'max_features': 8, 'min_samples_leaf': 10},\n",
       "  {'max_features': 8, 'min_samples_leaf': 15},\n",
       "  {'max_features': 10, 'min_samples_leaf': 5},\n",
       "  {'max_features': 10, 'min_samples_leaf': 10},\n",
       "  {'max_features': 10, 'min_samples_leaf': 15},\n",
       "  {'max_features': 12, 'min_samples_leaf': 5},\n",
       "  {'max_features': 12, 'min_samples_leaf': 10},\n",
       "  {'max_features': 12, 'min_samples_leaf': 15}],\n",
       " 'split0_test_score': array([-47.15505933, -47.8636945 , -48.51013613, -46.08287303,\n",
       "        -46.95493589, -47.50431032, -45.75298863, -46.36279896,\n",
       "        -46.96715396, -45.23657664, -45.92054665, -46.3261502 ]),\n",
       " 'split1_test_score': array([-45.67940132, -46.53410456, -47.0293551 , -45.04405479,\n",
       "        -45.71715315, -46.14991594, -44.60135783, -45.33531349,\n",
       "        -45.67038283, -44.44197954, -45.00012101, -45.39103397]),\n",
       " 'split2_test_score': array([-46.70018947, -47.49358293, -48.20698314, -45.88157816,\n",
       "        -46.51092097, -47.14233634, -45.45694631, -46.07620231,\n",
       "        -46.33737862, -44.92706203, -45.48414066, -46.03337458]),\n",
       " 'split3_test_score': array([-44.81977897, -45.80660672, -46.4609508 , -43.79878229,\n",
       "        -44.7066771 , -45.40339039, -43.1652521 , -44.12985073,\n",
       "        -44.71222693, -42.90069783, -43.75325134, -44.15934185]),\n",
       " 'split4_test_score': array([-47.83049466, -48.9281036 , -49.42802681, -46.7170893 ,\n",
       "        -47.7485492 , -48.28350351, -46.32458208, -47.0419625 ,\n",
       "        -47.58353645, -45.88839482, -46.62503808, -47.30574353]),\n",
       " 'mean_test_score': array([-46.43698475, -47.32521846, -47.9270904 , -45.50487552,\n",
       "        -46.32764726, -46.8966913 , -45.06022539, -45.7892256 ,\n",
       "        -46.25413576, -44.67894217, -45.35661955, -45.84312883]),\n",
       " 'std_test_score': array([1.06921138, 1.07885   , 1.06080973, 1.00683247, 1.04367523,\n",
       "        1.01394393, 1.09885299, 0.99400734, 1.00008808, 1.00534567,\n",
       "        0.96343571, 1.04386524]),\n",
       " 'rank_test_score': array([ 9, 11, 12,  4,  8, 10,  2,  5,  7,  1,  3,  6])}"
      ]
     },
     "execution_count": 38,
     "metadata": {},
     "output_type": "execute_result"
    }
   ],
   "source": [
    "rf_model.cv_results_"
   ]
  },
  {
   "cell_type": "code",
   "execution_count": 39,
   "metadata": {
    "tags": []
   },
   "outputs": [],
   "source": [
    "df_rf_model_cv_results = pd.DataFrame(rf_model.cv_results_)[[\n",
    "    'param_max_features', 'param_min_samples_leaf', 'mean_test_score']]"
   ]
  },
  {
   "cell_type": "code",
   "execution_count": 40,
   "metadata": {},
   "outputs": [],
   "source": [
    "df_rf_model_cv_results.columns = ['max features', 'min node size', 'RMSE']"
   ]
  },
  {
   "cell_type": "code",
   "execution_count": 41,
   "metadata": {
    "tags": []
   },
   "outputs": [
    {
     "data": {
      "text/html": [
       "<div>\n",
       "<style scoped>\n",
       "    .dataframe tbody tr th:only-of-type {\n",
       "        vertical-align: middle;\n",
       "    }\n",
       "\n",
       "    .dataframe tbody tr th {\n",
       "        vertical-align: top;\n",
       "    }\n",
       "\n",
       "    .dataframe thead th {\n",
       "        text-align: right;\n",
       "    }\n",
       "</style>\n",
       "<table border=\"1\" class=\"dataframe\">\n",
       "  <thead>\n",
       "    <tr style=\"text-align: right;\">\n",
       "      <th></th>\n",
       "      <th>max features</th>\n",
       "      <th>min node size</th>\n",
       "      <th>RMSE</th>\n",
       "    </tr>\n",
       "  </thead>\n",
       "  <tbody>\n",
       "    <tr>\n",
       "      <th>0</th>\n",
       "      <td>6</td>\n",
       "      <td>5</td>\n",
       "      <td>-46.436985</td>\n",
       "    </tr>\n",
       "    <tr>\n",
       "      <th>1</th>\n",
       "      <td>6</td>\n",
       "      <td>10</td>\n",
       "      <td>-47.325218</td>\n",
       "    </tr>\n",
       "    <tr>\n",
       "      <th>2</th>\n",
       "      <td>6</td>\n",
       "      <td>15</td>\n",
       "      <td>-47.927090</td>\n",
       "    </tr>\n",
       "    <tr>\n",
       "      <th>3</th>\n",
       "      <td>8</td>\n",
       "      <td>5</td>\n",
       "      <td>-45.504876</td>\n",
       "    </tr>\n",
       "    <tr>\n",
       "      <th>4</th>\n",
       "      <td>8</td>\n",
       "      <td>10</td>\n",
       "      <td>-46.327647</td>\n",
       "    </tr>\n",
       "    <tr>\n",
       "      <th>5</th>\n",
       "      <td>8</td>\n",
       "      <td>15</td>\n",
       "      <td>-46.896691</td>\n",
       "    </tr>\n",
       "    <tr>\n",
       "      <th>6</th>\n",
       "      <td>10</td>\n",
       "      <td>5</td>\n",
       "      <td>-45.060225</td>\n",
       "    </tr>\n",
       "    <tr>\n",
       "      <th>7</th>\n",
       "      <td>10</td>\n",
       "      <td>10</td>\n",
       "      <td>-45.789226</td>\n",
       "    </tr>\n",
       "    <tr>\n",
       "      <th>8</th>\n",
       "      <td>10</td>\n",
       "      <td>15</td>\n",
       "      <td>-46.254136</td>\n",
       "    </tr>\n",
       "    <tr>\n",
       "      <th>9</th>\n",
       "      <td>12</td>\n",
       "      <td>5</td>\n",
       "      <td>-44.678942</td>\n",
       "    </tr>\n",
       "    <tr>\n",
       "      <th>10</th>\n",
       "      <td>12</td>\n",
       "      <td>10</td>\n",
       "      <td>-45.356620</td>\n",
       "    </tr>\n",
       "    <tr>\n",
       "      <th>11</th>\n",
       "      <td>12</td>\n",
       "      <td>15</td>\n",
       "      <td>-45.843129</td>\n",
       "    </tr>\n",
       "  </tbody>\n",
       "</table>\n",
       "</div>"
      ],
      "text/plain": [
       "   max features min node size       RMSE\n",
       "0             6             5 -46.436985\n",
       "1             6            10 -47.325218\n",
       "2             6            15 -47.927090\n",
       "3             8             5 -45.504876\n",
       "4             8            10 -46.327647\n",
       "5             8            15 -46.896691\n",
       "6            10             5 -45.060225\n",
       "7            10            10 -45.789226\n",
       "8            10            15 -46.254136\n",
       "9            12             5 -44.678942\n",
       "10           12            10 -45.356620\n",
       "11           12            15 -45.843129"
      ]
     },
     "execution_count": 41,
     "metadata": {},
     "output_type": "execute_result"
    }
   ],
   "source": [
    "df_rf_model_cv_results"
   ]
  },
  {
   "cell_type": "code",
   "execution_count": 42,
   "metadata": {
    "tags": []
   },
   "outputs": [
    {
     "data": {
      "text/html": [
       "<div>\n",
       "<style scoped>\n",
       "    .dataframe tbody tr th:only-of-type {\n",
       "        vertical-align: middle;\n",
       "    }\n",
       "\n",
       "    .dataframe tbody tr th {\n",
       "        vertical-align: top;\n",
       "    }\n",
       "\n",
       "    .dataframe thead th {\n",
       "        text-align: right;\n",
       "    }\n",
       "</style>\n",
       "<table border=\"1\" class=\"dataframe\">\n",
       "  <thead>\n",
       "    <tr style=\"text-align: right;\">\n",
       "      <th>min node size</th>\n",
       "      <th>5</th>\n",
       "      <th>10</th>\n",
       "      <th>15</th>\n",
       "    </tr>\n",
       "    <tr>\n",
       "      <th>max features</th>\n",
       "      <th></th>\n",
       "      <th></th>\n",
       "      <th></th>\n",
       "    </tr>\n",
       "  </thead>\n",
       "  <tbody>\n",
       "    <tr>\n",
       "      <th>6</th>\n",
       "      <td>46.44</td>\n",
       "      <td>47.33</td>\n",
       "      <td>47.93</td>\n",
       "    </tr>\n",
       "    <tr>\n",
       "      <th>8</th>\n",
       "      <td>45.50</td>\n",
       "      <td>46.33</td>\n",
       "      <td>46.90</td>\n",
       "    </tr>\n",
       "    <tr>\n",
       "      <th>10</th>\n",
       "      <td>45.06</td>\n",
       "      <td>45.79</td>\n",
       "      <td>46.25</td>\n",
       "    </tr>\n",
       "    <tr>\n",
       "      <th>12</th>\n",
       "      <td>44.68</td>\n",
       "      <td>45.36</td>\n",
       "      <td>45.84</td>\n",
       "    </tr>\n",
       "  </tbody>\n",
       "</table>\n",
       "</div>"
      ],
      "text/plain": [
       "min node size     5      10     15\n",
       "max features                      \n",
       "6              46.44  47.33  47.93\n",
       "8              45.50  46.33  46.90\n",
       "10             45.06  45.79  46.25\n",
       "12             44.68  45.36  45.84"
      ]
     },
     "execution_count": 42,
     "metadata": {},
     "output_type": "execute_result"
    }
   ],
   "source": [
    "df_rf_model_cv_results.pivot(\n",
    "    index = 'max features', \n",
    "    columns = 'min node size', \n",
    "    values = 'RMSE').round(2)*-1"
   ]
  },
  {
   "cell_type": "code",
   "execution_count": 43,
   "metadata": {
    "tags": []
   },
   "outputs": [
    {
     "data": {
      "text/plain": [
       "-44.67894217213887"
      ]
     },
     "execution_count": 43,
     "metadata": {},
     "output_type": "execute_result"
    }
   ],
   "source": [
    "rf_model.best_score_"
   ]
  },
  {
   "cell_type": "code",
   "execution_count": 44,
   "metadata": {
    "tags": []
   },
   "outputs": [
    {
     "data": {
      "text/plain": [
       "{'max_features': 12, 'min_samples_leaf': 5}"
      ]
     },
     "execution_count": 44,
     "metadata": {},
     "output_type": "execute_result"
    }
   ],
   "source": [
    "rf_model.best_params_"
   ]
  },
  {
   "cell_type": "code",
   "execution_count": 45,
   "metadata": {
    "tags": []
   },
   "outputs": [
    {
     "data": {
      "text/html": [
       "<style>#sk-container-id-1 {color: black;}#sk-container-id-1 pre{padding: 0;}#sk-container-id-1 div.sk-toggleable {background-color: white;}#sk-container-id-1 label.sk-toggleable__label {cursor: pointer;display: block;width: 100%;margin-bottom: 0;padding: 0.3em;box-sizing: border-box;text-align: center;}#sk-container-id-1 label.sk-toggleable__label-arrow:before {content: \"▸\";float: left;margin-right: 0.25em;color: #696969;}#sk-container-id-1 label.sk-toggleable__label-arrow:hover:before {color: black;}#sk-container-id-1 div.sk-estimator:hover label.sk-toggleable__label-arrow:before {color: black;}#sk-container-id-1 div.sk-toggleable__content {max-height: 0;max-width: 0;overflow: hidden;text-align: left;background-color: #f0f8ff;}#sk-container-id-1 div.sk-toggleable__content pre {margin: 0.2em;color: black;border-radius: 0.25em;background-color: #f0f8ff;}#sk-container-id-1 input.sk-toggleable__control:checked~div.sk-toggleable__content {max-height: 200px;max-width: 100%;overflow: auto;}#sk-container-id-1 input.sk-toggleable__control:checked~label.sk-toggleable__label-arrow:before {content: \"▾\";}#sk-container-id-1 div.sk-estimator input.sk-toggleable__control:checked~label.sk-toggleable__label {background-color: #d4ebff;}#sk-container-id-1 div.sk-label input.sk-toggleable__control:checked~label.sk-toggleable__label {background-color: #d4ebff;}#sk-container-id-1 input.sk-hidden--visually {border: 0;clip: rect(1px 1px 1px 1px);clip: rect(1px, 1px, 1px, 1px);height: 1px;margin: -1px;overflow: hidden;padding: 0;position: absolute;width: 1px;}#sk-container-id-1 div.sk-estimator {font-family: monospace;background-color: #f0f8ff;border: 1px dotted black;border-radius: 0.25em;box-sizing: border-box;margin-bottom: 0.5em;}#sk-container-id-1 div.sk-estimator:hover {background-color: #d4ebff;}#sk-container-id-1 div.sk-parallel-item::after {content: \"\";width: 100%;border-bottom: 1px solid gray;flex-grow: 1;}#sk-container-id-1 div.sk-label:hover label.sk-toggleable__label {background-color: #d4ebff;}#sk-container-id-1 div.sk-serial::before {content: \"\";position: absolute;border-left: 1px solid gray;box-sizing: border-box;top: 0;bottom: 0;left: 50%;z-index: 0;}#sk-container-id-1 div.sk-serial {display: flex;flex-direction: column;align-items: center;background-color: white;padding-right: 0.2em;padding-left: 0.2em;position: relative;}#sk-container-id-1 div.sk-item {position: relative;z-index: 1;}#sk-container-id-1 div.sk-parallel {display: flex;align-items: stretch;justify-content: center;background-color: white;position: relative;}#sk-container-id-1 div.sk-item::before, #sk-container-id-1 div.sk-parallel-item::before {content: \"\";position: absolute;border-left: 1px solid gray;box-sizing: border-box;top: 0;bottom: 0;left: 50%;z-index: -1;}#sk-container-id-1 div.sk-parallel-item {display: flex;flex-direction: column;z-index: 1;position: relative;background-color: white;}#sk-container-id-1 div.sk-parallel-item:first-child::after {align-self: flex-end;width: 50%;}#sk-container-id-1 div.sk-parallel-item:last-child::after {align-self: flex-start;width: 50%;}#sk-container-id-1 div.sk-parallel-item:only-child::after {width: 0;}#sk-container-id-1 div.sk-dashed-wrapped {border: 1px dashed gray;margin: 0 0.4em 0.5em 0.4em;box-sizing: border-box;padding-bottom: 0.4em;background-color: white;}#sk-container-id-1 div.sk-label label {font-family: monospace;font-weight: bold;display: inline-block;line-height: 1.2em;}#sk-container-id-1 div.sk-label-container {text-align: center;}#sk-container-id-1 div.sk-container {/* jupyter's `normalize.less` sets `[hidden] { display: none; }` but bootstrap.min.css set `[hidden] { display: none !important; }` so we also need the `!important` here to be able to override the default hidden behavior on the sphinx rendered scikit-learn.org. See: https://github.com/scikit-learn/scikit-learn/issues/21755 */display: inline-block !important;position: relative;}#sk-container-id-1 div.sk-text-repr-fallback {display: none;}</style><div id=\"sk-container-id-1\" class=\"sk-top-container\"><div class=\"sk-text-repr-fallback\"><pre>RandomForestRegressor(max_features=12, min_samples_leaf=5,\n",
       "                      random_state=20240129)</pre><b>In a Jupyter environment, please rerun this cell to show the HTML representation or trust the notebook. <br />On GitHub, the HTML representation is unable to render, please try loading this page with nbviewer.org.</b></div><div class=\"sk-container\" hidden><div class=\"sk-item\"><div class=\"sk-estimator sk-toggleable\"><input class=\"sk-toggleable__control sk-hidden--visually\" id=\"sk-estimator-id-1\" type=\"checkbox\" checked><label for=\"sk-estimator-id-1\" class=\"sk-toggleable__label sk-toggleable__label-arrow\">RandomForestRegressor</label><div class=\"sk-toggleable__content\"><pre>RandomForestRegressor(max_features=12, min_samples_leaf=5,\n",
       "                      random_state=20240129)</pre></div></div></div></div></div>"
      ],
      "text/plain": [
       "RandomForestRegressor(max_features=12, min_samples_leaf=5,\n",
       "                      random_state=20240129)"
      ]
     },
     "execution_count": 45,
     "metadata": {},
     "output_type": "execute_result"
    }
   ],
   "source": [
    "rf_model.best_estimator_"
   ]
  },
  {
   "cell_type": "markdown",
   "metadata": {
    "tags": []
   },
   "source": [
    "### Diagnostics"
   ]
  },
  {
   "cell_type": "markdown",
   "metadata": {},
   "source": [
    "#### feature importances"
   ]
  },
  {
   "cell_type": "markdown",
   "metadata": {},
   "source": [
    "***individual***"
   ]
  },
  {
   "cell_type": "code",
   "execution_count": 46,
   "metadata": {},
   "outputs": [
    {
     "data": {
      "text/plain": [
       "array([0.00000000e+00, 1.39486474e-02, 2.05867135e-01, 5.31367738e-03,\n",
       "       3.84138021e-03, 1.50181406e-02, 3.82160612e-04, 2.92377335e-04,\n",
       "       2.05517134e-06, 5.37531747e-04, 6.83463296e-05, 4.74411777e-03,\n",
       "       1.10683459e-03, 2.57379027e-04, 4.79808816e-04, 2.59190661e-05,\n",
       "       2.25053380e-04, 1.01290775e-03, 9.44742992e-04, 4.57889785e-04,\n",
       "       1.96497761e-05, 9.86295927e-07, 5.16916603e-05, 9.71848480e-05,\n",
       "       1.19984165e-03, 3.35155960e-02, 1.25970881e-05, 7.24779457e-04,\n",
       "       1.24482748e-03, 4.78668385e-04, 3.27603537e-04, 2.16205813e-04,\n",
       "       1.04159580e-03, 9.61828205e-04, 7.29696079e-06, 2.97239633e-03,\n",
       "       8.76110178e-04, 8.21556739e-04, 3.45829100e-02, 1.96442344e-01,\n",
       "       1.11136474e-01, 1.60404208e-02, 1.01336418e-01, 1.86511582e-02,\n",
       "       6.12942583e-03, 1.45039758e-02, 5.67147610e-03, 3.87106191e-03,\n",
       "       9.90446634e-03, 2.45107065e-03, 5.29454249e-03, 7.96836361e-03,\n",
       "       5.84899948e-03, 2.38106665e-04, 1.39711537e-04, 1.76428547e-03,\n",
       "       4.98088986e-05, 1.64434875e-02, 6.68168706e-03, 3.34915254e-03,\n",
       "       2.26963817e-02, 5.07848896e-03, 4.25263966e-03, 8.50043300e-03,\n",
       "       0.00000000e+00, 8.74213480e-04, 5.14028748e-03, 4.08535393e-03,\n",
       "       1.15894680e-03, 1.15799941e-03, 5.42846822e-03, 4.76216622e-03,\n",
       "       4.90691335e-03, 1.13775325e-05, 1.13013018e-03, 4.81073003e-03,\n",
       "       5.22749137e-03, 5.56887239e-04, 3.48080543e-06, 0.00000000e+00,\n",
       "       1.56849746e-03, 1.21729749e-03, 1.08734055e-03, 1.03410415e-03,\n",
       "       1.08070353e-04, 3.05065964e-03, 9.02816423e-04, 4.52800694e-03,\n",
       "       6.17111638e-07, 3.64711206e-03, 1.96101762e-03, 8.75289672e-04,\n",
       "       2.59395543e-02, 3.21798728e-03, 5.30583093e-04, 1.49904974e-03,\n",
       "       1.45373899e-03])"
      ]
     },
     "execution_count": 46,
     "metadata": {},
     "output_type": "execute_result"
    }
   ],
   "source": [
    "rf_model.best_estimator_.feature_importances_"
   ]
  },
  {
   "cell_type": "code",
   "execution_count": 47,
   "metadata": {},
   "outputs": [
    {
     "data": {
      "text/html": [
       "<div>\n",
       "<style scoped>\n",
       "    .dataframe tbody tr th:only-of-type {\n",
       "        vertical-align: middle;\n",
       "    }\n",
       "\n",
       "    .dataframe tbody tr th {\n",
       "        vertical-align: top;\n",
       "    }\n",
       "\n",
       "    .dataframe thead th {\n",
       "        text-align: right;\n",
       "    }\n",
       "</style>\n",
       "<table border=\"1\" class=\"dataframe\">\n",
       "  <thead>\n",
       "    <tr style=\"text-align: right;\">\n",
       "      <th></th>\n",
       "      <th>0</th>\n",
       "    </tr>\n",
       "  </thead>\n",
       "  <tbody>\n",
       "    <tr>\n",
       "      <th>Intercept</th>\n",
       "      <td>0.000000</td>\n",
       "    </tr>\n",
       "    <tr>\n",
       "      <th>f_property_type[T.House]</th>\n",
       "      <td>0.013949</td>\n",
       "    </tr>\n",
       "    <tr>\n",
       "      <th>f_room_type[T.Private room]</th>\n",
       "      <td>0.205867</td>\n",
       "    </tr>\n",
       "    <tr>\n",
       "      <th>f_room_type[T.Shared room]</th>\n",
       "      <td>0.005314</td>\n",
       "    </tr>\n",
       "    <tr>\n",
       "      <th>f_cancellation_policy[T.moderate]</th>\n",
       "      <td>0.003841</td>\n",
       "    </tr>\n",
       "    <tr>\n",
       "      <th>...</th>\n",
       "      <td>...</td>\n",
       "    </tr>\n",
       "    <tr>\n",
       "      <th>d_tv</th>\n",
       "      <td>0.025940</td>\n",
       "    </tr>\n",
       "    <tr>\n",
       "      <th>d_washer</th>\n",
       "      <td>0.003218</td>\n",
       "    </tr>\n",
       "    <tr>\n",
       "      <th>d_washerdryer</th>\n",
       "      <td>0.000531</td>\n",
       "    </tr>\n",
       "    <tr>\n",
       "      <th>d_wheelchairaccessible</th>\n",
       "      <td>0.001499</td>\n",
       "    </tr>\n",
       "    <tr>\n",
       "      <th>d_wirelessinternet</th>\n",
       "      <td>0.001454</td>\n",
       "    </tr>\n",
       "  </tbody>\n",
       "</table>\n",
       "<p>97 rows × 1 columns</p>\n",
       "</div>"
      ],
      "text/plain": [
       "                                          0\n",
       "Intercept                          0.000000\n",
       "f_property_type[T.House]           0.013949\n",
       "f_room_type[T.Private room]        0.205867\n",
       "f_room_type[T.Shared room]         0.005314\n",
       "f_cancellation_policy[T.moderate]  0.003841\n",
       "...                                     ...\n",
       "d_tv                               0.025940\n",
       "d_washer                           0.003218\n",
       "d_washerdryer                      0.000531\n",
       "d_wheelchairaccessible             0.001499\n",
       "d_wirelessinternet                 0.001454\n",
       "\n",
       "[97 rows x 1 columns]"
      ]
     },
     "execution_count": 47,
     "metadata": {},
     "output_type": "execute_result"
    }
   ],
   "source": [
    "pd.DataFrame(\n",
    "    rf_model.best_estimator_.feature_importances_, \n",
    "    X.design_info.column_names)"
   ]
  },
  {
   "cell_type": "code",
   "execution_count": 48,
   "metadata": {
    "tags": []
   },
   "outputs": [],
   "source": [
    "df_var_imp = pd.DataFrame(\n",
    "    rf_model.best_estimator_.feature_importances_, \n",
    "    X.design_info.column_names)\\\n",
    "    .reset_index()\\\n",
    "    .rename({\"index\": \"variable\", 0: \"imp\"}, axis=1)\\\n",
    "    .sort_values(by=[\"imp\"], ascending=False)\\\n",
    "    .reset_index(drop = True)\n",
    "\n",
    "df_var_imp['cumulative_imp'] = df_var_imp['imp'].cumsum()"
   ]
  },
  {
   "cell_type": "code",
   "execution_count": 49,
   "metadata": {
    "tags": []
   },
   "outputs": [
    {
     "data": {
      "text/html": [
       "<style type=\"text/css\">\n",
       "</style>\n",
       "<table id=\"T_468dd\">\n",
       "  <thead>\n",
       "    <tr>\n",
       "      <th class=\"blank level0\" >&nbsp;</th>\n",
       "      <th id=\"T_468dd_level0_col0\" class=\"col_heading level0 col0\" >variable</th>\n",
       "      <th id=\"T_468dd_level0_col1\" class=\"col_heading level0 col1\" >imp</th>\n",
       "      <th id=\"T_468dd_level0_col2\" class=\"col_heading level0 col2\" >cumulative_imp</th>\n",
       "    </tr>\n",
       "  </thead>\n",
       "  <tbody>\n",
       "    <tr>\n",
       "      <th id=\"T_468dd_level0_row0\" class=\"row_heading level0 row0\" >0</th>\n",
       "      <td id=\"T_468dd_row0_col0\" class=\"data row0 col0\" >f_room_type[T.Private room]</td>\n",
       "      <td id=\"T_468dd_row0_col1\" class=\"data row0 col1\" >20.6%</td>\n",
       "      <td id=\"T_468dd_row0_col2\" class=\"data row0 col2\" >20.6%</td>\n",
       "    </tr>\n",
       "    <tr>\n",
       "      <th id=\"T_468dd_level0_row1\" class=\"row_heading level0 row1\" >1</th>\n",
       "      <td id=\"T_468dd_row1_col0\" class=\"data row1 col0\" >n_accommodates</td>\n",
       "      <td id=\"T_468dd_row1_col1\" class=\"data row1 col1\" >19.6%</td>\n",
       "      <td id=\"T_468dd_row1_col2\" class=\"data row1 col2\" >40.2%</td>\n",
       "    </tr>\n",
       "    <tr>\n",
       "      <th id=\"T_468dd_level0_row2\" class=\"row_heading level0 row2\" >2</th>\n",
       "      <td id=\"T_468dd_row2_col0\" class=\"data row2 col0\" >n_beds</td>\n",
       "      <td id=\"T_468dd_row2_col1\" class=\"data row2 col1\" >11.1%</td>\n",
       "      <td id=\"T_468dd_row2_col2\" class=\"data row2 col2\" >51.3%</td>\n",
       "    </tr>\n",
       "    <tr>\n",
       "      <th id=\"T_468dd_level0_row3\" class=\"row_heading level0 row3\" >3</th>\n",
       "      <td id=\"T_468dd_row3_col0\" class=\"data row3 col0\" >f_bathroom</td>\n",
       "      <td id=\"T_468dd_row3_col1\" class=\"data row3 col1\" >10.1%</td>\n",
       "      <td id=\"T_468dd_row3_col2\" class=\"data row3 col2\" >61.5%</td>\n",
       "    </tr>\n",
       "    <tr>\n",
       "      <th id=\"T_468dd_level0_row4\" class=\"row_heading level0 row4\" >4</th>\n",
       "      <td id=\"T_468dd_row4_col0\" class=\"data row4 col0\" >f_neighbourhood_cleansed[T.Westminster]</td>\n",
       "      <td id=\"T_468dd_row4_col1\" class=\"data row4 col1\" >3.5%</td>\n",
       "      <td id=\"T_468dd_row4_col2\" class=\"data row4 col2\" >64.9%</td>\n",
       "    </tr>\n",
       "    <tr>\n",
       "      <th id=\"T_468dd_level0_row5\" class=\"row_heading level0 row5\" >5</th>\n",
       "      <td id=\"T_468dd_row5_col0\" class=\"data row5 col0\" >f_neighbourhood_cleansed[T.Kensington and Chelsea]</td>\n",
       "      <td id=\"T_468dd_row5_col1\" class=\"data row5 col1\" >3.4%</td>\n",
       "      <td id=\"T_468dd_row5_col2\" class=\"data row5 col2\" >68.3%</td>\n",
       "    </tr>\n",
       "    <tr>\n",
       "      <th id=\"T_468dd_level0_row6\" class=\"row_heading level0 row6\" >6</th>\n",
       "      <td id=\"T_468dd_row6_col0\" class=\"data row6 col0\" >d_tv</td>\n",
       "      <td id=\"T_468dd_row6_col1\" class=\"data row6 col1\" >2.6%</td>\n",
       "      <td id=\"T_468dd_row6_col2\" class=\"data row6 col2\" >70.9%</td>\n",
       "    </tr>\n",
       "    <tr>\n",
       "      <th id=\"T_468dd_level0_row7\" class=\"row_heading level0 row7\" >7</th>\n",
       "      <td id=\"T_468dd_row7_col0\" class=\"data row7 col0\" >d_familykidfriendly</td>\n",
       "      <td id=\"T_468dd_row7_col1\" class=\"data row7 col1\" >2.3%</td>\n",
       "      <td id=\"T_468dd_row7_col2\" class=\"data row7 col2\" >73.2%</td>\n",
       "    </tr>\n",
       "    <tr>\n",
       "      <th id=\"T_468dd_level0_row8\" class=\"row_heading level0 row8\" >8</th>\n",
       "      <td id=\"T_468dd_row8_col0\" class=\"data row8 col0\" >n_number_of_reviews</td>\n",
       "      <td id=\"T_468dd_row8_col1\" class=\"data row8 col1\" >1.9%</td>\n",
       "      <td id=\"T_468dd_row8_col2\" class=\"data row8 col2\" >75.0%</td>\n",
       "    </tr>\n",
       "    <tr>\n",
       "      <th id=\"T_468dd_level0_row9\" class=\"row_heading level0 row9\" >9</th>\n",
       "      <td id=\"T_468dd_row9_col0\" class=\"data row9 col0\" >d_dryer</td>\n",
       "      <td id=\"T_468dd_row9_col1\" class=\"data row9 col1\" >1.6%</td>\n",
       "      <td id=\"T_468dd_row9_col2\" class=\"data row9 col2\" >76.7%</td>\n",
       "    </tr>\n",
       "    <tr>\n",
       "      <th id=\"T_468dd_level0_row10\" class=\"row_heading level0 row10\" >10</th>\n",
       "      <td id=\"T_468dd_row10_col0\" class=\"data row10 col0\" >n_days_since</td>\n",
       "      <td id=\"T_468dd_row10_col1\" class=\"data row10 col1\" >1.6%</td>\n",
       "      <td id=\"T_468dd_row10_col2\" class=\"data row10 col2\" >78.3%</td>\n",
       "    </tr>\n",
       "    <tr>\n",
       "      <th id=\"T_468dd_level0_row11\" class=\"row_heading level0 row11\" >11</th>\n",
       "      <td id=\"T_468dd_row11_col0\" class=\"data row11 col0\" >f_cancellation_policy[T.strict]</td>\n",
       "      <td id=\"T_468dd_row11_col1\" class=\"data row11 col1\" >1.5%</td>\n",
       "      <td id=\"T_468dd_row11_col2\" class=\"data row11 col2\" >79.8%</td>\n",
       "    </tr>\n",
       "    <tr>\n",
       "      <th id=\"T_468dd_level0_row12\" class=\"row_heading level0 row12\" >12</th>\n",
       "      <td id=\"T_468dd_row12_col0\" class=\"data row12 col0\" >n_review_scores_rating</td>\n",
       "      <td id=\"T_468dd_row12_col1\" class=\"data row12 col1\" >1.5%</td>\n",
       "      <td id=\"T_468dd_row12_col2\" class=\"data row12 col2\" >81.2%</td>\n",
       "    </tr>\n",
       "    <tr>\n",
       "      <th id=\"T_468dd_level0_row13\" class=\"row_heading level0 row13\" >13</th>\n",
       "      <td id=\"T_468dd_row13_col0\" class=\"data row13 col0\" >f_property_type[T.House]</td>\n",
       "      <td id=\"T_468dd_row13_col1\" class=\"data row13 col1\" >1.4%</td>\n",
       "      <td id=\"T_468dd_row13_col2\" class=\"data row13 col2\" >82.6%</td>\n",
       "    </tr>\n",
       "    <tr>\n",
       "      <th id=\"T_468dd_level0_row14\" class=\"row_heading level0 row14\" >14</th>\n",
       "      <td id=\"T_468dd_row14_col0\" class=\"data row14 col0\" >d_airconditioning</td>\n",
       "      <td id=\"T_468dd_row14_col1\" class=\"data row14 col1\" >1.0%</td>\n",
       "      <td id=\"T_468dd_row14_col2\" class=\"data row14 col2\" >83.6%</td>\n",
       "    </tr>\n",
       "    <tr>\n",
       "      <th id=\"T_468dd_level0_row15\" class=\"row_heading level0 row15\" >15</th>\n",
       "      <td id=\"T_468dd_row15_col0\" class=\"data row15 col0\" >d_freeparkingonpremises</td>\n",
       "      <td id=\"T_468dd_row15_col1\" class=\"data row15 col1\" >0.9%</td>\n",
       "      <td id=\"T_468dd_row15_col2\" class=\"data row15 col2\" >84.5%</td>\n",
       "    </tr>\n",
       "    <tr>\n",
       "      <th id=\"T_468dd_level0_row16\" class=\"row_heading level0 row16\" >16</th>\n",
       "      <td id=\"T_468dd_row16_col0\" class=\"data row16 col0\" >d_cabletv</td>\n",
       "      <td id=\"T_468dd_row16_col1\" class=\"data row16 col1\" >0.8%</td>\n",
       "      <td id=\"T_468dd_row16_col2\" class=\"data row16 col2\" >85.2%</td>\n",
       "    </tr>\n",
       "    <tr>\n",
       "      <th id=\"T_468dd_level0_row17\" class=\"row_heading level0 row17\" >17</th>\n",
       "      <td id=\"T_468dd_row17_col0\" class=\"data row17 col0\" >d_elevatorinbuilding</td>\n",
       "      <td id=\"T_468dd_row17_col1\" class=\"data row17 col1\" >0.7%</td>\n",
       "      <td id=\"T_468dd_row17_col2\" class=\"data row17 col2\" >85.9%</td>\n",
       "    </tr>\n",
       "    <tr>\n",
       "      <th id=\"T_468dd_level0_row18\" class=\"row_heading level0 row18\" >18</th>\n",
       "      <td id=\"T_468dd_row18_col0\" class=\"data row18 col0\" >flag_n_number_of_reviews</td>\n",
       "      <td id=\"T_468dd_row18_col1\" class=\"data row18 col1\" >0.6%</td>\n",
       "      <td id=\"T_468dd_row18_col2\" class=\"data row18 col2\" >86.5%</td>\n",
       "    </tr>\n",
       "    <tr>\n",
       "      <th id=\"T_468dd_level0_row19\" class=\"row_heading level0 row19\" >19</th>\n",
       "      <td id=\"T_468dd_row19_col0\" class=\"data row19 col0\" >d_carbonmonoxidedetector</td>\n",
       "      <td id=\"T_468dd_row19_col1\" class=\"data row19 col1\" >0.6%</td>\n",
       "      <td id=\"T_468dd_row19_col2\" class=\"data row19 col2\" >87.1%</td>\n",
       "    </tr>\n",
       "    <tr>\n",
       "      <th id=\"T_468dd_level0_row20\" class=\"row_heading level0 row20\" >20</th>\n",
       "      <td id=\"T_468dd_row20_col0\" class=\"data row20 col0\" >flag_review_scores_rating</td>\n",
       "      <td id=\"T_468dd_row20_col1\" class=\"data row20 col1\" >0.6%</td>\n",
       "      <td id=\"T_468dd_row20_col2\" class=\"data row20 col2\" >87.7%</td>\n",
       "    </tr>\n",
       "    <tr>\n",
       "      <th id=\"T_468dd_level0_row21\" class=\"row_heading level0 row21\" >21</th>\n",
       "      <td id=\"T_468dd_row21_col0\" class=\"data row21 col0\" >d_indoorfireplace</td>\n",
       "      <td id=\"T_468dd_row21_col1\" class=\"data row21 col1\" >0.5%</td>\n",
       "      <td id=\"T_468dd_row21_col2\" class=\"data row21 col2\" >88.2%</td>\n",
       "    </tr>\n",
       "    <tr>\n",
       "      <th id=\"T_468dd_level0_row22\" class=\"row_heading level0 row22\" >22</th>\n",
       "      <td id=\"T_468dd_row22_col0\" class=\"data row22 col0\" >f_room_type[T.Shared room]</td>\n",
       "      <td id=\"T_468dd_row22_col1\" class=\"data row22 col1\" >0.5%</td>\n",
       "      <td id=\"T_468dd_row22_col2\" class=\"data row22 col2\" >88.8%</td>\n",
       "    </tr>\n",
       "    <tr>\n",
       "      <th id=\"T_468dd_level0_row23\" class=\"row_heading level0 row23\" >23</th>\n",
       "      <td id=\"T_468dd_row23_col0\" class=\"data row23 col0\" >d_buzzerwirelessintercom</td>\n",
       "      <td id=\"T_468dd_row23_col1\" class=\"data row23 col1\" >0.5%</td>\n",
       "      <td id=\"T_468dd_row23_col2\" class=\"data row23 col2\" >89.3%</td>\n",
       "    </tr>\n",
       "    <tr>\n",
       "      <th id=\"T_468dd_level0_row24\" class=\"row_heading level0 row24\" >24</th>\n",
       "      <td id=\"T_468dd_row24_col0\" class=\"data row24 col0\" >d_lockonbedroomdoor</td>\n",
       "      <td id=\"T_468dd_row24_col1\" class=\"data row24 col1\" >0.5%</td>\n",
       "      <td id=\"T_468dd_row24_col2\" class=\"data row24 col2\" >89.8%</td>\n",
       "    </tr>\n",
       "    <tr>\n",
       "      <th id=\"T_468dd_level0_row25\" class=\"row_heading level0 row25\" >25</th>\n",
       "      <td id=\"T_468dd_row25_col0\" class=\"data row25 col0\" >d_hairdryer</td>\n",
       "      <td id=\"T_468dd_row25_col1\" class=\"data row25 col1\" >0.5%</td>\n",
       "      <td id=\"T_468dd_row25_col2\" class=\"data row25 col2\" >90.3%</td>\n",
       "    </tr>\n",
       "    <tr>\n",
       "      <th id=\"T_468dd_level0_row26\" class=\"row_heading level0 row26\" >26</th>\n",
       "      <td id=\"T_468dd_row26_col0\" class=\"data row26 col0\" >d_fireextinguisher</td>\n",
       "      <td id=\"T_468dd_row26_col1\" class=\"data row26 col1\" >0.5%</td>\n",
       "      <td id=\"T_468dd_row26_col2\" class=\"data row26 col2\" >90.8%</td>\n",
       "    </tr>\n",
       "    <tr>\n",
       "      <th id=\"T_468dd_level0_row27\" class=\"row_heading level0 row27\" >27</th>\n",
       "      <td id=\"T_468dd_row27_col0\" class=\"data row27 col0\" >d_iron</td>\n",
       "      <td id=\"T_468dd_row27_col1\" class=\"data row27 col1\" >0.5%</td>\n",
       "      <td id=\"T_468dd_row27_col2\" class=\"data row27 col2\" >91.3%</td>\n",
       "    </tr>\n",
       "    <tr>\n",
       "      <th id=\"T_468dd_level0_row28\" class=\"row_heading level0 row28\" >28</th>\n",
       "      <td id=\"T_468dd_row28_col0\" class=\"data row28 col0\" >d_laptopfriendlyworkspace</td>\n",
       "      <td id=\"T_468dd_row28_col1\" class=\"data row28 col1\" >0.5%</td>\n",
       "      <td id=\"T_468dd_row28_col2\" class=\"data row28 col2\" >91.8%</td>\n",
       "    </tr>\n",
       "    <tr>\n",
       "      <th id=\"T_468dd_level0_row29\" class=\"row_heading level0 row29\" >29</th>\n",
       "      <td id=\"T_468dd_row29_col0\" class=\"data row29 col0\" >d_internet</td>\n",
       "      <td id=\"T_468dd_row29_col1\" class=\"data row29 col1\" >0.5%</td>\n",
       "      <td id=\"T_468dd_row29_col2\" class=\"data row29 col2\" >92.3%</td>\n",
       "    </tr>\n",
       "    <tr>\n",
       "      <th id=\"T_468dd_level0_row30\" class=\"row_heading level0 row30\" >30</th>\n",
       "      <td id=\"T_468dd_row30_col0\" class=\"data row30 col0\" >f_neighbourhood_cleansed[T.Camden]</td>\n",
       "      <td id=\"T_468dd_row30_col1\" class=\"data row30 col1\" >0.5%</td>\n",
       "      <td id=\"T_468dd_row30_col2\" class=\"data row30 col2\" >92.8%</td>\n",
       "    </tr>\n",
       "    <tr>\n",
       "      <th id=\"T_468dd_level0_row31\" class=\"row_heading level0 row31\" >31</th>\n",
       "      <td id=\"T_468dd_row31_col0\" class=\"data row31 col0\" >d_shampoo</td>\n",
       "      <td id=\"T_468dd_row31_col1\" class=\"data row31 col1\" >0.5%</td>\n",
       "      <td id=\"T_468dd_row31_col2\" class=\"data row31 col2\" >93.2%</td>\n",
       "    </tr>\n",
       "    <tr>\n",
       "      <th id=\"T_468dd_level0_row32\" class=\"row_heading level0 row32\" >32</th>\n",
       "      <td id=\"T_468dd_row32_col0\" class=\"data row32 col0\" >d_firstaidkit</td>\n",
       "      <td id=\"T_468dd_row32_col1\" class=\"data row32 col1\" >0.4%</td>\n",
       "      <td id=\"T_468dd_row32_col2\" class=\"data row32 col2\" >93.6%</td>\n",
       "    </tr>\n",
       "    <tr>\n",
       "      <th id=\"T_468dd_level0_row33\" class=\"row_heading level0 row33\" >33</th>\n",
       "      <td id=\"T_468dd_row33_col0\" class=\"data row33 col0\" >d_hangers</td>\n",
       "      <td id=\"T_468dd_row33_col1\" class=\"data row33 col1\" >0.4%</td>\n",
       "      <td id=\"T_468dd_row33_col2\" class=\"data row33 col2\" >94.0%</td>\n",
       "    </tr>\n",
       "    <tr>\n",
       "      <th id=\"T_468dd_level0_row34\" class=\"row_heading level0 row34\" >34</th>\n",
       "      <td id=\"T_468dd_row34_col0\" class=\"data row34 col0\" >d_24hourcheckin</td>\n",
       "      <td id=\"T_468dd_row34_col1\" class=\"data row34 col1\" >0.4%</td>\n",
       "      <td id=\"T_468dd_row34_col2\" class=\"data row34 col2\" >94.4%</td>\n",
       "    </tr>\n",
       "    <tr>\n",
       "      <th id=\"T_468dd_level0_row35\" class=\"row_heading level0 row35\" >35</th>\n",
       "      <td id=\"T_468dd_row35_col0\" class=\"data row35 col0\" >f_cancellation_policy[T.moderate]</td>\n",
       "      <td id=\"T_468dd_row35_col1\" class=\"data row35 col1\" >0.4%</td>\n",
       "      <td id=\"T_468dd_row35_col2\" class=\"data row35 col2\" >94.8%</td>\n",
       "    </tr>\n",
       "    <tr>\n",
       "      <th id=\"T_468dd_level0_row36\" class=\"row_heading level0 row36\" >36</th>\n",
       "      <td id=\"T_468dd_row36_col0\" class=\"data row36 col0\" >d_smokedetector</td>\n",
       "      <td id=\"T_468dd_row36_col1\" class=\"data row36 col1\" >0.4%</td>\n",
       "      <td id=\"T_468dd_row36_col2\" class=\"data row36 col2\" >95.2%</td>\n",
       "    </tr>\n",
       "    <tr>\n",
       "      <th id=\"T_468dd_level0_row37\" class=\"row_heading level0 row37\" >37</th>\n",
       "      <td id=\"T_468dd_row37_col0\" class=\"data row37 col0\" >d_essentials</td>\n",
       "      <td id=\"T_468dd_row37_col1\" class=\"data row37 col1\" >0.3%</td>\n",
       "      <td id=\"T_468dd_row37_col2\" class=\"data row37 col2\" >95.5%</td>\n",
       "    </tr>\n",
       "    <tr>\n",
       "      <th id=\"T_468dd_level0_row38\" class=\"row_heading level0 row38\" >38</th>\n",
       "      <td id=\"T_468dd_row38_col0\" class=\"data row38 col0\" >d_washer</td>\n",
       "      <td id=\"T_468dd_row38_col1\" class=\"data row38 col1\" >0.3%</td>\n",
       "      <td id=\"T_468dd_row38_col2\" class=\"data row38 col2\" >95.8%</td>\n",
       "    </tr>\n",
       "    <tr>\n",
       "      <th id=\"T_468dd_level0_row39\" class=\"row_heading level0 row39\" >39</th>\n",
       "      <td id=\"T_468dd_row39_col0\" class=\"data row39 col0\" >d_safetycard</td>\n",
       "      <td id=\"T_468dd_row39_col1\" class=\"data row39 col1\" >0.3%</td>\n",
       "      <td id=\"T_468dd_row39_col2\" class=\"data row39 col2\" >96.1%</td>\n",
       "    </tr>\n",
       "    <tr>\n",
       "      <th id=\"T_468dd_level0_row40\" class=\"row_heading level0 row40\" >40</th>\n",
       "      <td id=\"T_468dd_row40_col0\" class=\"data row40 col0\" >f_neighbourhood_cleansed[T.Tower Hamlets]</td>\n",
       "      <td id=\"T_468dd_row40_col1\" class=\"data row40 col1\" >0.3%</td>\n",
       "      <td id=\"T_468dd_row40_col2\" class=\"data row40 col2\" >96.4%</td>\n",
       "    </tr>\n",
       "    <tr>\n",
       "      <th id=\"T_468dd_level0_row41\" class=\"row_heading level0 row41\" >41</th>\n",
       "      <td id=\"T_468dd_row41_col0\" class=\"data row41 col0\" >d_breakfast</td>\n",
       "      <td id=\"T_468dd_row41_col1\" class=\"data row41 col1\" >0.2%</td>\n",
       "      <td id=\"T_468dd_row41_col2\" class=\"data row41 col2\" >96.7%</td>\n",
       "    </tr>\n",
       "    <tr>\n",
       "      <th id=\"T_468dd_level0_row42\" class=\"row_heading level0 row42\" >42</th>\n",
       "      <td id=\"T_468dd_row42_col0\" class=\"data row42 col0\" >d_smokingallowed</td>\n",
       "      <td id=\"T_468dd_row42_col1\" class=\"data row42 col1\" >0.2%</td>\n",
       "      <td id=\"T_468dd_row42_col2\" class=\"data row42 col2\" >96.9%</td>\n",
       "    </tr>\n",
       "    <tr>\n",
       "      <th id=\"T_468dd_level0_row43\" class=\"row_heading level0 row43\" >43</th>\n",
       "      <td id=\"T_468dd_row43_col0\" class=\"data row43 col0\" >d_doorman</td>\n",
       "      <td id=\"T_468dd_row43_col1\" class=\"data row43 col1\" >0.2%</td>\n",
       "      <td id=\"T_468dd_row43_col2\" class=\"data row43 col2\" >97.1%</td>\n",
       "    </tr>\n",
       "    <tr>\n",
       "      <th id=\"T_468dd_level0_row44\" class=\"row_heading level0 row44\" >44</th>\n",
       "      <td id=\"T_468dd_row44_col0\" class=\"data row44 col0\" >d_petsallowed</td>\n",
       "      <td id=\"T_468dd_row44_col1\" class=\"data row44 col1\" >0.2%</td>\n",
       "      <td id=\"T_468dd_row44_col2\" class=\"data row44 col2\" >97.2%</td>\n",
       "    </tr>\n",
       "    <tr>\n",
       "      <th id=\"T_468dd_level0_row45\" class=\"row_heading level0 row45\" >45</th>\n",
       "      <td id=\"T_468dd_row45_col0\" class=\"data row45 col0\" >d_wheelchairaccessible</td>\n",
       "      <td id=\"T_468dd_row45_col1\" class=\"data row45 col1\" >0.1%</td>\n",
       "      <td id=\"T_468dd_row45_col2\" class=\"data row45 col2\" >97.4%</td>\n",
       "    </tr>\n",
       "    <tr>\n",
       "      <th id=\"T_468dd_level0_row46\" class=\"row_heading level0 row46\" >46</th>\n",
       "      <td id=\"T_468dd_row46_col0\" class=\"data row46 col0\" >d_wirelessinternet</td>\n",
       "      <td id=\"T_468dd_row46_col1\" class=\"data row46 col1\" >0.1%</td>\n",
       "      <td id=\"T_468dd_row46_col2\" class=\"data row46 col2\" >97.5%</td>\n",
       "    </tr>\n",
       "    <tr>\n",
       "      <th id=\"T_468dd_level0_row47\" class=\"row_heading level0 row47\" >47</th>\n",
       "      <td id=\"T_468dd_row47_col0\" class=\"data row47 col0\" >f_neighbourhood_cleansed[T.Lewisham]</td>\n",
       "      <td id=\"T_468dd_row47_col1\" class=\"data row47 col1\" >0.1%</td>\n",
       "      <td id=\"T_468dd_row47_col2\" class=\"data row47 col2\" >97.6%</td>\n",
       "    </tr>\n",
       "    <tr>\n",
       "      <th id=\"T_468dd_level0_row48\" class=\"row_heading level0 row48\" >48</th>\n",
       "      <td id=\"T_468dd_row48_col0\" class=\"data row48 col0\" >d_petsliveonthisproperty</td>\n",
       "      <td id=\"T_468dd_row48_col1\" class=\"data row48 col1\" >0.1%</td>\n",
       "      <td id=\"T_468dd_row48_col2\" class=\"data row48 col2\" >97.8%</td>\n",
       "    </tr>\n",
       "    <tr>\n",
       "      <th id=\"T_468dd_level0_row49\" class=\"row_heading level0 row49\" >49</th>\n",
       "      <td id=\"T_468dd_row49_col0\" class=\"data row49 col0\" >f_neighbourhood_cleansed[T.Islington]</td>\n",
       "      <td id=\"T_468dd_row49_col1\" class=\"data row49 col1\" >0.1%</td>\n",
       "      <td id=\"T_468dd_row49_col2\" class=\"data row49 col2\" >97.9%</td>\n",
       "    </tr>\n",
       "    <tr>\n",
       "      <th id=\"T_468dd_level0_row50\" class=\"row_heading level0 row50\" >50</th>\n",
       "      <td id=\"T_468dd_row50_col0\" class=\"data row50 col0\" >d_heating</td>\n",
       "      <td id=\"T_468dd_row50_col1\" class=\"data row50 col1\" >0.1%</td>\n",
       "      <td id=\"T_468dd_row50_col2\" class=\"data row50 col2\" >98.0%</td>\n",
       "    </tr>\n",
       "    <tr>\n",
       "      <th id=\"T_468dd_level0_row51\" class=\"row_heading level0 row51\" >51</th>\n",
       "      <td id=\"T_468dd_row51_col0\" class=\"data row51 col0\" >d_hottub</td>\n",
       "      <td id=\"T_468dd_row51_col1\" class=\"data row51 col1\" >0.1%</td>\n",
       "      <td id=\"T_468dd_row51_col2\" class=\"data row51 col2\" >98.1%</td>\n",
       "    </tr>\n",
       "    <tr>\n",
       "      <th id=\"T_468dd_level0_row52\" class=\"row_heading level0 row52\" >52</th>\n",
       "      <td id=\"T_468dd_row52_col0\" class=\"data row52 col0\" >d_kitchen</td>\n",
       "      <td id=\"T_468dd_row52_col1\" class=\"data row52 col1\" >0.1%</td>\n",
       "      <td id=\"T_468dd_row52_col2\" class=\"data row52 col2\" >98.2%</td>\n",
       "    </tr>\n",
       "    <tr>\n",
       "      <th id=\"T_468dd_level0_row53\" class=\"row_heading level0 row53\" >53</th>\n",
       "      <td id=\"T_468dd_row53_col0\" class=\"data row53 col0\" >f_neighbourhood_cleansed[T.City of London]</td>\n",
       "      <td id=\"T_468dd_row53_col1\" class=\"data row53 col1\" >0.1%</td>\n",
       "      <td id=\"T_468dd_row53_col2\" class=\"data row53 col2\" >98.3%</td>\n",
       "    </tr>\n",
       "    <tr>\n",
       "      <th id=\"T_468dd_level0_row54\" class=\"row_heading level0 row54\" >54</th>\n",
       "      <td id=\"T_468dd_row54_col0\" class=\"data row54 col0\" >d_pool</td>\n",
       "      <td id=\"T_468dd_row54_col1\" class=\"data row54 col1\" >0.1%</td>\n",
       "      <td id=\"T_468dd_row54_col2\" class=\"data row54 col2\" >98.4%</td>\n",
       "    </tr>\n",
       "    <tr>\n",
       "      <th id=\"T_468dd_level0_row55\" class=\"row_heading level0 row55\" >55</th>\n",
       "      <td id=\"T_468dd_row55_col0\" class=\"data row55 col0\" >f_neighbourhood_cleansed[T.Richmond upon Thames]</td>\n",
       "      <td id=\"T_468dd_row55_col1\" class=\"data row55 col1\" >0.1%</td>\n",
       "      <td id=\"T_468dd_row55_col2\" class=\"data row55 col2\" >98.5%</td>\n",
       "    </tr>\n",
       "    <tr>\n",
       "      <th id=\"T_468dd_level0_row56\" class=\"row_heading level0 row56\" >56</th>\n",
       "      <td id=\"T_468dd_row56_col0\" class=\"data row56 col0\" >d_privateentrance</td>\n",
       "      <td id=\"T_468dd_row56_col1\" class=\"data row56 col1\" >0.1%</td>\n",
       "      <td id=\"T_468dd_row56_col2\" class=\"data row56 col2\" >98.6%</td>\n",
       "    </tr>\n",
       "    <tr>\n",
       "      <th id=\"T_468dd_level0_row57\" class=\"row_heading level0 row57\" >57</th>\n",
       "      <td id=\"T_468dd_row57_col0\" class=\"data row57 col0\" >f_neighbourhood_cleansed[T.Hackney]</td>\n",
       "      <td id=\"T_468dd_row57_col1\" class=\"data row57 col1\" >0.1%</td>\n",
       "      <td id=\"T_468dd_row57_col2\" class=\"data row57 col2\" >98.7%</td>\n",
       "    </tr>\n",
       "    <tr>\n",
       "      <th id=\"T_468dd_level0_row58\" class=\"row_heading level0 row58\" >58</th>\n",
       "      <td id=\"T_468dd_row58_col0\" class=\"data row58 col0\" >f_neighbourhood_cleansed[T.Southwark]</td>\n",
       "      <td id=\"T_468dd_row58_col1\" class=\"data row58 col1\" >0.1%</td>\n",
       "      <td id=\"T_468dd_row58_col2\" class=\"data row58 col2\" >98.8%</td>\n",
       "    </tr>\n",
       "    <tr>\n",
       "      <th id=\"T_468dd_level0_row59\" class=\"row_heading level0 row59\" >59</th>\n",
       "      <td id=\"T_468dd_row59_col0\" class=\"data row59 col0\" >f_neighbourhood_cleansed[T.Hammersmith and Fulham]</td>\n",
       "      <td id=\"T_468dd_row59_col1\" class=\"data row59 col1\" >0.1%</td>\n",
       "      <td id=\"T_468dd_row59_col2\" class=\"data row59 col2\" >98.9%</td>\n",
       "    </tr>\n",
       "    <tr>\n",
       "      <th id=\"T_468dd_level0_row60\" class=\"row_heading level0 row60\" >60</th>\n",
       "      <td id=\"T_468dd_row60_col0\" class=\"data row60 col0\" >d_selfcheckin</td>\n",
       "      <td id=\"T_468dd_row60_col1\" class=\"data row60 col1\" >0.1%</td>\n",
       "      <td id=\"T_468dd_row60_col2\" class=\"data row60 col2\" >99.0%</td>\n",
       "    </tr>\n",
       "    <tr>\n",
       "      <th id=\"T_468dd_level0_row61\" class=\"row_heading level0 row61\" >61</th>\n",
       "      <td id=\"T_468dd_row61_col0\" class=\"data row61 col0\" >f_neighbourhood_cleansed[T.Waltham Forest]</td>\n",
       "      <td id=\"T_468dd_row61_col1\" class=\"data row61 col1\" >0.1%</td>\n",
       "      <td id=\"T_468dd_row61_col2\" class=\"data row61 col2\" >99.1%</td>\n",
       "    </tr>\n",
       "    <tr>\n",
       "      <th id=\"T_468dd_level0_row62\" class=\"row_heading level0 row62\" >62</th>\n",
       "      <td id=\"T_468dd_row62_col0\" class=\"data row62 col0\" >d_suitableforevents</td>\n",
       "      <td id=\"T_468dd_row62_col1\" class=\"data row62 col1\" >0.1%</td>\n",
       "      <td id=\"T_468dd_row62_col2\" class=\"data row62 col2\" >99.2%</td>\n",
       "    </tr>\n",
       "    <tr>\n",
       "      <th id=\"T_468dd_level0_row63\" class=\"row_heading level0 row63\" >63</th>\n",
       "      <td id=\"T_468dd_row63_col0\" class=\"data row63 col0\" >d_gym</td>\n",
       "      <td id=\"T_468dd_row63_col1\" class=\"data row63 col1\" >0.1%</td>\n",
       "      <td id=\"T_468dd_row63_col2\" class=\"data row63 col2\" >99.3%</td>\n",
       "    </tr>\n",
       "    <tr>\n",
       "      <th id=\"T_468dd_level0_row64\" class=\"row_heading level0 row64\" >64</th>\n",
       "      <td id=\"T_468dd_row64_col0\" class=\"data row64 col0\" >f_neighbourhood_cleansed[T.Wandsworth]</td>\n",
       "      <td id=\"T_468dd_row64_col1\" class=\"data row64 col1\" >0.1%</td>\n",
       "      <td id=\"T_468dd_row64_col2\" class=\"data row64 col2\" >99.4%</td>\n",
       "    </tr>\n",
       "    <tr>\n",
       "      <th id=\"T_468dd_level0_row65\" class=\"row_heading level0 row65\" >65</th>\n",
       "      <td id=\"T_468dd_row65_col0\" class=\"data row65 col0\" >f_neighbourhood_cleansed[T.Lambeth]</td>\n",
       "      <td id=\"T_468dd_row65_col1\" class=\"data row65 col1\" >0.1%</td>\n",
       "      <td id=\"T_468dd_row65_col2\" class=\"data row65 col2\" >99.4%</td>\n",
       "    </tr>\n",
       "    <tr>\n",
       "      <th id=\"T_468dd_level0_row66\" class=\"row_heading level0 row66\" >66</th>\n",
       "      <td id=\"T_468dd_row66_col0\" class=\"data row66 col0\" >d_lockbox</td>\n",
       "      <td id=\"T_468dd_row66_col1\" class=\"data row66 col1\" >0.1%</td>\n",
       "      <td id=\"T_468dd_row66_col2\" class=\"data row66 col2\" >99.5%</td>\n",
       "    </tr>\n",
       "    <tr>\n",
       "      <th id=\"T_468dd_level0_row67\" class=\"row_heading level0 row67\" >67</th>\n",
       "      <td id=\"T_468dd_row67_col0\" class=\"data row67 col0\" >f_neighbourhood_cleansed[T.Brent]</td>\n",
       "      <td id=\"T_468dd_row67_col1\" class=\"data row67 col1\" >0.1%</td>\n",
       "      <td id=\"T_468dd_row67_col2\" class=\"data row67 col2\" >99.6%</td>\n",
       "    </tr>\n",
       "    <tr>\n",
       "      <th id=\"T_468dd_level0_row68\" class=\"row_heading level0 row68\" >68</th>\n",
       "      <td id=\"T_468dd_row68_col0\" class=\"data row68 col0\" >d_washerdryer</td>\n",
       "      <td id=\"T_468dd_row68_col1\" class=\"data row68 col1\" >0.1%</td>\n",
       "      <td id=\"T_468dd_row68_col2\" class=\"data row68 col2\" >99.6%</td>\n",
       "    </tr>\n",
       "    <tr>\n",
       "      <th id=\"T_468dd_level0_row69\" class=\"row_heading level0 row69\" >69</th>\n",
       "      <td id=\"T_468dd_row69_col0\" class=\"data row69 col0\" >f_neighbourhood_cleansed[T.Ealing]</td>\n",
       "      <td id=\"T_468dd_row69_col1\" class=\"data row69 col1\" >0.0%</td>\n",
       "      <td id=\"T_468dd_row69_col2\" class=\"data row69 col2\" >99.7%</td>\n",
       "    </tr>\n",
       "    <tr>\n",
       "      <th id=\"T_468dd_level0_row70\" class=\"row_heading level0 row70\" >70</th>\n",
       "      <td id=\"T_468dd_row70_col0\" class=\"data row70 col0\" >f_neighbourhood_cleansed[T.Merton]</td>\n",
       "      <td id=\"T_468dd_row70_col1\" class=\"data row70 col1\" >0.0%</td>\n",
       "      <td id=\"T_468dd_row70_col2\" class=\"data row70 col2\" >99.7%</td>\n",
       "    </tr>\n",
       "    <tr>\n",
       "      <th id=\"T_468dd_level0_row71\" class=\"row_heading level0 row71\" >71</th>\n",
       "      <td id=\"T_468dd_row71_col0\" class=\"data row71 col0\" >f_neighbourhood_cleansed[T.Haringey]</td>\n",
       "      <td id=\"T_468dd_row71_col1\" class=\"data row71 col1\" >0.0%</td>\n",
       "      <td id=\"T_468dd_row71_col2\" class=\"data row71 col2\" >99.7%</td>\n",
       "    </tr>\n",
       "    <tr>\n",
       "      <th id=\"T_468dd_level0_row72\" class=\"row_heading level0 row72\" >72</th>\n",
       "      <td id=\"T_468dd_row72_col0\" class=\"data row72 col0\" >f_bed_type[T.Real Bed]</td>\n",
       "      <td id=\"T_468dd_row72_col1\" class=\"data row72 col1\" >0.0%</td>\n",
       "      <td id=\"T_468dd_row72_col2\" class=\"data row72 col2\" >99.8%</td>\n",
       "    </tr>\n",
       "    <tr>\n",
       "      <th id=\"T_468dd_level0_row73\" class=\"row_heading level0 row73\" >73</th>\n",
       "      <td id=\"T_468dd_row73_col0\" class=\"data row73 col0\" >f_neighbourhood_cleansed[T.Newham]</td>\n",
       "      <td id=\"T_468dd_row73_col1\" class=\"data row73 col1\" >0.0%</td>\n",
       "      <td id=\"T_468dd_row73_col2\" class=\"data row73 col2\" >99.8%</td>\n",
       "    </tr>\n",
       "    <tr>\n",
       "      <th id=\"T_468dd_level0_row74\" class=\"row_heading level0 row74\" >74</th>\n",
       "      <td id=\"T_468dd_row74_col0\" class=\"data row74 col0\" >f_neighbourhood_cleansed[T.Barnet]</td>\n",
       "      <td id=\"T_468dd_row74_col1\" class=\"data row74 col1\" >0.0%</td>\n",
       "      <td id=\"T_468dd_row74_col2\" class=\"data row74 col2\" >99.8%</td>\n",
       "    </tr>\n",
       "    <tr>\n",
       "      <th id=\"T_468dd_level0_row75\" class=\"row_heading level0 row75\" >75</th>\n",
       "      <td id=\"T_468dd_row75_col0\" class=\"data row75 col0\" >f_neighbourhood_cleansed[T.Croydon]</td>\n",
       "      <td id=\"T_468dd_row75_col1\" class=\"data row75 col1\" >0.0%</td>\n",
       "      <td id=\"T_468dd_row75_col2\" class=\"data row75 col2\" >99.9%</td>\n",
       "    </tr>\n",
       "    <tr>\n",
       "      <th id=\"T_468dd_level0_row76\" class=\"row_heading level0 row76\" >76</th>\n",
       "      <td id=\"T_468dd_row76_col0\" class=\"data row76 col0\" >d_cats</td>\n",
       "      <td id=\"T_468dd_row76_col1\" class=\"data row76 col1\" >0.0%</td>\n",
       "      <td id=\"T_468dd_row76_col2\" class=\"data row76 col2\" >99.9%</td>\n",
       "    </tr>\n",
       "    <tr>\n",
       "      <th id=\"T_468dd_level0_row77\" class=\"row_heading level0 row77\" >77</th>\n",
       "      <td id=\"T_468dd_row77_col0\" class=\"data row77 col0\" >f_neighbourhood_cleansed[T.Greenwich]</td>\n",
       "      <td id=\"T_468dd_row77_col1\" class=\"data row77 col1\" >0.0%</td>\n",
       "      <td id=\"T_468dd_row77_col2\" class=\"data row77 col2\" >99.9%</td>\n",
       "    </tr>\n",
       "    <tr>\n",
       "      <th id=\"T_468dd_level0_row78\" class=\"row_heading level0 row78\" >78</th>\n",
       "      <td id=\"T_468dd_row78_col0\" class=\"data row78 col0\" >f_neighbourhood_cleansed[T.Redbridge]</td>\n",
       "      <td id=\"T_468dd_row78_col1\" class=\"data row78 col1\" >0.0%</td>\n",
       "      <td id=\"T_468dd_row78_col2\" class=\"data row78 col2\" >99.9%</td>\n",
       "    </tr>\n",
       "    <tr>\n",
       "      <th id=\"T_468dd_level0_row79\" class=\"row_heading level0 row79\" >79</th>\n",
       "      <td id=\"T_468dd_row79_col0\" class=\"data row79 col0\" >d_dogs</td>\n",
       "      <td id=\"T_468dd_row79_col1\" class=\"data row79 col1\" >0.0%</td>\n",
       "      <td id=\"T_468dd_row79_col2\" class=\"data row79 col2\" >100.0%</td>\n",
       "    </tr>\n",
       "    <tr>\n",
       "      <th id=\"T_468dd_level0_row80\" class=\"row_heading level0 row80\" >80</th>\n",
       "      <td id=\"T_468dd_row80_col0\" class=\"data row80 col0\" >d_privatelivingroom</td>\n",
       "      <td id=\"T_468dd_row80_col1\" class=\"data row80 col1\" >0.0%</td>\n",
       "      <td id=\"T_468dd_row80_col2\" class=\"data row80 col2\" >100.0%</td>\n",
       "    </tr>\n",
       "    <tr>\n",
       "      <th id=\"T_468dd_level0_row81\" class=\"row_heading level0 row81\" >81</th>\n",
       "      <td id=\"T_468dd_row81_col0\" class=\"data row81 col0\" >f_neighbourhood_cleansed[T.Hounslow]</td>\n",
       "      <td id=\"T_468dd_row81_col1\" class=\"data row81 col1\" >0.0%</td>\n",
       "      <td id=\"T_468dd_row81_col2\" class=\"data row81 col2\" >100.0%</td>\n",
       "    </tr>\n",
       "    <tr>\n",
       "      <th id=\"T_468dd_level0_row82\" class=\"row_heading level0 row82\" >82</th>\n",
       "      <td id=\"T_468dd_row82_col0\" class=\"data row82 col0\" >f_neighbourhood_cleansed[T.Bromley]</td>\n",
       "      <td id=\"T_468dd_row82_col1\" class=\"data row82 col1\" >0.0%</td>\n",
       "      <td id=\"T_468dd_row82_col2\" class=\"data row82 col2\" >100.0%</td>\n",
       "    </tr>\n",
       "    <tr>\n",
       "      <th id=\"T_468dd_level0_row83\" class=\"row_heading level0 row83\" >83</th>\n",
       "      <td id=\"T_468dd_row83_col0\" class=\"data row83 col0\" >f_neighbourhood_cleansed[T.Hillingdon]</td>\n",
       "      <td id=\"T_468dd_row83_col1\" class=\"data row83 col1\" >0.0%</td>\n",
       "      <td id=\"T_468dd_row83_col2\" class=\"data row83 col2\" >100.0%</td>\n",
       "    </tr>\n",
       "    <tr>\n",
       "      <th id=\"T_468dd_level0_row84\" class=\"row_heading level0 row84\" >84</th>\n",
       "      <td id=\"T_468dd_row84_col0\" class=\"data row84 col0\" >d_doormanentry</td>\n",
       "      <td id=\"T_468dd_row84_col1\" class=\"data row84 col1\" >0.0%</td>\n",
       "      <td id=\"T_468dd_row84_col2\" class=\"data row84 col2\" >100.0%</td>\n",
       "    </tr>\n",
       "    <tr>\n",
       "      <th id=\"T_468dd_level0_row85\" class=\"row_heading level0 row85\" >85</th>\n",
       "      <td id=\"T_468dd_row85_col0\" class=\"data row85 col0\" >f_neighbourhood_cleansed[T.Enfield]</td>\n",
       "      <td id=\"T_468dd_row85_col1\" class=\"data row85 col1\" >0.0%</td>\n",
       "      <td id=\"T_468dd_row85_col2\" class=\"data row85 col2\" >100.0%</td>\n",
       "    </tr>\n",
       "    <tr>\n",
       "      <th id=\"T_468dd_level0_row86\" class=\"row_heading level0 row86\" >86</th>\n",
       "      <td id=\"T_468dd_row86_col0\" class=\"data row86 col0\" >f_neighbourhood_cleansed[T.Harrow]</td>\n",
       "      <td id=\"T_468dd_row86_col1\" class=\"data row86 col1\" >0.0%</td>\n",
       "      <td id=\"T_468dd_row86_col2\" class=\"data row86 col2\" >100.0%</td>\n",
       "    </tr>\n",
       "    <tr>\n",
       "      <th id=\"T_468dd_level0_row87\" class=\"row_heading level0 row87\" >87</th>\n",
       "      <td id=\"T_468dd_row87_col0\" class=\"data row87 col0\" >f_neighbourhood_cleansed[T.Kingston upon Thames]</td>\n",
       "      <td id=\"T_468dd_row87_col1\" class=\"data row87 col1\" >0.0%</td>\n",
       "      <td id=\"T_468dd_row87_col2\" class=\"data row87 col2\" >100.0%</td>\n",
       "    </tr>\n",
       "    <tr>\n",
       "      <th id=\"T_468dd_level0_row88\" class=\"row_heading level0 row88\" >88</th>\n",
       "      <td id=\"T_468dd_row88_col0\" class=\"data row88 col0\" >d_keypad</td>\n",
       "      <td id=\"T_468dd_row88_col1\" class=\"data row88 col1\" >0.0%</td>\n",
       "      <td id=\"T_468dd_row88_col2\" class=\"data row88 col2\" >100.0%</td>\n",
       "    </tr>\n",
       "    <tr>\n",
       "      <th id=\"T_468dd_level0_row89\" class=\"row_heading level0 row89\" >89</th>\n",
       "      <td id=\"T_468dd_row89_col0\" class=\"data row89 col0\" >f_neighbourhood_cleansed[T.Sutton]</td>\n",
       "      <td id=\"T_468dd_row89_col1\" class=\"data row89 col1\" >0.0%</td>\n",
       "      <td id=\"T_468dd_row89_col2\" class=\"data row89 col2\" >100.0%</td>\n",
       "    </tr>\n",
       "    <tr>\n",
       "      <th id=\"T_468dd_level0_row90\" class=\"row_heading level0 row90\" >90</th>\n",
       "      <td id=\"T_468dd_row90_col0\" class=\"data row90 col0\" >d_otherpets</td>\n",
       "      <td id=\"T_468dd_row90_col1\" class=\"data row90 col1\" >0.0%</td>\n",
       "      <td id=\"T_468dd_row90_col2\" class=\"data row90 col2\" >100.0%</td>\n",
       "    </tr>\n",
       "    <tr>\n",
       "      <th id=\"T_468dd_level0_row91\" class=\"row_heading level0 row91\" >91</th>\n",
       "      <td id=\"T_468dd_row91_col0\" class=\"data row91 col0\" >f_neighbourhood_cleansed[T.Bexley]</td>\n",
       "      <td id=\"T_468dd_row91_col1\" class=\"data row91 col1\" >0.0%</td>\n",
       "      <td id=\"T_468dd_row91_col2\" class=\"data row91 col2\" >100.0%</td>\n",
       "    </tr>\n",
       "    <tr>\n",
       "      <th id=\"T_468dd_level0_row92\" class=\"row_heading level0 row92\" >92</th>\n",
       "      <td id=\"T_468dd_row92_col0\" class=\"data row92 col0\" >f_neighbourhood_cleansed[T.Havering]</td>\n",
       "      <td id=\"T_468dd_row92_col1\" class=\"data row92 col1\" >0.0%</td>\n",
       "      <td id=\"T_468dd_row92_col2\" class=\"data row92 col2\" >100.0%</td>\n",
       "    </tr>\n",
       "    <tr>\n",
       "      <th id=\"T_468dd_level0_row93\" class=\"row_heading level0 row93\" >93</th>\n",
       "      <td id=\"T_468dd_row93_col0\" class=\"data row93 col0\" >d_smartlock</td>\n",
       "      <td id=\"T_468dd_row93_col1\" class=\"data row93 col1\" >0.0%</td>\n",
       "      <td id=\"T_468dd_row93_col2\" class=\"data row93 col2\" >100.0%</td>\n",
       "    </tr>\n",
       "    <tr>\n",
       "      <th id=\"T_468dd_level0_row94\" class=\"row_heading level0 row94\" >94</th>\n",
       "      <td id=\"T_468dd_row94_col0\" class=\"data row94 col0\" >d_freeparkingonstreet</td>\n",
       "      <td id=\"T_468dd_row94_col1\" class=\"data row94 col1\" >0.0%</td>\n",
       "      <td id=\"T_468dd_row94_col2\" class=\"data row94 col2\" >100.0%</td>\n",
       "    </tr>\n",
       "    <tr>\n",
       "      <th id=\"T_468dd_level0_row95\" class=\"row_heading level0 row95\" >95</th>\n",
       "      <td id=\"T_468dd_row95_col0\" class=\"data row95 col0\" >d_paidparkingoffpremises</td>\n",
       "      <td id=\"T_468dd_row95_col1\" class=\"data row95 col1\" >0.0%</td>\n",
       "      <td id=\"T_468dd_row95_col2\" class=\"data row95 col2\" >100.0%</td>\n",
       "    </tr>\n",
       "    <tr>\n",
       "      <th id=\"T_468dd_level0_row96\" class=\"row_heading level0 row96\" >96</th>\n",
       "      <td id=\"T_468dd_row96_col0\" class=\"data row96 col0\" >Intercept</td>\n",
       "      <td id=\"T_468dd_row96_col1\" class=\"data row96 col1\" >0.0%</td>\n",
       "      <td id=\"T_468dd_row96_col2\" class=\"data row96 col2\" >100.0%</td>\n",
       "    </tr>\n",
       "  </tbody>\n",
       "</table>\n"
      ],
      "text/plain": [
       "<pandas.io.formats.style.Styler at 0x18c81c71c30>"
      ]
     },
     "execution_count": 49,
     "metadata": {},
     "output_type": "execute_result"
    }
   ],
   "source": [
    "df_var_imp.style.format({\n",
    "    'imp': lambda x: f'{x:,.1%}',\n",
    "    'cumulative_imp': lambda x: f'{x:,.1%}'})"
   ]
  },
  {
   "cell_type": "markdown",
   "metadata": {},
   "source": [
    "<br> \n",
    "\n",
    "Plotting var imp per se results in a nasty chart."
   ]
  },
  {
   "cell_type": "code",
   "execution_count": 50,
   "metadata": {
    "tags": []
   },
   "outputs": [
    {
     "data": {
      "image/png": "[encoded data removed]",
      "text/plain": [
       "<Figure size 1000x1000 with 1 Axes>"
      ]
     },
     "metadata": {},
     "output_type": "display_data"
    }
   ],
   "source": [
    "df_var_imp\\\n",
    "    .sort_values(by = 'imp')\\\n",
    "    .plot(kind = 'barh', \n",
    "          x = 'variable', y = 'imp', \n",
    "          figsize = (10,10), grid = True, \n",
    "          title = 'Random forest model highest feature importances', \n",
    "          xlabel = 'variables', legend = False\n",
    "         );"
   ]
  },
  {
   "cell_type": "code",
   "execution_count": 51,
   "metadata": {},
   "outputs": [],
   "source": [
    "# we only care for variables with an importance of more than 1 pct\n",
    "cutoff = 0.01"
   ]
  },
  {
   "cell_type": "code",
   "execution_count": 52,
   "metadata": {
    "tags": []
   },
   "outputs": [
    {
     "data": {
      "image/png": "[encoded data removed]",
      "text/plain": [
       "<Figure size 1000x600 with 1 Axes>"
      ]
     },
     "metadata": {},
     "output_type": "display_data"
    }
   ],
   "source": [
    "df_var_imp[df_var_imp.imp > cutoff]\\\n",
    "    .sort_values(by = 'imp')\\\n",
    "    .plot(kind = 'barh', \n",
    "          x = 'variable', y = 'imp', \n",
    "          figsize = (10,6), grid = True, \n",
    "          title = 'Random forest model highest feature importances', \n",
    "          xlabel = 'variables', legend = False\n",
    "         );"
   ]
  },
  {
   "cell_type": "markdown",
   "metadata": {},
   "source": [
    "***grouped variable importance - keep binaries created off factors together***\n",
    "\n",
    "For this, you need to create an `sklearn` Pipeline inclduing `OneHotEncoding` (before, encoding was done by patsy's `dmatrices`). This way permutation_importance can calculate factor variables' importance "
   ]
  },
  {
   "cell_type": "code",
   "execution_count": 53,
   "metadata": {},
   "outputs": [],
   "source": [
    "categorical_columns = [col for col in predictors_2 if col.startswith(\"f_\")]\n",
    "numerical_columns = [col for col in predictors_2 if col not in categorical_columns]"
   ]
  },
  {
   "cell_type": "code",
   "execution_count": 54,
   "metadata": {},
   "outputs": [],
   "source": [
    "categorical_encoder = OneHotEncoder(handle_unknown=\"ignore\")\n",
    "\n",
    "preprocessing = ColumnTransformer([\n",
    "    (\"cat\", categorical_encoder, categorical_columns),\n",
    "    (\"num\", \"passthrough\", numerical_columns)])\n",
    "\n",
    "rf_pipeline = Pipeline(\n",
    "    [(\"preprocess\", preprocessing), \n",
    "     (\"regressor\", rf_model.best_estimator_)] # put best model to pipeline\n",
    ")"
   ]
  },
  {
   "cell_type": "code",
   "execution_count": 55,
   "metadata": {},
   "outputs": [
    {
     "name": "stdout",
     "output_type": "stream",
     "text": [
      "CPU times: total: 5 s\n",
      "Wall time: 4.99 s\n"
     ]
    },
    {
     "data": {
      "text/html": [
       "<style>#sk-container-id-2 {color: black;}#sk-container-id-2 pre{padding: 0;}#sk-container-id-2 div.sk-toggleable {background-color: white;}#sk-container-id-2 label.sk-toggleable__label {cursor: pointer;display: block;width: 100%;margin-bottom: 0;padding: 0.3em;box-sizing: border-box;text-align: center;}#sk-container-id-2 label.sk-toggleable__label-arrow:before {content: \"▸\";float: left;margin-right: 0.25em;color: #696969;}#sk-container-id-2 label.sk-toggleable__label-arrow:hover:before {color: black;}#sk-container-id-2 div.sk-estimator:hover label.sk-toggleable__label-arrow:before {color: black;}#sk-container-id-2 div.sk-toggleable__content {max-height: 0;max-width: 0;overflow: hidden;text-align: left;background-color: #f0f8ff;}#sk-container-id-2 div.sk-toggleable__content pre {margin: 0.2em;color: black;border-radius: 0.25em;background-color: #f0f8ff;}#sk-container-id-2 input.sk-toggleable__control:checked~div.sk-toggleable__content {max-height: 200px;max-width: 100%;overflow: auto;}#sk-container-id-2 input.sk-toggleable__control:checked~label.sk-toggleable__label-arrow:before {content: \"▾\";}#sk-container-id-2 div.sk-estimator input.sk-toggleable__control:checked~label.sk-toggleable__label {background-color: #d4ebff;}#sk-container-id-2 div.sk-label input.sk-toggleable__control:checked~label.sk-toggleable__label {background-color: #d4ebff;}#sk-container-id-2 input.sk-hidden--visually {border: 0;clip: rect(1px 1px 1px 1px);clip: rect(1px, 1px, 1px, 1px);height: 1px;margin: -1px;overflow: hidden;padding: 0;position: absolute;width: 1px;}#sk-container-id-2 div.sk-estimator {font-family: monospace;background-color: #f0f8ff;border: 1px dotted black;border-radius: 0.25em;box-sizing: border-box;margin-bottom: 0.5em;}#sk-container-id-2 div.sk-estimator:hover {background-color: #d4ebff;}#sk-container-id-2 div.sk-parallel-item::after {content: \"\";width: 100%;border-bottom: 1px solid gray;flex-grow: 1;}#sk-container-id-2 div.sk-label:hover label.sk-toggleable__label {background-color: #d4ebff;}#sk-container-id-2 div.sk-serial::before {content: \"\";position: absolute;border-left: 1px solid gray;box-sizing: border-box;top: 0;bottom: 0;left: 50%;z-index: 0;}#sk-container-id-2 div.sk-serial {display: flex;flex-direction: column;align-items: center;background-color: white;padding-right: 0.2em;padding-left: 0.2em;position: relative;}#sk-container-id-2 div.sk-item {position: relative;z-index: 1;}#sk-container-id-2 div.sk-parallel {display: flex;align-items: stretch;justify-content: center;background-color: white;position: relative;}#sk-container-id-2 div.sk-item::before, #sk-container-id-2 div.sk-parallel-item::before {content: \"\";position: absolute;border-left: 1px solid gray;box-sizing: border-box;top: 0;bottom: 0;left: 50%;z-index: -1;}#sk-container-id-2 div.sk-parallel-item {display: flex;flex-direction: column;z-index: 1;position: relative;background-color: white;}#sk-container-id-2 div.sk-parallel-item:first-child::after {align-self: flex-end;width: 50%;}#sk-container-id-2 div.sk-parallel-item:last-child::after {align-self: flex-start;width: 50%;}#sk-container-id-2 div.sk-parallel-item:only-child::after {width: 0;}#sk-container-id-2 div.sk-dashed-wrapped {border: 1px dashed gray;margin: 0 0.4em 0.5em 0.4em;box-sizing: border-box;padding-bottom: 0.4em;background-color: white;}#sk-container-id-2 div.sk-label label {font-family: monospace;font-weight: bold;display: inline-block;line-height: 1.2em;}#sk-container-id-2 div.sk-label-container {text-align: center;}#sk-container-id-2 div.sk-container {/* jupyter's `normalize.less` sets `[hidden] { display: none; }` but bootstrap.min.css set `[hidden] { display: none !important; }` so we also need the `!important` here to be able to override the default hidden behavior on the sphinx rendered scikit-learn.org. See: https://github.com/scikit-learn/scikit-learn/issues/21755 */display: inline-block !important;position: relative;}#sk-container-id-2 div.sk-text-repr-fallback {display: none;}</style><div id=\"sk-container-id-2\" class=\"sk-top-container\"><div class=\"sk-text-repr-fallback\"><pre>Pipeline(steps=[(&#x27;preprocess&#x27;,\n",
       "                 ColumnTransformer(transformers=[(&#x27;cat&#x27;,\n",
       "                                                  OneHotEncoder(handle_unknown=&#x27;ignore&#x27;),\n",
       "                                                  [&#x27;f_property_type&#x27;,\n",
       "                                                   &#x27;f_room_type&#x27;, &#x27;f_bathroom&#x27;,\n",
       "                                                   &#x27;f_cancellation_policy&#x27;,\n",
       "                                                   &#x27;f_bed_type&#x27;,\n",
       "                                                   &#x27;f_neighbourhood_cleansed&#x27;]),\n",
       "                                                 (&#x27;num&#x27;, &#x27;passthrough&#x27;,\n",
       "                                                  [&#x27;n_accommodates&#x27;, &#x27;n_beds&#x27;,\n",
       "                                                   &#x27;n_days_since&#x27;,\n",
       "                                                   &#x27;n_number_of_reviews&#x27;,\n",
       "                                                   &#x27;flag_n_number_of_reviews&#x27;,\n",
       "                                                   &#x27;n_review_scores_r...\n",
       "                                                   &#x27;d_cats&#x27;, &#x27;d_dogs&#x27;,\n",
       "                                                   &#x27;d_doorman&#x27;,\n",
       "                                                   &#x27;d_doormanentry&#x27;, &#x27;d_dryer&#x27;,\n",
       "                                                   &#x27;d_elevatorinbuilding&#x27;,\n",
       "                                                   &#x27;d_essentials&#x27;,\n",
       "                                                   &#x27;d_familykidfriendly&#x27;,\n",
       "                                                   &#x27;d_fireextinguisher&#x27;,\n",
       "                                                   &#x27;d_firstaidkit&#x27;,\n",
       "                                                   &#x27;d_freeparkingonpremises&#x27;,\n",
       "                                                   &#x27;d_freeparkingonstreet&#x27;,\n",
       "                                                   &#x27;d_gym&#x27;, &#x27;d_hairdryer&#x27;,\n",
       "                                                   &#x27;d_hangers&#x27;, &#x27;d_heating&#x27;,\n",
       "                                                   &#x27;d_hottub&#x27;, ...])])),\n",
       "                (&#x27;regressor&#x27;,\n",
       "                 RandomForestRegressor(max_features=12, min_samples_leaf=5,\n",
       "                                       random_state=20240129))])</pre><b>In a Jupyter environment, please rerun this cell to show the HTML representation or trust the notebook. <br />On GitHub, the HTML representation is unable to render, please try loading this page with nbviewer.org.</b></div><div class=\"sk-container\" hidden><div class=\"sk-item sk-dashed-wrapped\"><div class=\"sk-label-container\"><div class=\"sk-label sk-toggleable\"><input class=\"sk-toggleable__control sk-hidden--visually\" id=\"sk-estimator-id-2\" type=\"checkbox\" ><label for=\"sk-estimator-id-2\" class=\"sk-toggleable__label sk-toggleable__label-arrow\">Pipeline</label><div class=\"sk-toggleable__content\"><pre>Pipeline(steps=[(&#x27;preprocess&#x27;,\n",
       "                 ColumnTransformer(transformers=[(&#x27;cat&#x27;,\n",
       "                                                  OneHotEncoder(handle_unknown=&#x27;ignore&#x27;),\n",
       "                                                  [&#x27;f_property_type&#x27;,\n",
       "                                                   &#x27;f_room_type&#x27;, &#x27;f_bathroom&#x27;,\n",
       "                                                   &#x27;f_cancellation_policy&#x27;,\n",
       "                                                   &#x27;f_bed_type&#x27;,\n",
       "                                                   &#x27;f_neighbourhood_cleansed&#x27;]),\n",
       "                                                 (&#x27;num&#x27;, &#x27;passthrough&#x27;,\n",
       "                                                  [&#x27;n_accommodates&#x27;, &#x27;n_beds&#x27;,\n",
       "                                                   &#x27;n_days_since&#x27;,\n",
       "                                                   &#x27;n_number_of_reviews&#x27;,\n",
       "                                                   &#x27;flag_n_number_of_reviews&#x27;,\n",
       "                                                   &#x27;n_review_scores_r...\n",
       "                                                   &#x27;d_cats&#x27;, &#x27;d_dogs&#x27;,\n",
       "                                                   &#x27;d_doorman&#x27;,\n",
       "                                                   &#x27;d_doormanentry&#x27;, &#x27;d_dryer&#x27;,\n",
       "                                                   &#x27;d_elevatorinbuilding&#x27;,\n",
       "                                                   &#x27;d_essentials&#x27;,\n",
       "                                                   &#x27;d_familykidfriendly&#x27;,\n",
       "                                                   &#x27;d_fireextinguisher&#x27;,\n",
       "                                                   &#x27;d_firstaidkit&#x27;,\n",
       "                                                   &#x27;d_freeparkingonpremises&#x27;,\n",
       "                                                   &#x27;d_freeparkingonstreet&#x27;,\n",
       "                                                   &#x27;d_gym&#x27;, &#x27;d_hairdryer&#x27;,\n",
       "                                                   &#x27;d_hangers&#x27;, &#x27;d_heating&#x27;,\n",
       "                                                   &#x27;d_hottub&#x27;, ...])])),\n",
       "                (&#x27;regressor&#x27;,\n",
       "                 RandomForestRegressor(max_features=12, min_samples_leaf=5,\n",
       "                                       random_state=20240129))])</pre></div></div></div><div class=\"sk-serial\"><div class=\"sk-item sk-dashed-wrapped\"><div class=\"sk-label-container\"><div class=\"sk-label sk-toggleable\"><input class=\"sk-toggleable__control sk-hidden--visually\" id=\"sk-estimator-id-3\" type=\"checkbox\" ><label for=\"sk-estimator-id-3\" class=\"sk-toggleable__label sk-toggleable__label-arrow\">preprocess: ColumnTransformer</label><div class=\"sk-toggleable__content\"><pre>ColumnTransformer(transformers=[(&#x27;cat&#x27;, OneHotEncoder(handle_unknown=&#x27;ignore&#x27;),\n",
       "                                 [&#x27;f_property_type&#x27;, &#x27;f_room_type&#x27;,\n",
       "                                  &#x27;f_bathroom&#x27;, &#x27;f_cancellation_policy&#x27;,\n",
       "                                  &#x27;f_bed_type&#x27;, &#x27;f_neighbourhood_cleansed&#x27;]),\n",
       "                                (&#x27;num&#x27;, &#x27;passthrough&#x27;,\n",
       "                                 [&#x27;n_accommodates&#x27;, &#x27;n_beds&#x27;, &#x27;n_days_since&#x27;,\n",
       "                                  &#x27;n_number_of_reviews&#x27;,\n",
       "                                  &#x27;flag_n_number_of_reviews&#x27;,\n",
       "                                  &#x27;n_review_scores_rating&#x27;,\n",
       "                                  &#x27;flag_review_scores_rat...\n",
       "                                  &#x27;d_24hourcheckin&#x27;, &#x27;d_airconditioning&#x27;,\n",
       "                                  &#x27;d_breakfast&#x27;, &#x27;d_buzzerwirelessintercom&#x27;,\n",
       "                                  &#x27;d_cabletv&#x27;, &#x27;d_carbonmonoxidedetector&#x27;,\n",
       "                                  &#x27;d_cats&#x27;, &#x27;d_dogs&#x27;, &#x27;d_doorman&#x27;,\n",
       "                                  &#x27;d_doormanentry&#x27;, &#x27;d_dryer&#x27;,\n",
       "                                  &#x27;d_elevatorinbuilding&#x27;, &#x27;d_essentials&#x27;,\n",
       "                                  &#x27;d_familykidfriendly&#x27;, &#x27;d_fireextinguisher&#x27;,\n",
       "                                  &#x27;d_firstaidkit&#x27;, &#x27;d_freeparkingonpremises&#x27;,\n",
       "                                  &#x27;d_freeparkingonstreet&#x27;, &#x27;d_gym&#x27;,\n",
       "                                  &#x27;d_hairdryer&#x27;, &#x27;d_hangers&#x27;, &#x27;d_heating&#x27;,\n",
       "                                  &#x27;d_hottub&#x27;, ...])])</pre></div></div></div><div class=\"sk-parallel\"><div class=\"sk-parallel-item\"><div class=\"sk-item\"><div class=\"sk-label-container\"><div class=\"sk-label sk-toggleable\"><input class=\"sk-toggleable__control sk-hidden--visually\" id=\"sk-estimator-id-4\" type=\"checkbox\" ><label for=\"sk-estimator-id-4\" class=\"sk-toggleable__label sk-toggleable__label-arrow\">cat</label><div class=\"sk-toggleable__content\"><pre>[&#x27;f_property_type&#x27;, &#x27;f_room_type&#x27;, &#x27;f_bathroom&#x27;, &#x27;f_cancellation_policy&#x27;, &#x27;f_bed_type&#x27;, &#x27;f_neighbourhood_cleansed&#x27;]</pre></div></div></div><div class=\"sk-serial\"><div class=\"sk-item\"><div class=\"sk-estimator sk-toggleable\"><input class=\"sk-toggleable__control sk-hidden--visually\" id=\"sk-estimator-id-5\" type=\"checkbox\" ><label for=\"sk-estimator-id-5\" class=\"sk-toggleable__label sk-toggleable__label-arrow\">OneHotEncoder</label><div class=\"sk-toggleable__content\"><pre>OneHotEncoder(handle_unknown=&#x27;ignore&#x27;)</pre></div></div></div></div></div></div><div class=\"sk-parallel-item\"><div class=\"sk-item\"><div class=\"sk-label-container\"><div class=\"sk-label sk-toggleable\"><input class=\"sk-toggleable__control sk-hidden--visually\" id=\"sk-estimator-id-6\" type=\"checkbox\" ><label for=\"sk-estimator-id-6\" class=\"sk-toggleable__label sk-toggleable__label-arrow\">num</label><div class=\"sk-toggleable__content\"><pre>[&#x27;n_accommodates&#x27;, &#x27;n_beds&#x27;, &#x27;n_days_since&#x27;, &#x27;n_number_of_reviews&#x27;, &#x27;flag_n_number_of_reviews&#x27;, &#x27;n_review_scores_rating&#x27;, &#x27;flag_review_scores_rating&#x27;, &#x27;d_24hourcheckin&#x27;, &#x27;d_airconditioning&#x27;, &#x27;d_breakfast&#x27;, &#x27;d_buzzerwirelessintercom&#x27;, &#x27;d_cabletv&#x27;, &#x27;d_carbonmonoxidedetector&#x27;, &#x27;d_cats&#x27;, &#x27;d_dogs&#x27;, &#x27;d_doorman&#x27;, &#x27;d_doormanentry&#x27;, &#x27;d_dryer&#x27;, &#x27;d_elevatorinbuilding&#x27;, &#x27;d_essentials&#x27;, &#x27;d_familykidfriendly&#x27;, &#x27;d_fireextinguisher&#x27;, &#x27;d_firstaidkit&#x27;, &#x27;d_freeparkingonpremises&#x27;, &#x27;d_freeparkingonstreet&#x27;, &#x27;d_gym&#x27;, &#x27;d_hairdryer&#x27;, &#x27;d_hangers&#x27;, &#x27;d_heating&#x27;, &#x27;d_hottub&#x27;, &#x27;d_indoorfireplace&#x27;, &#x27;d_internet&#x27;, &#x27;d_iron&#x27;, &#x27;d_keypad&#x27;, &#x27;d_kitchen&#x27;, &#x27;d_laptopfriendlyworkspace&#x27;, &#x27;d_lockonbedroomdoor&#x27;, &#x27;d_lockbox&#x27;, &#x27;d_otherpets&#x27;, &#x27;d_paidparkingoffpremises&#x27;, &#x27;d_petsallowed&#x27;, &#x27;d_petsliveonthisproperty&#x27;, &#x27;d_pool&#x27;, &#x27;d_privateentrance&#x27;, &#x27;d_privatelivingroom&#x27;, &#x27;d_safetycard&#x27;, &#x27;d_selfcheckin&#x27;, &#x27;d_shampoo&#x27;, &#x27;d_smartlock&#x27;, &#x27;d_smokedetector&#x27;, &#x27;d_smokingallowed&#x27;, &#x27;d_suitableforevents&#x27;, &#x27;d_tv&#x27;, &#x27;d_washer&#x27;, &#x27;d_washerdryer&#x27;, &#x27;d_wheelchairaccessible&#x27;, &#x27;d_wirelessinternet&#x27;]</pre></div></div></div><div class=\"sk-serial\"><div class=\"sk-item\"><div class=\"sk-estimator sk-toggleable\"><input class=\"sk-toggleable__control sk-hidden--visually\" id=\"sk-estimator-id-7\" type=\"checkbox\" ><label for=\"sk-estimator-id-7\" class=\"sk-toggleable__label sk-toggleable__label-arrow\">passthrough</label><div class=\"sk-toggleable__content\"><pre>passthrough</pre></div></div></div></div></div></div></div></div><div class=\"sk-item\"><div class=\"sk-estimator sk-toggleable\"><input class=\"sk-toggleable__control sk-hidden--visually\" id=\"sk-estimator-id-8\" type=\"checkbox\" ><label for=\"sk-estimator-id-8\" class=\"sk-toggleable__label sk-toggleable__label-arrow\">RandomForestRegressor</label><div class=\"sk-toggleable__content\"><pre>RandomForestRegressor(max_features=12, min_samples_leaf=5,\n",
       "                      random_state=20240129)</pre></div></div></div></div></div></div></div>"
      ],
      "text/plain": [
       "Pipeline(steps=[('preprocess',\n",
       "                 ColumnTransformer(transformers=[('cat',\n",
       "                                                  OneHotEncoder(handle_unknown='ignore'),\n",
       "                                                  ['f_property_type',\n",
       "                                                   'f_room_type', 'f_bathroom',\n",
       "                                                   'f_cancellation_policy',\n",
       "                                                   'f_bed_type',\n",
       "                                                   'f_neighbourhood_cleansed']),\n",
       "                                                 ('num', 'passthrough',\n",
       "                                                  ['n_accommodates', 'n_beds',\n",
       "                                                   'n_days_since',\n",
       "                                                   'n_number_of_reviews',\n",
       "                                                   'flag_n_number_of_reviews',\n",
       "                                                   'n_review_scores_r...\n",
       "                                                   'd_cats', 'd_dogs',\n",
       "                                                   'd_doorman',\n",
       "                                                   'd_doormanentry', 'd_dryer',\n",
       "                                                   'd_elevatorinbuilding',\n",
       "                                                   'd_essentials',\n",
       "                                                   'd_familykidfriendly',\n",
       "                                                   'd_fireextinguisher',\n",
       "                                                   'd_firstaidkit',\n",
       "                                                   'd_freeparkingonpremises',\n",
       "                                                   'd_freeparkingonstreet',\n",
       "                                                   'd_gym', 'd_hairdryer',\n",
       "                                                   'd_hangers', 'd_heating',\n",
       "                                                   'd_hottub', ...])])),\n",
       "                ('regressor',\n",
       "                 RandomForestRegressor(max_features=12, min_samples_leaf=5,\n",
       "                                       random_state=20240129))])"
      ]
     },
     "execution_count": 55,
     "metadata": {},
     "output_type": "execute_result"
    }
   ],
   "source": [
    "%%time\n",
    "rf_pipeline.fit(data_train[predictors_2],data_train.price)"
   ]
  },
  {
   "cell_type": "markdown",
   "metadata": {},
   "source": [
    "Permutation feature importance overcomes limitations of the impurity-based feature importance: they do not have a bias toward high-cardinality features and can be computed on a left-out test set."
   ]
  },
  {
   "cell_type": "code",
   "execution_count": 56,
   "metadata": {
    "tags": []
   },
   "outputs": [
    {
     "name": "stdout",
     "output_type": "stream",
     "text": [
      "CPU times: total: 2min 38s\n",
      "Wall time: 2min 38s\n"
     ]
    }
   ],
   "source": [
    "%%time\n",
    "result = permutation_importance(\n",
    "    rf_pipeline,\n",
    "    data_holdout[predictors_2],\n",
    "    data_holdout.price,\n",
    "    n_repeats=10,\n",
    "    random_state=45,\n",
    ")"
   ]
  },
  {
   "cell_type": "code",
   "execution_count": 57,
   "metadata": {
    "tags": []
   },
   "outputs": [
    {
     "data": {
      "text/plain": [
       "{'importances_mean': array([ 8.20894741e-02,  3.56557861e-02,  1.86734629e-03,  7.12614491e-03,\n",
       "         2.58874955e-01,  9.71030844e-02,  1.57147827e-02,  1.40158197e-04,\n",
       "         6.73178534e-02,  8.13093187e-03,  2.79922533e-03,  3.63925954e-03,\n",
       "         3.06855271e-03,  1.06986809e-03,  6.71110761e-03,  9.99999872e-05,\n",
       "         1.23531454e-03,  2.49266388e-03,  1.91217796e-03,  8.54775835e-05,\n",
       "         2.41034257e-05,  3.36664903e-04,  9.93176873e-06,  8.50048794e-03,\n",
       "         3.37162747e-03,  1.55493248e-03,  3.41969271e-03,  1.46360646e-03,\n",
       "         1.79291971e-03,  6.50268972e-03,  8.52621684e-09,  1.88196569e-04,\n",
       "         2.14200319e-03,  1.38601892e-03,  2.85380089e-04,  3.80043569e-05,\n",
       "         2.10487903e-03,  1.03380353e-03,  1.52471602e-03, -2.36222675e-06,\n",
       "         1.29210771e-04,  1.91505304e-03,  1.01766815e-03,  7.21986509e-05,\n",
       "         3.26409896e-07,  0.00000000e+00,  3.70513547e-04,  1.25764362e-04,\n",
       "         5.32617207e-04,  1.81642145e-04,  2.88218758e-05,  1.22046657e-03,\n",
       "         9.32364860e-05,  1.28500543e-03,  9.24247782e-07,  1.98724211e-03,\n",
       "         5.53764207e-04,  1.55986392e-04,  9.74505575e-03,  1.29490926e-03,\n",
       "         2.63360654e-05,  2.56713882e-04, -2.34552258e-05]),\n",
       " 'importances_std': array([2.47092891e-03, 2.37743641e-03, 4.35323622e-04, 6.64871504e-04,\n",
       "        6.46756117e-03, 3.69376331e-03, 1.25568071e-03, 2.86923631e-05,\n",
       "        2.65566667e-03, 9.54892784e-04, 4.64541920e-04, 3.91960033e-04,\n",
       "        4.86632279e-04, 2.48283367e-04, 8.72001543e-04, 1.18868704e-04,\n",
       "        2.31053756e-04, 3.54880035e-04, 3.53358629e-04, 4.33876249e-05,\n",
       "        1.58565290e-05, 8.75961442e-05, 7.67390045e-06, 6.66641125e-04,\n",
       "        2.93729319e-04, 1.60716363e-04, 8.05070101e-04, 2.69008073e-04,\n",
       "        3.06786711e-04, 5.68570048e-04, 2.41377235e-08, 5.65353284e-05,\n",
       "        3.92021709e-04, 2.00903016e-04, 7.46007430e-05, 7.77560228e-05,\n",
       "        2.46588983e-04, 1.72239795e-04, 2.02275259e-04, 2.74057819e-06,\n",
       "        5.58731109e-05, 3.34254119e-04, 2.25744197e-04, 3.94759684e-05,\n",
       "        7.44254630e-08, 0.00000000e+00, 1.21221027e-04, 7.01170642e-05,\n",
       "        5.24089334e-05, 5.42064034e-05, 7.18923721e-06, 1.38981506e-04,\n",
       "        5.03366935e-05, 1.82842216e-04, 9.50483096e-07, 2.02187824e-04,\n",
       "        1.51184789e-04, 5.66604194e-05, 1.19224340e-03, 1.54844483e-04,\n",
       "        8.85896593e-06, 7.41139878e-05, 6.42790132e-05]),\n",
       " 'importances': array([[ 8.46433887e-02,  8.24583457e-02,  8.29951324e-02,\n",
       "          8.23952803e-02,  8.45984338e-02,  8.42024378e-02,\n",
       "          8.17438008e-02,  8.27947268e-02,  7.70035000e-02,\n",
       "          7.80596952e-02],\n",
       "        [ 3.94861450e-02,  3.53966085e-02,  3.42181560e-02,\n",
       "          3.68335660e-02,  3.78782590e-02,  3.49503978e-02,\n",
       "          3.71175834e-02,  3.69301555e-02,  3.13635977e-02,\n",
       "          3.23833922e-02],\n",
       "        [ 1.96134015e-03,  1.18901727e-03,  1.96791631e-03,\n",
       "          1.92497716e-03,  1.27359273e-03,  2.61593171e-03,\n",
       "          1.49287127e-03,  2.42298640e-03,  2.06524255e-03,\n",
       "          1.75958740e-03],\n",
       "        [ 6.48070051e-03,  6.82345948e-03,  8.61898009e-03,\n",
       "          7.31760911e-03,  6.85789443e-03,  7.21665239e-03,\n",
       "          6.29656666e-03,  7.79154274e-03,  7.35227681e-03,\n",
       "          6.50576686e-03],\n",
       "        [ 2.63033771e-01,  2.63839441e-01,  2.54569385e-01,\n",
       "          2.49353277e-01,  2.71097776e-01,  2.60283359e-01,\n",
       "          2.61157705e-01,  2.61777446e-01,  2.52948593e-01,\n",
       "          2.50688797e-01],\n",
       "        [ 9.90432608e-02,  1.01548454e-01,  9.96506402e-02,\n",
       "          9.91954977e-02,  1.01214931e-01,  9.59998246e-02,\n",
       "          9.61304330e-02,  9.66426825e-02,  8.95046094e-02,\n",
       "          9.21005111e-02],\n",
       "        [ 1.82586975e-02,  1.64449734e-02,  1.61064586e-02,\n",
       "          1.46128415e-02,  1.54232098e-02,  1.67717031e-02,\n",
       "          1.45658861e-02,  1.49440742e-02,  1.37283005e-02,\n",
       "          1.62916820e-02],\n",
       "        [ 1.43659533e-04,  1.08452511e-04,  1.16783137e-04,\n",
       "          1.47082797e-04,  1.30153638e-04,  2.04664031e-04,\n",
       "          1.17647406e-04,  1.10061268e-04,  1.65585209e-04,\n",
       "          1.57492443e-04],\n",
       "        [ 7.19619045e-02,  6.81501542e-02,  6.56911195e-02,\n",
       "          6.52680308e-02,  6.45559118e-02,  6.38003576e-02,\n",
       "          7.13288317e-02,  6.74316072e-02,  6.58747039e-02,\n",
       "          6.91159128e-02],\n",
       "        [ 8.49660683e-03,  7.51644306e-03,  9.24102484e-03,\n",
       "          7.25652696e-03,  8.87262044e-03,  9.10742163e-03,\n",
       "          7.36769673e-03,  7.25648733e-03,  9.46781328e-03,\n",
       "          6.72667761e-03],\n",
       "        [ 2.88709724e-03,  2.57254503e-03,  3.26038329e-03,\n",
       "          2.27712300e-03,  2.95537417e-03,  3.09595674e-03,\n",
       "          2.12590140e-03,  2.60114606e-03,  3.74768475e-03,\n",
       "          2.46904168e-03],\n",
       "        [ 4.50793682e-03,  3.25703347e-03,  3.47710315e-03,\n",
       "          3.68273524e-03,  3.72116223e-03,  3.51909634e-03,\n",
       "          3.84500195e-03,  3.01472871e-03,  3.95770852e-03,\n",
       "          3.41008895e-03],\n",
       "        [ 2.90708232e-03,  2.47956542e-03,  3.15282488e-03,\n",
       "          2.83199819e-03,  3.23164324e-03,  3.40249025e-03,\n",
       "          2.72350453e-03,  2.91530328e-03,  4.30884619e-03,\n",
       "          2.73226885e-03],\n",
       "        [ 1.18110933e-03,  1.38241778e-03,  1.00471956e-03,\n",
       "          5.53121973e-04,  8.43449236e-04,  1.12334626e-03,\n",
       "          1.21206800e-03,  1.40695168e-03,  1.13020025e-03,\n",
       "          8.61296850e-04],\n",
       "        [ 6.19799437e-03,  8.03141699e-03,  6.83819722e-03,\n",
       "          7.44275794e-03,  7.30354951e-03,  6.51241405e-03,\n",
       "          7.01336442e-03,  6.13240615e-03,  6.96822782e-03,\n",
       "          4.67074760e-03],\n",
       "        [-4.92894160e-05,  2.07048524e-05,  1.35958684e-04,\n",
       "          9.26999039e-05,  8.53986287e-05,  2.04827910e-04,\n",
       "          3.60409069e-05, -2.56214086e-05,  1.16376026e-04,\n",
       "          3.82903785e-04],\n",
       "        [ 1.14247155e-03,  1.41753509e-03,  1.31836687e-03,\n",
       "          1.17596970e-03,  1.09177307e-03,  1.66223482e-03,\n",
       "          1.24823235e-03,  7.69318796e-04,  1.09066470e-03,\n",
       "          1.43657848e-03],\n",
       "        [ 2.38437164e-03,  2.38430782e-03,  2.43147092e-03,\n",
       "          2.78465993e-03,  2.85128999e-03,  2.49249827e-03,\n",
       "          2.88536562e-03,  1.60103874e-03,  2.73063818e-03,\n",
       "          2.38099767e-03],\n",
       "        [ 2.25067664e-03,  2.14645858e-03,  1.95776627e-03,\n",
       "          2.37922139e-03,  1.77420093e-03,  2.11784140e-03,\n",
       "          1.71623325e-03,  1.95498952e-03,  1.77095758e-03,\n",
       "          1.05343404e-03],\n",
       "        [ 7.12609208e-05,  1.86699154e-04,  5.49253347e-05,\n",
       "          5.92714547e-05,  7.19199674e-05,  7.69468288e-05,\n",
       "          1.46549063e-04,  7.92887188e-05,  7.32582200e-05,\n",
       "          3.46561731e-05],\n",
       "        [ 3.06440328e-05,  3.42850585e-05,  3.13615235e-05,\n",
       "          1.93220472e-05,  1.33059023e-05, -3.58846020e-06,\n",
       "          5.45339645e-05,  3.47984372e-05,  5.12068638e-06,\n",
       "          2.12510650e-05],\n",
       "        [ 3.10950756e-04,  3.28689967e-04,  3.03366515e-04,\n",
       "          2.96791540e-04,  2.57386505e-04,  2.21527323e-04,\n",
       "          3.28440361e-04,  4.14488613e-04,  5.54494399e-04,\n",
       "          3.50513054e-04],\n",
       "        [ 1.20225888e-05,  7.12092169e-06,  7.41337353e-06,\n",
       "          8.28192255e-06,  9.96125871e-06,  3.19803776e-05,\n",
       "          6.17582632e-06,  7.53205317e-06,  3.83738588e-06,\n",
       "          4.99197906e-06],\n",
       "        [ 9.14455437e-03,  8.75548530e-03,  8.47938148e-03,\n",
       "          7.17336796e-03,  9.20923969e-03,  9.04283551e-03,\n",
       "          8.42550147e-03,  9.16144276e-03,  7.82188770e-03,\n",
       "          7.79118316e-03],\n",
       "        [ 3.51396573e-03,  3.47596864e-03,  3.42030334e-03,\n",
       "          2.97280283e-03,  3.48567434e-03,  3.94159978e-03,\n",
       "          3.24383699e-03,  3.53367617e-03,  3.28864681e-03,\n",
       "          2.83980011e-03],\n",
       "        [ 1.47202386e-03,  1.51306800e-03,  1.53142658e-03,\n",
       "          1.27328644e-03,  1.67680923e-03,  1.86108726e-03,\n",
       "          1.53512680e-03,  1.38101619e-03,  1.57711796e-03,\n",
       "          1.72836250e-03],\n",
       "        [ 3.98114150e-03,  4.66861504e-03,  2.34361867e-03,\n",
       "          3.84491142e-03,  3.32618232e-03,  3.35720626e-03,\n",
       "          3.35306982e-03,  4.43012416e-03,  2.03767899e-03,\n",
       "          2.85437894e-03],\n",
       "        [ 1.46187288e-03,  1.41989313e-03,  1.59236683e-03,\n",
       "          1.03042897e-03,  1.27360885e-03,  1.49256013e-03,\n",
       "          2.01982747e-03,  1.28782843e-03,  1.78553908e-03,\n",
       "          1.27213882e-03],\n",
       "        [ 2.38471010e-03,  2.10663213e-03,  1.99337252e-03,\n",
       "          1.61678914e-03,  1.95427287e-03,  1.58599627e-03,\n",
       "          1.51010634e-03,  1.44959859e-03,  1.91016044e-03,\n",
       "          1.41755874e-03],\n",
       "        [ 7.30750472e-03,  6.33187621e-03,  5.55629087e-03,\n",
       "          6.46111740e-03,  5.97211619e-03,  7.09845755e-03,\n",
       "          6.60148037e-03,  7.38062327e-03,  6.10970379e-03,\n",
       "          6.20772685e-03],\n",
       "        [ 4.80309015e-10,  4.80309015e-10,  8.09393873e-08,\n",
       "          4.80309015e-10,  4.80309015e-10,  4.80309015e-10,\n",
       "          4.80309015e-10,  4.80309015e-10,  4.80309015e-10,\n",
       "          4.80309015e-10],\n",
       "        [ 1.60955616e-04,  2.02480277e-04,  1.73353835e-04,\n",
       "          1.66745550e-04,  2.26633857e-04,  2.11667276e-04,\n",
       "          1.78347819e-04,  2.19542049e-04,  2.86542431e-04,\n",
       "          5.56969767e-05],\n",
       "        [ 2.17910343e-03,  3.09135570e-03,  1.90160544e-03,\n",
       "          2.09775448e-03,  2.21852727e-03,  1.63302935e-03,\n",
       "          2.42764127e-03,  2.24579405e-03,  1.80414179e-03,\n",
       "          1.82107910e-03],\n",
       "        [ 1.55668386e-03,  1.11581132e-03,  1.64957365e-03,\n",
       "          1.64851824e-03,  1.36114548e-03,  1.03489241e-03,\n",
       "          1.51482543e-03,  1.40832173e-03,  1.31514224e-03,\n",
       "          1.25527485e-03],\n",
       "        [ 1.82054039e-04,  3.82539624e-04,  3.09948478e-04,\n",
       "          2.20591837e-04,  3.01050216e-04,  2.64126156e-04,\n",
       "          1.71773153e-04,  3.97522253e-04,  3.51645049e-04,\n",
       "          2.72550080e-04],\n",
       "        [ 4.04852594e-05,  1.10750471e-04,  9.28100260e-05,\n",
       "         -6.32172730e-05, -1.08795005e-05,  1.50158257e-04,\n",
       "         -6.62345651e-05, -5.84124551e-05,  7.12197739e-05,\n",
       "          1.13363577e-04],\n",
       "        [ 2.36086083e-03,  2.41538188e-03,  1.73519003e-03,\n",
       "          2.01567667e-03,  2.11743875e-03,  2.13954776e-03,\n",
       "          1.90387283e-03,  2.08074062e-03,  2.49828415e-03,\n",
       "          1.78179679e-03],\n",
       "        [ 1.17182702e-03,  8.60433595e-04,  1.26124194e-03,\n",
       "          1.00921427e-03,  1.05745455e-03,  1.07011775e-03,\n",
       "          9.97715154e-04,  1.09378441e-03,  1.18817309e-03,\n",
       "          6.28073501e-04],\n",
       "        [ 2.05008737e-03,  1.55994028e-03,  1.50889759e-03,\n",
       "          1.32660227e-03,  1.32218703e-03,  1.48535026e-03,\n",
       "          1.35427263e-03,  1.65109919e-03,  1.53285622e-03,\n",
       "          1.45586732e-03],\n",
       "        [-1.01607379e-06, -2.71543556e-06, -3.90881432e-06,\n",
       "          1.05423339e-06, -3.58733505e-06,  1.58748137e-07,\n",
       "         -1.63198354e-06, -1.35603631e-06, -9.33026965e-06,\n",
       "         -1.28930077e-06],\n",
       "        [ 2.05727220e-04,  1.30940302e-04,  7.52582688e-05,\n",
       "          1.42917026e-04,  1.47218982e-04,  7.98789469e-05,\n",
       "          3.47979386e-05,  9.62199231e-05,  1.56303861e-04,\n",
       "          2.22845242e-04],\n",
       "        [ 1.94261228e-03,  2.01032514e-03,  1.57404153e-03,\n",
       "          2.08552767e-03,  1.95960625e-03,  1.71279203e-03,\n",
       "          2.48682236e-03,  2.34212469e-03,  1.73640217e-03,\n",
       "          1.30027630e-03],\n",
       "        [ 1.12917527e-03,  8.43631110e-04,  9.73073436e-04,\n",
       "          1.18586758e-03,  1.16399704e-03,  9.51973434e-04,\n",
       "          5.92919182e-04,  1.42882223e-03,  1.11671852e-03,\n",
       "          7.90503713e-04],\n",
       "        [ 8.04450488e-05,  7.30092592e-05,  3.44829300e-05,\n",
       "          7.48448684e-06,  1.44746147e-04,  7.20614741e-05,\n",
       "          9.56419485e-05,  2.88733990e-05,  6.63482871e-05,\n",
       "          1.18893528e-04],\n",
       "        [ 2.99521177e-07,  3.33200936e-07,  5.44202458e-07,\n",
       "          3.01748916e-07,  2.85750756e-07,  3.16528007e-07,\n",
       "          3.18638277e-07,  2.99521177e-07,  2.92217681e-07,\n",
       "          2.72769577e-07],\n",
       "        [ 0.00000000e+00,  0.00000000e+00,  0.00000000e+00,\n",
       "          0.00000000e+00,  0.00000000e+00,  0.00000000e+00,\n",
       "          0.00000000e+00,  0.00000000e+00,  0.00000000e+00,\n",
       "          0.00000000e+00],\n",
       "        [ 1.38538737e-04,  4.61302185e-04,  3.88285284e-04,\n",
       "          5.92036227e-04,  2.71238806e-04,  4.81402212e-04,\n",
       "          3.56918945e-04,  3.86736478e-04,  3.71745915e-04,\n",
       "          2.56930683e-04],\n",
       "        [ 1.41329535e-04,  3.06364713e-05,  1.20256864e-04,\n",
       "          1.42029194e-04,  1.92647214e-04,  1.87779163e-04,\n",
       "          1.93694671e-04,  1.81552831e-04, -2.37531270e-05,\n",
       "          9.14708023e-05],\n",
       "        [ 5.35910473e-04,  5.19216686e-04,  5.40690597e-04,\n",
       "          5.22164434e-04,  5.60374808e-04,  5.42598347e-04,\n",
       "          4.90247471e-04,  4.14171794e-04,  5.75712547e-04,\n",
       "          6.25084915e-04],\n",
       "        [ 1.71731741e-04,  1.56342998e-04,  2.20272996e-04,\n",
       "          1.45104757e-04,  2.13914708e-04,  1.30872078e-04,\n",
       "          9.89006060e-05,  1.49089623e-04,  2.78581625e-04,\n",
       "          2.51610321e-04],\n",
       "        [ 3.44402030e-05,  2.53723954e-05,  1.24913866e-05,\n",
       "          3.25138335e-05,  3.55581402e-05,  2.68229611e-05,\n",
       "          2.35302193e-05,  2.80600697e-05,  2.99364925e-05,\n",
       "          3.94930568e-05],\n",
       "        [ 1.49529391e-03,  1.26114567e-03,  9.94310077e-04,\n",
       "          9.76537842e-04,  1.27685074e-03,  1.23678934e-03,\n",
       "          1.23493327e-03,  1.25192340e-03,  1.24263492e-03,\n",
       "          1.23424653e-03],\n",
       "        [ 1.66782574e-04,  1.29874183e-04,  6.94111156e-05,\n",
       "          3.62006527e-05,  1.25161883e-04,  1.00820992e-04,\n",
       "          4.97340764e-05,  2.16501506e-06,  1.52006517e-04,\n",
       "          1.00207851e-04],\n",
       "        [ 1.58187027e-03,  1.26669541e-03,  1.44292010e-03,\n",
       "          1.06799311e-03,  1.07092475e-03,  1.34314555e-03,\n",
       "          1.56811114e-03,  1.20131203e-03,  1.19153658e-03,\n",
       "          1.11554537e-03],\n",
       "        [-1.31657838e-06, -4.72538080e-07,  1.50518964e-06,\n",
       "          1.50518964e-06,  1.50518964e-06,  1.11283771e-06,\n",
       "          1.50518964e-06,  8.87618736e-07,  1.50518964e-06,\n",
       "          1.50518964e-06],\n",
       "        [ 1.93897152e-03,  1.96831507e-03,  2.28221639e-03,\n",
       "          1.86062915e-03,  2.23640561e-03,  1.99038504e-03,\n",
       "          2.15200326e-03,  1.52753016e-03,  1.93817941e-03,\n",
       "          1.97778554e-03],\n",
       "        [ 4.83997311e-04,  3.95103498e-04,  6.22347391e-04,\n",
       "          6.09370033e-04,  8.12768453e-04,  4.37688158e-04,\n",
       "          6.95552579e-04,  2.73257991e-04,  6.60279432e-04,\n",
       "          5.47277227e-04],\n",
       "        [ 1.17208491e-04,  1.17695216e-04,  1.24850830e-04,\n",
       "          1.49267766e-04,  1.93936564e-04,  5.78630145e-05,\n",
       "          1.54841557e-04,  2.47052674e-04,  1.47931309e-04,\n",
       "          2.49216499e-04],\n",
       "        [ 8.18836264e-03,  9.46616341e-03,  9.15798529e-03,\n",
       "          1.08529281e-02,  1.17173576e-02,  1.11087210e-02,\n",
       "          9.29029170e-03,  9.49061800e-03,  1.03656974e-02,\n",
       "          7.81243227e-03],\n",
       "        [ 1.59906178e-03,  1.29816610e-03,  1.19508388e-03,\n",
       "          1.28409409e-03,  1.47626893e-03,  1.24744798e-03,\n",
       "          1.01706308e-03,  1.22407819e-03,  1.20480558e-03,\n",
       "          1.40302301e-03],\n",
       "        [ 1.42648707e-05,  1.52829081e-05,  2.13332780e-05,\n",
       "          1.62621048e-05,  2.94055695e-05,  2.93140189e-05,\n",
       "          2.88710029e-05,  3.89108567e-05,  4.04403757e-05,\n",
       "          2.92756683e-05],\n",
       "        [ 2.09656133e-04,  2.60375177e-04,  2.21447289e-04,\n",
       "          3.10801550e-04,  3.42091937e-04,  2.74837761e-04,\n",
       "          3.34343501e-04,  1.11699726e-04,  1.67901237e-04,\n",
       "          3.33984512e-04],\n",
       "        [ 4.23024738e-05, -1.06074870e-04, -1.05542979e-04,\n",
       "         -1.00886194e-05, -7.19644473e-05, -3.04892769e-05,\n",
       "         -7.71147131e-05, -1.63338326e-05,  8.28091718e-05,\n",
       "          5.79448348e-05]])}"
      ]
     },
     "execution_count": 57,
     "metadata": {},
     "output_type": "execute_result"
    }
   ],
   "source": [
    "result"
   ]
  },
  {
   "cell_type": "code",
   "execution_count": 58,
   "metadata": {
    "tags": []
   },
   "outputs": [
    {
     "data": {
      "text/html": [
       "<div>\n",
       "<style scoped>\n",
       "    .dataframe tbody tr th:only-of-type {\n",
       "        vertical-align: middle;\n",
       "    }\n",
       "\n",
       "    .dataframe tbody tr th {\n",
       "        vertical-align: top;\n",
       "    }\n",
       "\n",
       "    .dataframe thead th {\n",
       "        text-align: right;\n",
       "    }\n",
       "</style>\n",
       "<table border=\"1\" class=\"dataframe\">\n",
       "  <thead>\n",
       "    <tr style=\"text-align: right;\">\n",
       "      <th></th>\n",
       "      <th>0</th>\n",
       "    </tr>\n",
       "  </thead>\n",
       "  <tbody>\n",
       "    <tr>\n",
       "      <th>n_accommodates</th>\n",
       "      <td>0.082089</td>\n",
       "    </tr>\n",
       "    <tr>\n",
       "      <th>n_beds</th>\n",
       "      <td>0.035656</td>\n",
       "    </tr>\n",
       "    <tr>\n",
       "      <th>n_days_since</th>\n",
       "      <td>0.001867</td>\n",
       "    </tr>\n",
       "    <tr>\n",
       "      <th>f_property_type</th>\n",
       "      <td>0.007126</td>\n",
       "    </tr>\n",
       "    <tr>\n",
       "      <th>f_room_type</th>\n",
       "      <td>0.258875</td>\n",
       "    </tr>\n",
       "    <tr>\n",
       "      <th>...</th>\n",
       "      <td>...</td>\n",
       "    </tr>\n",
       "    <tr>\n",
       "      <th>d_tv</th>\n",
       "      <td>0.009745</td>\n",
       "    </tr>\n",
       "    <tr>\n",
       "      <th>d_washer</th>\n",
       "      <td>0.001295</td>\n",
       "    </tr>\n",
       "    <tr>\n",
       "      <th>d_washerdryer</th>\n",
       "      <td>0.000026</td>\n",
       "    </tr>\n",
       "    <tr>\n",
       "      <th>d_wheelchairaccessible</th>\n",
       "      <td>0.000257</td>\n",
       "    </tr>\n",
       "    <tr>\n",
       "      <th>d_wirelessinternet</th>\n",
       "      <td>-0.000023</td>\n",
       "    </tr>\n",
       "  </tbody>\n",
       "</table>\n",
       "<p>63 rows × 1 columns</p>\n",
       "</div>"
      ],
      "text/plain": [
       "                               0\n",
       "n_accommodates          0.082089\n",
       "n_beds                  0.035656\n",
       "n_days_since            0.001867\n",
       "f_property_type         0.007126\n",
       "f_room_type             0.258875\n",
       "...                          ...\n",
       "d_tv                    0.009745\n",
       "d_washer                0.001295\n",
       "d_washerdryer           0.000026\n",
       "d_wheelchairaccessible  0.000257\n",
       "d_wirelessinternet     -0.000023\n",
       "\n",
       "[63 rows x 1 columns]"
      ]
     },
     "execution_count": 58,
     "metadata": {},
     "output_type": "execute_result"
    }
   ],
   "source": [
    "pd.DataFrame(\n",
    "        result.importances_mean,\n",
    "        data_train[predictors_2].columns)"
   ]
  },
  {
   "cell_type": "code",
   "execution_count": 59,
   "metadata": {},
   "outputs": [],
   "source": [
    "grouped = [\n",
    "    \"f_bed_type\",\n",
    "    \"f_property_type\",\n",
    "    \"f_room_type\",\n",
    "    \"f_bathroom\",\n",
    "    \"n_days_since\",\n",
    "    \"n_accommodates\",\n",
    "    \"n_beds\",\n",
    "    \"f_neighbourhood_cleansed\",\n",
    "    \"f_cancellation_policy\",\n",
    "]"
   ]
  },
  {
   "cell_type": "code",
   "execution_count": 60,
   "metadata": {
    "tags": []
   },
   "outputs": [],
   "source": [
    "df_grouped_var_imp = pd.DataFrame(\n",
    "        result.importances_mean,\n",
    "        data_train[predictors_2].columns)\\\n",
    "    .loc[grouped]\\\n",
    "    .sort_values(by = 0, ascending = False)\\\n",
    "    .reset_index()\\\n",
    "    .rename({'index': 'variable', 0: 'imp'}, axis = 1)\n",
    "df_grouped_var_imp['cumulative_imp'] = df_grouped_var_imp.imp.cumsum()"
   ]
  },
  {
   "cell_type": "code",
   "execution_count": 61,
   "metadata": {
    "tags": []
   },
   "outputs": [
    {
     "data": {
      "text/html": [
       "<style type=\"text/css\">\n",
       "</style>\n",
       "<table id=\"T_a492b\">\n",
       "  <thead>\n",
       "    <tr>\n",
       "      <th class=\"blank level0\" >&nbsp;</th>\n",
       "      <th id=\"T_a492b_level0_col0\" class=\"col_heading level0 col0\" >variable</th>\n",
       "      <th id=\"T_a492b_level0_col1\" class=\"col_heading level0 col1\" >imp</th>\n",
       "      <th id=\"T_a492b_level0_col2\" class=\"col_heading level0 col2\" >cumulative_imp</th>\n",
       "    </tr>\n",
       "  </thead>\n",
       "  <tbody>\n",
       "    <tr>\n",
       "      <th id=\"T_a492b_level0_row0\" class=\"row_heading level0 row0\" >0</th>\n",
       "      <td id=\"T_a492b_row0_col0\" class=\"data row0 col0\" >f_room_type</td>\n",
       "      <td id=\"T_a492b_row0_col1\" class=\"data row0 col1\" >25.9%</td>\n",
       "      <td id=\"T_a492b_row0_col2\" class=\"data row0 col2\" >25.9%</td>\n",
       "    </tr>\n",
       "    <tr>\n",
       "      <th id=\"T_a492b_level0_row1\" class=\"row_heading level0 row1\" >1</th>\n",
       "      <td id=\"T_a492b_row1_col0\" class=\"data row1 col0\" >f_bathroom</td>\n",
       "      <td id=\"T_a492b_row1_col1\" class=\"data row1 col1\" >9.7%</td>\n",
       "      <td id=\"T_a492b_row1_col2\" class=\"data row1 col2\" >35.6%</td>\n",
       "    </tr>\n",
       "    <tr>\n",
       "      <th id=\"T_a492b_level0_row2\" class=\"row_heading level0 row2\" >2</th>\n",
       "      <td id=\"T_a492b_row2_col0\" class=\"data row2 col0\" >n_accommodates</td>\n",
       "      <td id=\"T_a492b_row2_col1\" class=\"data row2 col1\" >8.2%</td>\n",
       "      <td id=\"T_a492b_row2_col2\" class=\"data row2 col2\" >43.8%</td>\n",
       "    </tr>\n",
       "    <tr>\n",
       "      <th id=\"T_a492b_level0_row3\" class=\"row_heading level0 row3\" >3</th>\n",
       "      <td id=\"T_a492b_row3_col0\" class=\"data row3 col0\" >f_neighbourhood_cleansed</td>\n",
       "      <td id=\"T_a492b_row3_col1\" class=\"data row3 col1\" >6.7%</td>\n",
       "      <td id=\"T_a492b_row3_col2\" class=\"data row3 col2\" >50.5%</td>\n",
       "    </tr>\n",
       "    <tr>\n",
       "      <th id=\"T_a492b_level0_row4\" class=\"row_heading level0 row4\" >4</th>\n",
       "      <td id=\"T_a492b_row4_col0\" class=\"data row4 col0\" >n_beds</td>\n",
       "      <td id=\"T_a492b_row4_col1\" class=\"data row4 col1\" >3.6%</td>\n",
       "      <td id=\"T_a492b_row4_col2\" class=\"data row4 col2\" >54.1%</td>\n",
       "    </tr>\n",
       "    <tr>\n",
       "      <th id=\"T_a492b_level0_row5\" class=\"row_heading level0 row5\" >5</th>\n",
       "      <td id=\"T_a492b_row5_col0\" class=\"data row5 col0\" >f_cancellation_policy</td>\n",
       "      <td id=\"T_a492b_row5_col1\" class=\"data row5 col1\" >1.6%</td>\n",
       "      <td id=\"T_a492b_row5_col2\" class=\"data row5 col2\" >55.7%</td>\n",
       "    </tr>\n",
       "    <tr>\n",
       "      <th id=\"T_a492b_level0_row6\" class=\"row_heading level0 row6\" >6</th>\n",
       "      <td id=\"T_a492b_row6_col0\" class=\"data row6 col0\" >f_property_type</td>\n",
       "      <td id=\"T_a492b_row6_col1\" class=\"data row6 col1\" >0.7%</td>\n",
       "      <td id=\"T_a492b_row6_col2\" class=\"data row6 col2\" >56.4%</td>\n",
       "    </tr>\n",
       "    <tr>\n",
       "      <th id=\"T_a492b_level0_row7\" class=\"row_heading level0 row7\" >7</th>\n",
       "      <td id=\"T_a492b_row7_col0\" class=\"data row7 col0\" >n_days_since</td>\n",
       "      <td id=\"T_a492b_row7_col1\" class=\"data row7 col1\" >0.2%</td>\n",
       "      <td id=\"T_a492b_row7_col2\" class=\"data row7 col2\" >56.6%</td>\n",
       "    </tr>\n",
       "    <tr>\n",
       "      <th id=\"T_a492b_level0_row8\" class=\"row_heading level0 row8\" >8</th>\n",
       "      <td id=\"T_a492b_row8_col0\" class=\"data row8 col0\" >f_bed_type</td>\n",
       "      <td id=\"T_a492b_row8_col1\" class=\"data row8 col1\" >0.0%</td>\n",
       "      <td id=\"T_a492b_row8_col2\" class=\"data row8 col2\" >56.6%</td>\n",
       "    </tr>\n",
       "  </tbody>\n",
       "</table>\n"
      ],
      "text/plain": [
       "<pandas.io.formats.style.Styler at 0x18c8a0db910>"
      ]
     },
     "execution_count": 61,
     "metadata": {},
     "output_type": "execute_result"
    }
   ],
   "source": [
    "df_grouped_var_imp.style.format({\n",
    "    'imp': lambda x: f'{x:,.1%}',\n",
    "    'cumulative_imp': lambda x: f'{x:,.1%}'})"
   ]
  },
  {
   "cell_type": "code",
   "execution_count": 62,
   "metadata": {},
   "outputs": [
    {
     "data": {
      "image/png": "[encoded data removed]",
      "text/plain": [
       "<Figure size 1000x600 with 1 Axes>"
      ]
     },
     "metadata": {},
     "output_type": "display_data"
    }
   ],
   "source": [
    "df_grouped_var_imp\\\n",
    "    .sort_values(by = 'imp')\\\n",
    "    .plot(kind = 'barh', \n",
    "          x = 'variable', y = 'imp', \n",
    "          figsize = (10,6), grid = True, \n",
    "          title = 'Random forest model grouped feature importances', \n",
    "          xlabel = 'variables', legend = False\n",
    "         );"
   ]
  },
  {
   "cell_type": "code",
   "execution_count": 63,
   "metadata": {
    "tags": []
   },
   "outputs": [
    {
     "data": {
      "text/html": [
       "<div>\n",
       "<style scoped>\n",
       "    .dataframe tbody tr th:only-of-type {\n",
       "        vertical-align: middle;\n",
       "    }\n",
       "\n",
       "    .dataframe tbody tr th {\n",
       "        vertical-align: top;\n",
       "    }\n",
       "\n",
       "    .dataframe thead th {\n",
       "        text-align: right;\n",
       "    }\n",
       "</style>\n",
       "<table border=\"1\" class=\"dataframe\">\n",
       "  <thead>\n",
       "    <tr style=\"text-align: right;\">\n",
       "      <th></th>\n",
       "      <th>variable</th>\n",
       "      <th>imp</th>\n",
       "      <th>cumulative_imp</th>\n",
       "    </tr>\n",
       "  </thead>\n",
       "  <tbody>\n",
       "    <tr>\n",
       "      <th>0</th>\n",
       "      <td>f_room_type</td>\n",
       "      <td>0.258875</td>\n",
       "      <td>0.205867</td>\n",
       "    </tr>\n",
       "    <tr>\n",
       "      <th>1</th>\n",
       "      <td>f_bathroom</td>\n",
       "      <td>0.097103</td>\n",
       "      <td>0.402309</td>\n",
       "    </tr>\n",
       "    <tr>\n",
       "      <th>2</th>\n",
       "      <td>n_accommodates</td>\n",
       "      <td>0.082089</td>\n",
       "      <td>0.513446</td>\n",
       "    </tr>\n",
       "    <tr>\n",
       "      <th>3</th>\n",
       "      <td>f_neighbourhood_cleansed</td>\n",
       "      <td>0.067318</td>\n",
       "      <td>0.614782</td>\n",
       "    </tr>\n",
       "    <tr>\n",
       "      <th>4</th>\n",
       "      <td>n_beds</td>\n",
       "      <td>0.035656</td>\n",
       "      <td>0.649365</td>\n",
       "    </tr>\n",
       "    <tr>\n",
       "      <th>5</th>\n",
       "      <td>f_cancellation_policy</td>\n",
       "      <td>0.015715</td>\n",
       "      <td>0.682881</td>\n",
       "    </tr>\n",
       "    <tr>\n",
       "      <th>6</th>\n",
       "      <td>d_tv</td>\n",
       "      <td>0.009745</td>\n",
       "      <td>0.708820</td>\n",
       "    </tr>\n",
       "    <tr>\n",
       "      <th>7</th>\n",
       "      <td>d_dryer</td>\n",
       "      <td>0.008500</td>\n",
       "      <td>0.731517</td>\n",
       "    </tr>\n",
       "    <tr>\n",
       "      <th>8</th>\n",
       "      <td>n_number_of_reviews</td>\n",
       "      <td>0.008131</td>\n",
       "      <td>0.750168</td>\n",
       "    </tr>\n",
       "    <tr>\n",
       "      <th>9</th>\n",
       "      <td>f_property_type</td>\n",
       "      <td>0.007126</td>\n",
       "      <td>0.766611</td>\n",
       "    </tr>\n",
       "    <tr>\n",
       "      <th>10</th>\n",
       "      <td>d_airconditioning</td>\n",
       "      <td>0.006711</td>\n",
       "      <td>0.782652</td>\n",
       "    </tr>\n",
       "    <tr>\n",
       "      <th>11</th>\n",
       "      <td>d_freeparkingonpremises</td>\n",
       "      <td>0.006503</td>\n",
       "      <td>0.797670</td>\n",
       "    </tr>\n",
       "    <tr>\n",
       "      <th>12</th>\n",
       "      <td>n_review_scores_rating</td>\n",
       "      <td>0.003639</td>\n",
       "      <td>0.812174</td>\n",
       "    </tr>\n",
       "    <tr>\n",
       "      <th>13</th>\n",
       "      <td>d_familykidfriendly</td>\n",
       "      <td>0.003420</td>\n",
       "      <td>0.826123</td>\n",
       "    </tr>\n",
       "    <tr>\n",
       "      <th>14</th>\n",
       "      <td>d_elevatorinbuilding</td>\n",
       "      <td>0.003372</td>\n",
       "      <td>0.836027</td>\n",
       "    </tr>\n",
       "    <tr>\n",
       "      <th>15</th>\n",
       "      <td>flag_review_scores_rating</td>\n",
       "      <td>0.003069</td>\n",
       "      <td>0.844528</td>\n",
       "    </tr>\n",
       "    <tr>\n",
       "      <th>16</th>\n",
       "      <td>flag_n_number_of_reviews</td>\n",
       "      <td>0.002799</td>\n",
       "      <td>0.852496</td>\n",
       "    </tr>\n",
       "    <tr>\n",
       "      <th>17</th>\n",
       "      <td>d_cabletv</td>\n",
       "      <td>0.002493</td>\n",
       "      <td>0.859178</td>\n",
       "    </tr>\n",
       "    <tr>\n",
       "      <th>18</th>\n",
       "      <td>d_hairdryer</td>\n",
       "      <td>0.002142</td>\n",
       "      <td>0.865307</td>\n",
       "    </tr>\n",
       "    <tr>\n",
       "      <th>19</th>\n",
       "      <td>d_indoorfireplace</td>\n",
       "      <td>0.002105</td>\n",
       "      <td>0.871156</td>\n",
       "    </tr>\n",
       "    <tr>\n",
       "      <th>20</th>\n",
       "      <td>d_smokedetector</td>\n",
       "      <td>0.001987</td>\n",
       "      <td>0.876827</td>\n",
       "    </tr>\n",
       "    <tr>\n",
       "      <th>21</th>\n",
       "      <td>d_laptopfriendlyworkspace</td>\n",
       "      <td>0.001915</td>\n",
       "      <td>0.882256</td>\n",
       "    </tr>\n",
       "    <tr>\n",
       "      <th>22</th>\n",
       "      <td>d_carbonmonoxidedetector</td>\n",
       "      <td>0.001912</td>\n",
       "      <td>0.887570</td>\n",
       "    </tr>\n",
       "    <tr>\n",
       "      <th>23</th>\n",
       "      <td>n_days_since</td>\n",
       "      <td>0.001867</td>\n",
       "      <td>0.892864</td>\n",
       "    </tr>\n",
       "    <tr>\n",
       "      <th>24</th>\n",
       "      <td>d_firstaidkit</td>\n",
       "      <td>0.001793</td>\n",
       "      <td>0.898092</td>\n",
       "    </tr>\n",
       "    <tr>\n",
       "      <th>25</th>\n",
       "      <td>d_essentials</td>\n",
       "      <td>0.001555</td>\n",
       "      <td>0.903232</td>\n",
       "    </tr>\n",
       "    <tr>\n",
       "      <th>26</th>\n",
       "      <td>d_iron</td>\n",
       "      <td>0.001525</td>\n",
       "      <td>0.908310</td>\n",
       "    </tr>\n",
       "  </tbody>\n",
       "</table>\n",
       "</div>"
      ],
      "text/plain": [
       "                     variable       imp  cumulative_imp\n",
       "0                 f_room_type  0.258875        0.205867\n",
       "1                  f_bathroom  0.097103        0.402309\n",
       "2              n_accommodates  0.082089        0.513446\n",
       "3    f_neighbourhood_cleansed  0.067318        0.614782\n",
       "4                      n_beds  0.035656        0.649365\n",
       "5       f_cancellation_policy  0.015715        0.682881\n",
       "6                        d_tv  0.009745        0.708820\n",
       "7                     d_dryer  0.008500        0.731517\n",
       "8         n_number_of_reviews  0.008131        0.750168\n",
       "9             f_property_type  0.007126        0.766611\n",
       "10          d_airconditioning  0.006711        0.782652\n",
       "11    d_freeparkingonpremises  0.006503        0.797670\n",
       "12     n_review_scores_rating  0.003639        0.812174\n",
       "13        d_familykidfriendly  0.003420        0.826123\n",
       "14       d_elevatorinbuilding  0.003372        0.836027\n",
       "15  flag_review_scores_rating  0.003069        0.844528\n",
       "16   flag_n_number_of_reviews  0.002799        0.852496\n",
       "17                  d_cabletv  0.002493        0.859178\n",
       "18                d_hairdryer  0.002142        0.865307\n",
       "19          d_indoorfireplace  0.002105        0.871156\n",
       "20            d_smokedetector  0.001987        0.876827\n",
       "21  d_laptopfriendlyworkspace  0.001915        0.882256\n",
       "22   d_carbonmonoxidedetector  0.001912        0.887570\n",
       "23               n_days_since  0.001867        0.892864\n",
       "24              d_firstaidkit  0.001793        0.898092\n",
       "25               d_essentials  0.001555        0.903232\n",
       "26                     d_iron  0.001525        0.908310"
      ]
     },
     "execution_count": 63,
     "metadata": {},
     "output_type": "execute_result"
    }
   ],
   "source": [
    "df_clean_varimp = pd.DataFrame(\n",
    "        result.importances_mean,\n",
    "        data_train[predictors_2].columns)\\\n",
    "    .sort_values(by = 0, ascending = False)\\\n",
    "    .reset_index()\\\n",
    "    .rename({'index': 'variable', 0: 'imp'}, axis = 1)\n",
    "\n",
    "df_clean_varimp['cumulative_imp'] = df_var_imp['imp'].cumsum()\n",
    "df_clean_varimp[df_clean_varimp.cumulative_imp < 0.91]"
   ]
  },
  {
   "cell_type": "code",
   "execution_count": 64,
   "metadata": {
    "tags": []
   },
   "outputs": [
    {
     "data": {
      "image/png": "[encoded data removed]",
      "text/plain": [
       "<Figure size 1000x600 with 1 Axes>"
      ]
     },
     "metadata": {},
     "output_type": "display_data"
    }
   ],
   "source": [
    "df_clean_varimp.iloc[0:10]\\\n",
    "    .sort_values(by = 'imp')\\\n",
    "    .plot(kind = 'barh', \n",
    "          x = 'variable', y = 'imp', \n",
    "          figsize = (10,6), grid = True, \n",
    "          title = 'Random forest model top 10 feature importances with grouped variables', \n",
    "          xlabel = 'variables', legend = False\n",
    "         );"
   ]
  },
  {
   "cell_type": "markdown",
   "metadata": {},
   "source": [
    "### Partial dependence plots "
   ]
  },
  {
   "cell_type": "markdown",
   "metadata": {
    "tags": []
   },
   "source": [
    "Note: easy way, sklearn has plot_partial_dependence function we do this on holdout set!   \n",
    "Also, note that we run it not on the `rf_model` but on the `rf_pipeline` to manage OneHot_Encoding on the fly."
   ]
  },
  {
   "cell_type": "code",
   "execution_count": 65,
   "metadata": {},
   "outputs": [],
   "source": [
    "accomodates_pdp = partial_dependence(\n",
    "    rf_pipeline, data_holdout[predictors_2], [\"n_accommodates\"], kind=\"average\"\n",
    ")"
   ]
  },
  {
   "cell_type": "code",
   "execution_count": 66,
   "metadata": {},
   "outputs": [
    {
     "data": {
      "text/plain": [
       "{'grid_values': [array([1, 2, 3, 4, 5, 6, 7], dtype=int64)],\n",
       " 'values': [array([1, 2, 3, 4, 5, 6, 7], dtype=int64)],\n",
       " 'average': array([[ 76.26945452,  81.40738784,  85.28039019,  96.0862931 ,\n",
       "         104.60071723, 108.7921692 , 110.77616627]])}"
      ]
     },
     "execution_count": 66,
     "metadata": {},
     "output_type": "execute_result"
    }
   ],
   "source": [
    "accomodates_pdp"
   ]
  },
  {
   "cell_type": "code",
   "execution_count": 67,
   "metadata": {},
   "outputs": [
    {
     "data": {
      "text/plain": [
       "sklearn.utils._bunch.Bunch"
      ]
     },
     "execution_count": 67,
     "metadata": {},
     "output_type": "execute_result"
    }
   ],
   "source": [
    "# We need to access the elements of this complex data structure\n",
    "type(accomodates_pdp)"
   ]
  },
  {
   "cell_type": "code",
   "execution_count": 68,
   "metadata": {},
   "outputs": [
    {
     "data": {
      "text/html": [
       "<div>\n",
       "<style scoped>\n",
       "    .dataframe tbody tr th:only-of-type {\n",
       "        vertical-align: middle;\n",
       "    }\n",
       "\n",
       "    .dataframe tbody tr th {\n",
       "        vertical-align: top;\n",
       "    }\n",
       "\n",
       "    .dataframe thead th {\n",
       "        text-align: right;\n",
       "    }\n",
       "</style>\n",
       "<table border=\"1\" class=\"dataframe\">\n",
       "  <thead>\n",
       "    <tr style=\"text-align: right;\">\n",
       "      <th></th>\n",
       "      <th>number of accomodates</th>\n",
       "      <th>average price</th>\n",
       "    </tr>\n",
       "  </thead>\n",
       "  <tbody>\n",
       "    <tr>\n",
       "      <th>0</th>\n",
       "      <td>1</td>\n",
       "      <td>76.269455</td>\n",
       "    </tr>\n",
       "    <tr>\n",
       "      <th>1</th>\n",
       "      <td>2</td>\n",
       "      <td>81.407388</td>\n",
       "    </tr>\n",
       "    <tr>\n",
       "      <th>2</th>\n",
       "      <td>3</td>\n",
       "      <td>85.280390</td>\n",
       "    </tr>\n",
       "    <tr>\n",
       "      <th>3</th>\n",
       "      <td>4</td>\n",
       "      <td>96.086293</td>\n",
       "    </tr>\n",
       "    <tr>\n",
       "      <th>4</th>\n",
       "      <td>5</td>\n",
       "      <td>104.600717</td>\n",
       "    </tr>\n",
       "    <tr>\n",
       "      <th>5</th>\n",
       "      <td>6</td>\n",
       "      <td>108.792169</td>\n",
       "    </tr>\n",
       "    <tr>\n",
       "      <th>6</th>\n",
       "      <td>7</td>\n",
       "      <td>110.776166</td>\n",
       "    </tr>\n",
       "  </tbody>\n",
       "</table>\n",
       "</div>"
      ],
      "text/plain": [
       "   number of accomodates  average price\n",
       "0                      1      76.269455\n",
       "1                      2      81.407388\n",
       "2                      3      85.280390\n",
       "3                      4      96.086293\n",
       "4                      5     104.600717\n",
       "5                      6     108.792169\n",
       "6                      7     110.776166"
      ]
     },
     "execution_count": 68,
     "metadata": {},
     "output_type": "execute_result"
    }
   ],
   "source": [
    "pd.DataFrame(\n",
    "    {'number of accomodates': accomodates_pdp['values'][0], \n",
    "     'average price': accomodates_pdp['average'][0]}\n",
    "    )"
   ]
  },
  {
   "cell_type": "markdown",
   "metadata": {},
   "source": [
    "We can do our pdp plots using Pandas built-in plot method."
   ]
  },
  {
   "cell_type": "code",
   "execution_count": 69,
   "metadata": {
    "tags": []
   },
   "outputs": [
    {
     "data": {
      "image/png": "[encoded data removed]",
      "text/plain": [
       "<Figure size 1000x600 with 1 Axes>"
      ]
     },
     "metadata": {},
     "output_type": "display_data"
    }
   ],
   "source": [
    "pd.DataFrame(\n",
    "    {'number of accomodates': accomodates_pdp['values'][0], \n",
    "     'average price': accomodates_pdp['average'][0]}\n",
    "    ).sort_values(by = 'average price').plot(\n",
    "    kind = 'line', color = 'k', marker = 'o', markersize = 10, linewidth = 0,\n",
    "    figsize = (10,6), legend = False, grid = True,\n",
    "    x = 'number of accomodates', y = 'average price', ylim = (0, 140), \n",
    "    title = 'Partial dependence plot: number of accomodates'\n",
    ");"
   ]
  },
  {
   "cell_type": "markdown",
   "metadata": {},
   "source": [
    "`sklearn` has its own visualization with complicated syntax. "
   ]
  },
  {
   "cell_type": "code",
   "execution_count": 70,
   "metadata": {},
   "outputs": [
    {
     "data": {
      "image/png": "[encoded data removed]",
      "text/plain": [
       "<Figure size 640x480 with 2 Axes>"
      ]
     },
     "metadata": {},
     "output_type": "display_data"
    }
   ],
   "source": [
    "display = PartialDependenceDisplay(\n",
    "    pd_results = [accomodates_pdp],\n",
    "    features = [(0,)], \n",
    "    feature_names = data_holdout[predictors_2].columns.tolist(), \n",
    "    target_idx = 0,\n",
    "    deciles = {0: np.linspace(1, 7, num=7)}\n",
    ")\n",
    "display.plot()\n",
    "plt.title('Partial dependence plot for n_accomodates')\n",
    "plt.show();"
   ]
  },
  {
   "cell_type": "code",
   "execution_count": 72,
   "metadata": {},
   "outputs": [],
   "source": [
    "roomtype_pdp = partial_dependence(\n",
    "    rf_pipeline, data_holdout[predictors_2], [\"f_room_type\"], kind=\"average\"\n",
    ")"
   ]
  },
  {
   "cell_type": "code",
   "execution_count": 73,
   "metadata": {
    "tags": []
   },
   "outputs": [
    {
     "data": {
      "image/png": "[encoded data removed]",
      "text/plain": [
       "<Figure size 1000x600 with 1 Axes>"
      ]
     },
     "metadata": {},
     "output_type": "display_data"
    }
   ],
   "source": [
    "pd.DataFrame(\n",
    "    {'room type': roomtype_pdp['values'][0], \n",
    "     'average price': roomtype_pdp['average'][0]}\n",
    "    ).sort_values(by = 'average price').plot(\n",
    "    kind = 'line', color = 'k', marker = 'o', markersize = 10, linewidth = 0,\n",
    "    figsize = (10,6), legend = False, grid = True,\n",
    "    x = 'room type', y = 'average price', ylim = (0, 140), \n",
    "    title = 'Partial dependence plot: room type'\n",
    ");"
   ]
  },
  {
   "cell_type": "markdown",
   "metadata": {},
   "source": [
    "#### Subsample performance: RMSE / mean(y) \n",
    "\n",
    "NOTE:  we do this on the holdout set, using the encoding pipeline `rf_pipeline` again.\n"
   ]
  },
  {
   "cell_type": "code",
   "execution_count": 74,
   "metadata": {},
   "outputs": [],
   "source": [
    "data_holdout_w_prediction = data_holdout.assign(\n",
    "    predicted_price=rf_pipeline.predict(data_holdout[predictors_2])\n",
    ")"
   ]
  },
  {
   "cell_type": "markdown",
   "metadata": {},
   "source": [
    "***Creating tables of heterogeneity by various grouping factors***\n",
    "- apartman size"
   ]
  },
  {
   "cell_type": "markdown",
   "metadata": {},
   "source": [
    "This is how we start:"
   ]
  },
  {
   "cell_type": "code",
   "execution_count": 75,
   "metadata": {},
   "outputs": [],
   "source": [
    "data_holdout_w_prediction['is_low_size'] = data_holdout_w_prediction.n_accommodates.map(lambda x: 'small apt' if x < 3 else 'large apt')"
   ]
  },
  {
   "cell_type": "code",
   "execution_count": 76,
   "metadata": {},
   "outputs": [
    {
     "data": {
      "text/html": [
       "<div>\n",
       "<style scoped>\n",
       "    .dataframe tbody tr th:only-of-type {\n",
       "        vertical-align: middle;\n",
       "    }\n",
       "\n",
       "    .dataframe tbody tr th {\n",
       "        vertical-align: top;\n",
       "    }\n",
       "\n",
       "    .dataframe thead th {\n",
       "        text-align: right;\n",
       "    }\n",
       "</style>\n",
       "<table border=\"1\" class=\"dataframe\">\n",
       "  <thead>\n",
       "    <tr style=\"text-align: right;\">\n",
       "      <th></th>\n",
       "      <th>n_days_since3</th>\n",
       "      <th>ln_review_scores_rating</th>\n",
       "      <th>n_accommodates_copy</th>\n",
       "      <th>predicted_price</th>\n",
       "      <th>is_low_size</th>\n",
       "    </tr>\n",
       "  </thead>\n",
       "  <tbody>\n",
       "    <tr>\n",
       "      <th>46691</th>\n",
       "      <td>1404928</td>\n",
       "      <td>4.521789</td>\n",
       "      <td>3</td>\n",
       "      <td>100.965823</td>\n",
       "      <td>large apt</td>\n",
       "    </tr>\n",
       "    <tr>\n",
       "      <th>33332</th>\n",
       "      <td>205379</td>\n",
       "      <td>4.605170</td>\n",
       "      <td>2</td>\n",
       "      <td>89.042902</td>\n",
       "      <td>small apt</td>\n",
       "    </tr>\n",
       "    <tr>\n",
       "      <th>30859</th>\n",
       "      <td>26198073</td>\n",
       "      <td>4.290459</td>\n",
       "      <td>2</td>\n",
       "      <td>98.156643</td>\n",
       "      <td>small apt</td>\n",
       "    </tr>\n",
       "    <tr>\n",
       "      <th>46018</th>\n",
       "      <td>48627125</td>\n",
       "      <td>4.595120</td>\n",
       "      <td>4</td>\n",
       "      <td>99.004494</td>\n",
       "      <td>large apt</td>\n",
       "    </tr>\n",
       "    <tr>\n",
       "      <th>22169</th>\n",
       "      <td>226981</td>\n",
       "      <td>4.605170</td>\n",
       "      <td>2</td>\n",
       "      <td>41.566818</td>\n",
       "      <td>small apt</td>\n",
       "    </tr>\n",
       "  </tbody>\n",
       "</table>\n",
       "</div>"
      ],
      "text/plain": [
       "       n_days_since3  ln_review_scores_rating  n_accommodates_copy  \\\n",
       "46691        1404928                 4.521789                    3   \n",
       "33332         205379                 4.605170                    2   \n",
       "30859       26198073                 4.290459                    2   \n",
       "46018       48627125                 4.595120                    4   \n",
       "22169         226981                 4.605170                    2   \n",
       "\n",
       "       predicted_price is_low_size  \n",
       "46691       100.965823   large apt  \n",
       "33332        89.042902   small apt  \n",
       "30859        98.156643   small apt  \n",
       "46018        99.004494   large apt  \n",
       "22169        41.566818   small apt  "
      ]
     },
     "execution_count": 76,
     "metadata": {},
     "output_type": "execute_result"
    }
   ],
   "source": [
    "data_holdout_w_prediction.iloc[0:5, -5:]"
   ]
  },
  {
   "cell_type": "code",
   "execution_count": 77,
   "metadata": {
    "tags": []
   },
   "outputs": [
    {
     "data": {
      "text/plain": [
       "is_low_size\n",
       "large apt    61.939318\n",
       "small apt    30.374166\n",
       "dtype: float64"
      ]
     },
     "execution_count": 77,
     "metadata": {},
     "output_type": "execute_result"
    }
   ],
   "source": [
    "data_holdout_w_prediction.groupby('is_low_size').apply(lambda x: mean_squared_error(x.predicted_price, x.price, squared=False))"
   ]
  },
  {
   "cell_type": "markdown",
   "metadata": {},
   "source": [
    "Putting it in a function with additional columns"
   ]
  },
  {
   "cell_type": "code",
   "execution_count": 78,
   "metadata": {},
   "outputs": [],
   "source": [
    "def calculate_rmse(groupby_obj):\n",
    "    return (\n",
    "        groupby_obj.apply(\n",
    "            lambda x: mean_squared_error(x.predicted_price, x.price, squared=False),\n",
    "        )\n",
    "        .to_frame(name=\"rmse\")\n",
    "        .assign(mean_price=groupby_obj.apply(lambda x: np.mean(x.price)).values)\n",
    "        .assign(rmse_norm=lambda x: x.rmse / x.mean_price).round(2)\n",
    "    )"
   ]
  },
  {
   "cell_type": "code",
   "execution_count": 79,
   "metadata": {
    "tags": []
   },
   "outputs": [],
   "source": [
    "# cheaper or more expensive flats - not used in book\n",
    "grouped_object = data_holdout_w_prediction.assign(\n",
    "    is_low_size=lambda x: np.where(x.n_accommodates <= 3, \"small apt\", \"large apt\")\n",
    ").groupby(\"is_low_size\")\n",
    "accom_subset = calculate_rmse(grouped_object)"
   ]
  },
  {
   "cell_type": "code",
   "execution_count": 80,
   "metadata": {
    "tags": []
   },
   "outputs": [
    {
     "data": {
      "text/html": [
       "<div>\n",
       "<style scoped>\n",
       "    .dataframe tbody tr th:only-of-type {\n",
       "        vertical-align: middle;\n",
       "    }\n",
       "\n",
       "    .dataframe tbody tr th {\n",
       "        vertical-align: top;\n",
       "    }\n",
       "\n",
       "    .dataframe thead th {\n",
       "        text-align: right;\n",
       "    }\n",
       "</style>\n",
       "<table border=\"1\" class=\"dataframe\">\n",
       "  <thead>\n",
       "    <tr style=\"text-align: right;\">\n",
       "      <th></th>\n",
       "      <th>rmse</th>\n",
       "      <th>mean_price</th>\n",
       "      <th>rmse_norm</th>\n",
       "    </tr>\n",
       "    <tr>\n",
       "      <th>is_low_size</th>\n",
       "      <th></th>\n",
       "      <th></th>\n",
       "      <th></th>\n",
       "    </tr>\n",
       "  </thead>\n",
       "  <tbody>\n",
       "    <tr>\n",
       "      <th>large apt</th>\n",
       "      <td>66.27</td>\n",
       "      <td>144.06</td>\n",
       "      <td>0.46</td>\n",
       "    </tr>\n",
       "    <tr>\n",
       "      <th>small apt</th>\n",
       "      <td>31.09</td>\n",
       "      <td>62.86</td>\n",
       "      <td>0.49</td>\n",
       "    </tr>\n",
       "  </tbody>\n",
       "</table>\n",
       "</div>"
      ],
      "text/plain": [
       "              rmse  mean_price  rmse_norm\n",
       "is_low_size                              \n",
       "large apt    66.27      144.06       0.46\n",
       "small apt    31.09       62.86       0.49"
      ]
     },
     "execution_count": 80,
     "metadata": {},
     "output_type": "execute_result"
    }
   ],
   "source": [
    "accom_subset"
   ]
  },
  {
   "cell_type": "markdown",
   "metadata": {},
   "source": [
    "- fancy neighborhoods"
   ]
  },
  {
   "cell_type": "code",
   "execution_count": 81,
   "metadata": {
    "tags": []
   },
   "outputs": [
    {
     "data": {
      "text/html": [
       "<div>\n",
       "<style scoped>\n",
       "    .dataframe tbody tr th:only-of-type {\n",
       "        vertical-align: middle;\n",
       "    }\n",
       "\n",
       "    .dataframe tbody tr th {\n",
       "        vertical-align: top;\n",
       "    }\n",
       "\n",
       "    .dataframe thead th {\n",
       "        text-align: right;\n",
       "    }\n",
       "</style>\n",
       "<table border=\"1\" class=\"dataframe\">\n",
       "  <thead>\n",
       "    <tr style=\"text-align: right;\">\n",
       "      <th></th>\n",
       "      <th>rmse</th>\n",
       "      <th>mean_price</th>\n",
       "      <th>rmse_norm</th>\n",
       "    </tr>\n",
       "    <tr>\n",
       "      <th>f_neighbourhood_cleansed</th>\n",
       "      <th></th>\n",
       "      <th></th>\n",
       "      <th></th>\n",
       "    </tr>\n",
       "  </thead>\n",
       "  <tbody>\n",
       "    <tr>\n",
       "      <th>Camden</th>\n",
       "      <td>55.40</td>\n",
       "      <td>105.01</td>\n",
       "      <td>0.53</td>\n",
       "    </tr>\n",
       "    <tr>\n",
       "      <th>Hackney</th>\n",
       "      <td>38.64</td>\n",
       "      <td>76.05</td>\n",
       "      <td>0.51</td>\n",
       "    </tr>\n",
       "    <tr>\n",
       "      <th>Kensington and Chelsea</th>\n",
       "      <td>66.61</td>\n",
       "      <td>143.55</td>\n",
       "      <td>0.46</td>\n",
       "    </tr>\n",
       "    <tr>\n",
       "      <th>Newham</th>\n",
       "      <td>29.88</td>\n",
       "      <td>61.57</td>\n",
       "      <td>0.49</td>\n",
       "    </tr>\n",
       "    <tr>\n",
       "      <th>Tower Hamlets</th>\n",
       "      <td>35.52</td>\n",
       "      <td>74.25</td>\n",
       "      <td>0.48</td>\n",
       "    </tr>\n",
       "    <tr>\n",
       "      <th>Westminster</th>\n",
       "      <td>64.88</td>\n",
       "      <td>131.43</td>\n",
       "      <td>0.49</td>\n",
       "    </tr>\n",
       "  </tbody>\n",
       "</table>\n",
       "</div>"
      ],
      "text/plain": [
       "                           rmse  mean_price  rmse_norm\n",
       "f_neighbourhood_cleansed                              \n",
       "Camden                    55.40      105.01       0.53\n",
       "Hackney                   38.64       76.05       0.51\n",
       "Kensington and Chelsea    66.61      143.55       0.46\n",
       "Newham                    29.88       61.57       0.49\n",
       "Tower Hamlets             35.52       74.25       0.48\n",
       "Westminster               64.88      131.43       0.49"
      ]
     },
     "execution_count": 81,
     "metadata": {},
     "output_type": "execute_result"
    }
   ],
   "source": [
    "grouped_object = data_holdout_w_prediction.loc[\n",
    "    lambda x: x.f_neighbourhood_cleansed.isin(\n",
    "        [\n",
    "            \"Westminster\",\n",
    "            \"Camden\",\n",
    "            \"Kensington and Chelsea\",\n",
    "            \"Tower Hamlets\",\n",
    "            \"Hackney\",\n",
    "            \"Newham\",\n",
    "        ]\n",
    "    )\n",
    "].groupby(\"f_neighbourhood_cleansed\")\n",
    "neightbourhood_subset = calculate_rmse(grouped_object)\n",
    "\n",
    "neightbourhood_subset"
   ]
  },
  {
   "cell_type": "markdown",
   "metadata": {},
   "source": [
    "- property type"
   ]
  },
  {
   "cell_type": "code",
   "execution_count": 82,
   "metadata": {
    "tags": []
   },
   "outputs": [
    {
     "data": {
      "text/html": [
       "<div>\n",
       "<style scoped>\n",
       "    .dataframe tbody tr th:only-of-type {\n",
       "        vertical-align: middle;\n",
       "    }\n",
       "\n",
       "    .dataframe tbody tr th {\n",
       "        vertical-align: top;\n",
       "    }\n",
       "\n",
       "    .dataframe thead th {\n",
       "        text-align: right;\n",
       "    }\n",
       "</style>\n",
       "<table border=\"1\" class=\"dataframe\">\n",
       "  <thead>\n",
       "    <tr style=\"text-align: right;\">\n",
       "      <th></th>\n",
       "      <th>rmse</th>\n",
       "      <th>mean_price</th>\n",
       "      <th>rmse_norm</th>\n",
       "    </tr>\n",
       "    <tr>\n",
       "      <th>f_property_type</th>\n",
       "      <th></th>\n",
       "      <th></th>\n",
       "      <th></th>\n",
       "    </tr>\n",
       "  </thead>\n",
       "  <tbody>\n",
       "    <tr>\n",
       "      <th>Apartment</th>\n",
       "      <td>43.57</td>\n",
       "      <td>93.19</td>\n",
       "      <td>0.47</td>\n",
       "    </tr>\n",
       "    <tr>\n",
       "      <th>House</th>\n",
       "      <td>51.07</td>\n",
       "      <td>77.49</td>\n",
       "      <td>0.66</td>\n",
       "    </tr>\n",
       "  </tbody>\n",
       "</table>\n",
       "</div>"
      ],
      "text/plain": [
       "                  rmse  mean_price  rmse_norm\n",
       "f_property_type                              \n",
       "Apartment        43.57       93.19       0.47\n",
       "House            51.07       77.49       0.66"
      ]
     },
     "execution_count": 82,
     "metadata": {},
     "output_type": "execute_result"
    }
   ],
   "source": [
    "grouped_object = data_holdout_w_prediction.loc[\n",
    "    lambda x: x.f_property_type.isin([\"Apartment\", \"House\"])\n",
    "].groupby(\"f_property_type\")\n",
    "proptype_subset = calculate_rmse(grouped_object)\n",
    "\n",
    "proptype_subset"
   ]
  },
  {
   "cell_type": "code",
   "execution_count": 83,
   "metadata": {},
   "outputs": [
    {
     "data": {
      "text/html": [
       "<div>\n",
       "<style scoped>\n",
       "    .dataframe tbody tr th:only-of-type {\n",
       "        vertical-align: middle;\n",
       "    }\n",
       "\n",
       "    .dataframe tbody tr th {\n",
       "        vertical-align: top;\n",
       "    }\n",
       "\n",
       "    .dataframe thead th {\n",
       "        text-align: right;\n",
       "    }\n",
       "</style>\n",
       "<table border=\"1\" class=\"dataframe\">\n",
       "  <thead>\n",
       "    <tr style=\"text-align: right;\">\n",
       "      <th></th>\n",
       "      <th>rmse</th>\n",
       "      <th>mean_price</th>\n",
       "      <th>rmse_norm</th>\n",
       "    </tr>\n",
       "  </thead>\n",
       "  <tbody>\n",
       "    <tr>\n",
       "      <th>Total</th>\n",
       "      <td>45.59</td>\n",
       "      <td>89.21</td>\n",
       "      <td>0.51</td>\n",
       "    </tr>\n",
       "  </tbody>\n",
       "</table>\n",
       "</div>"
      ],
      "text/plain": [
       "        rmse  mean_price  rmse_norm\n",
       "Total  45.59       89.21       0.51"
      ]
     },
     "execution_count": 83,
     "metadata": {},
     "output_type": "execute_result"
    }
   ],
   "source": [
    "all_holdout = pd.DataFrame(\n",
    "    [\n",
    "        mean_squared_error(\n",
    "            data_holdout_w_prediction.price,\n",
    "            data_holdout_w_prediction.predicted_price,\n",
    "            squared=False,\n",
    "        ),\n",
    "        data_holdout_w_prediction.price.mean(),\n",
    "    ],\n",
    "    index=[\"rmse\", \"mean_price\"],\n",
    ").T.assign(rmse_norm=lambda x: x.rmse / x.mean_price).round(2)\n",
    "all_holdout.index = [\"Total\"]\n",
    "\n",
    "all_holdout"
   ]
  },
  {
   "cell_type": "code",
   "execution_count": 84,
   "metadata": {},
   "outputs": [],
   "source": [
    "type_rows = pd.DataFrame(\n",
    "    None,\n",
    "    index=[\"Apartment size\", \"Type\", \"Borough\", \"------\"],\n",
    "    columns=[\"rmse\", \"mean_price\", \"rmse_norm\"],\n",
    ").fillna(\"------\")"
   ]
  },
  {
   "cell_type": "code",
   "execution_count": 85,
   "metadata": {},
   "outputs": [
    {
     "data": {
      "text/html": [
       "<div>\n",
       "<style scoped>\n",
       "    .dataframe tbody tr th:only-of-type {\n",
       "        vertical-align: middle;\n",
       "    }\n",
       "\n",
       "    .dataframe tbody tr th {\n",
       "        vertical-align: top;\n",
       "    }\n",
       "\n",
       "    .dataframe thead th {\n",
       "        text-align: right;\n",
       "    }\n",
       "</style>\n",
       "<table border=\"1\" class=\"dataframe\">\n",
       "  <thead>\n",
       "    <tr style=\"text-align: right;\">\n",
       "      <th></th>\n",
       "      <th>rmse</th>\n",
       "      <th>mean_price</th>\n",
       "      <th>rmse_norm</th>\n",
       "    </tr>\n",
       "  </thead>\n",
       "  <tbody>\n",
       "    <tr>\n",
       "      <th>Apartment size</th>\n",
       "      <td>------</td>\n",
       "      <td>------</td>\n",
       "      <td>------</td>\n",
       "    </tr>\n",
       "    <tr>\n",
       "      <th>Type</th>\n",
       "      <td>------</td>\n",
       "      <td>------</td>\n",
       "      <td>------</td>\n",
       "    </tr>\n",
       "    <tr>\n",
       "      <th>Borough</th>\n",
       "      <td>------</td>\n",
       "      <td>------</td>\n",
       "      <td>------</td>\n",
       "    </tr>\n",
       "    <tr>\n",
       "      <th>------</th>\n",
       "      <td>------</td>\n",
       "      <td>------</td>\n",
       "      <td>------</td>\n",
       "    </tr>\n",
       "  </tbody>\n",
       "</table>\n",
       "</div>"
      ],
      "text/plain": [
       "                  rmse mean_price rmse_norm\n",
       "Apartment size  ------     ------    ------\n",
       "Type            ------     ------    ------\n",
       "Borough         ------     ------    ------\n",
       "------          ------     ------    ------"
      ]
     },
     "execution_count": 85,
     "metadata": {},
     "output_type": "execute_result"
    }
   ],
   "source": [
    "type_rows"
   ]
  },
  {
   "cell_type": "markdown",
   "metadata": {},
   "source": [
    "**Finally: subsample performance**"
   ]
  },
  {
   "cell_type": "code",
   "execution_count": 86,
   "metadata": {
    "tags": []
   },
   "outputs": [
    {
     "data": {
      "text/html": [
       "<div>\n",
       "<style scoped>\n",
       "    .dataframe tbody tr th:only-of-type {\n",
       "        vertical-align: middle;\n",
       "    }\n",
       "\n",
       "    .dataframe tbody tr th {\n",
       "        vertical-align: top;\n",
       "    }\n",
       "\n",
       "    .dataframe thead th {\n",
       "        text-align: right;\n",
       "    }\n",
       "</style>\n",
       "<table border=\"1\" class=\"dataframe\">\n",
       "  <thead>\n",
       "    <tr style=\"text-align: right;\">\n",
       "      <th></th>\n",
       "      <th>rmse</th>\n",
       "      <th>mean_price</th>\n",
       "      <th>rmse_norm</th>\n",
       "    </tr>\n",
       "  </thead>\n",
       "  <tbody>\n",
       "    <tr>\n",
       "      <th>Apartment size</th>\n",
       "      <td>------</td>\n",
       "      <td>------</td>\n",
       "      <td>------</td>\n",
       "    </tr>\n",
       "    <tr>\n",
       "      <th>large apt</th>\n",
       "      <td>66.27</td>\n",
       "      <td>144.06</td>\n",
       "      <td>0.46</td>\n",
       "    </tr>\n",
       "    <tr>\n",
       "      <th>small apt</th>\n",
       "      <td>31.09</td>\n",
       "      <td>62.86</td>\n",
       "      <td>0.49</td>\n",
       "    </tr>\n",
       "    <tr>\n",
       "      <th>Type</th>\n",
       "      <td>------</td>\n",
       "      <td>------</td>\n",
       "      <td>------</td>\n",
       "    </tr>\n",
       "    <tr>\n",
       "      <th>Apartment</th>\n",
       "      <td>43.57</td>\n",
       "      <td>93.19</td>\n",
       "      <td>0.47</td>\n",
       "    </tr>\n",
       "    <tr>\n",
       "      <th>House</th>\n",
       "      <td>51.07</td>\n",
       "      <td>77.49</td>\n",
       "      <td>0.66</td>\n",
       "    </tr>\n",
       "    <tr>\n",
       "      <th>Borough</th>\n",
       "      <td>------</td>\n",
       "      <td>------</td>\n",
       "      <td>------</td>\n",
       "    </tr>\n",
       "    <tr>\n",
       "      <th>Camden</th>\n",
       "      <td>55.4</td>\n",
       "      <td>105.01</td>\n",
       "      <td>0.53</td>\n",
       "    </tr>\n",
       "    <tr>\n",
       "      <th>Hackney</th>\n",
       "      <td>38.64</td>\n",
       "      <td>76.05</td>\n",
       "      <td>0.51</td>\n",
       "    </tr>\n",
       "    <tr>\n",
       "      <th>Kensington and Chelsea</th>\n",
       "      <td>66.61</td>\n",
       "      <td>143.55</td>\n",
       "      <td>0.46</td>\n",
       "    </tr>\n",
       "    <tr>\n",
       "      <th>Newham</th>\n",
       "      <td>29.88</td>\n",
       "      <td>61.57</td>\n",
       "      <td>0.49</td>\n",
       "    </tr>\n",
       "    <tr>\n",
       "      <th>Tower Hamlets</th>\n",
       "      <td>35.52</td>\n",
       "      <td>74.25</td>\n",
       "      <td>0.48</td>\n",
       "    </tr>\n",
       "    <tr>\n",
       "      <th>Westminster</th>\n",
       "      <td>64.88</td>\n",
       "      <td>131.43</td>\n",
       "      <td>0.49</td>\n",
       "    </tr>\n",
       "    <tr>\n",
       "      <th>------</th>\n",
       "      <td>------</td>\n",
       "      <td>------</td>\n",
       "      <td>------</td>\n",
       "    </tr>\n",
       "    <tr>\n",
       "      <th>Total</th>\n",
       "      <td>45.59</td>\n",
       "      <td>89.21</td>\n",
       "      <td>0.51</td>\n",
       "    </tr>\n",
       "  </tbody>\n",
       "</table>\n",
       "</div>"
      ],
      "text/plain": [
       "                          rmse mean_price rmse_norm\n",
       "Apartment size          ------     ------    ------\n",
       "large apt                66.27     144.06      0.46\n",
       "small apt                31.09      62.86      0.49\n",
       "Type                    ------     ------    ------\n",
       "Apartment                43.57      93.19      0.47\n",
       "House                    51.07      77.49      0.66\n",
       "Borough                 ------     ------    ------\n",
       "Camden                    55.4     105.01      0.53\n",
       "Hackney                  38.64      76.05      0.51\n",
       "Kensington and Chelsea   66.61     143.55      0.46\n",
       "Newham                   29.88      61.57      0.49\n",
       "Tower Hamlets            35.52      74.25      0.48\n",
       "Westminster              64.88     131.43      0.49\n",
       "------                  ------     ------    ------\n",
       "Total                    45.59      89.21      0.51"
      ]
     },
     "execution_count": 86,
     "metadata": {},
     "output_type": "execute_result"
    }
   ],
   "source": [
    "pd.concat(\n",
    "    [\n",
    "        type_rows.iloc[[0]],\n",
    "        accom_subset,\n",
    "        type_rows.iloc[[1]],\n",
    "        proptype_subset,\n",
    "        type_rows.iloc[[2]],\n",
    "        neightbourhood_subset,\n",
    "        type_rows.iloc[[3]],\n",
    "        all_holdout,\n",
    "    ]\n",
    ")"
   ]
  },
  {
   "cell_type": "markdown",
   "metadata": {},
   "source": [
    "### Horserace: compare with other models \n",
    "\n",
    "**NOTE: this part of the code is not finished**"
   ]
  },
  {
   "cell_type": "markdown",
   "metadata": {},
   "source": [
    "1. ***OLS with dummies for area***\n",
    "\n",
    " using model B"
   ]
  },
  {
   "cell_type": "code",
   "execution_count": 87,
   "metadata": {},
   "outputs": [],
   "source": [
    "from sklearn.linear_model import LinearRegression"
   ]
  },
  {
   "cell_type": "code",
   "execution_count": 88,
   "metadata": {
    "tags": []
   },
   "outputs": [
    {
     "data": {
      "text/plain": [
       "47.15367981281546"
      ]
     },
     "execution_count": 88,
     "metadata": {},
     "output_type": "execute_result"
    }
   ],
   "source": [
    "y, X = dmatrices(\"price ~ \" + \" + \".join(predictors_2), data_train)\n",
    "\n",
    "ols_model = LinearRegression().fit(X,y)\n",
    "\n",
    "#y_test, X_test = dmatrices(\"price ~ \" + \" + \".join(predictors_2), data_holdout)\n",
    "\n",
    "y_hat = ols_model.predict(X)\n",
    "\n",
    "ols_rmse = mean_squared_error(y,y_hat,squared=False)\n",
    "ols_rmse"
   ]
  },
  {
   "cell_type": "code",
   "execution_count": 89,
   "metadata": {},
   "outputs": [],
   "source": [
    "ols_model_coeffs_df = pd.DataFrame(\n",
    "    ols_model.coef_.tolist()[0],\n",
    "    index=X.design_info.column_names,\n",
    "    columns=[\"ols_coefficient\"],\n",
    ").assign(ols_coefficient=lambda x: x.ols_coefficient.round(3))"
   ]
  },
  {
   "cell_type": "code",
   "execution_count": 90,
   "metadata": {
    "tags": []
   },
   "outputs": [
    {
     "data": {
      "text/html": [
       "<div>\n",
       "<style scoped>\n",
       "    .dataframe tbody tr th:only-of-type {\n",
       "        vertical-align: middle;\n",
       "    }\n",
       "\n",
       "    .dataframe tbody tr th {\n",
       "        vertical-align: top;\n",
       "    }\n",
       "\n",
       "    .dataframe thead th {\n",
       "        text-align: right;\n",
       "    }\n",
       "</style>\n",
       "<table border=\"1\" class=\"dataframe\">\n",
       "  <thead>\n",
       "    <tr style=\"text-align: right;\">\n",
       "      <th></th>\n",
       "      <th>ols_coefficient</th>\n",
       "    </tr>\n",
       "  </thead>\n",
       "  <tbody>\n",
       "    <tr>\n",
       "      <th>Intercept</th>\n",
       "      <td>-0.000</td>\n",
       "    </tr>\n",
       "    <tr>\n",
       "      <th>f_property_type[T.House]</th>\n",
       "      <td>7.384</td>\n",
       "    </tr>\n",
       "    <tr>\n",
       "      <th>f_room_type[T.Private room]</th>\n",
       "      <td>-34.916</td>\n",
       "    </tr>\n",
       "    <tr>\n",
       "      <th>f_room_type[T.Shared room]</th>\n",
       "      <td>-44.568</td>\n",
       "    </tr>\n",
       "    <tr>\n",
       "      <th>f_cancellation_policy[T.moderate]</th>\n",
       "      <td>-1.296</td>\n",
       "    </tr>\n",
       "    <tr>\n",
       "      <th>...</th>\n",
       "      <td>...</td>\n",
       "    </tr>\n",
       "    <tr>\n",
       "      <th>d_tv</th>\n",
       "      <td>6.066</td>\n",
       "    </tr>\n",
       "    <tr>\n",
       "      <th>d_washer</th>\n",
       "      <td>-4.694</td>\n",
       "    </tr>\n",
       "    <tr>\n",
       "      <th>d_washerdryer</th>\n",
       "      <td>80.073</td>\n",
       "    </tr>\n",
       "    <tr>\n",
       "      <th>d_wheelchairaccessible</th>\n",
       "      <td>-1.931</td>\n",
       "    </tr>\n",
       "    <tr>\n",
       "      <th>d_wirelessinternet</th>\n",
       "      <td>-1.520</td>\n",
       "    </tr>\n",
       "  </tbody>\n",
       "</table>\n",
       "<p>97 rows × 1 columns</p>\n",
       "</div>"
      ],
      "text/plain": [
       "                                   ols_coefficient\n",
       "Intercept                                   -0.000\n",
       "f_property_type[T.House]                     7.384\n",
       "f_room_type[T.Private room]                -34.916\n",
       "f_room_type[T.Shared room]                 -44.568\n",
       "f_cancellation_policy[T.moderate]           -1.296\n",
       "...                                            ...\n",
       "d_tv                                         6.066\n",
       "d_washer                                    -4.694\n",
       "d_washerdryer                               80.073\n",
       "d_wheelchairaccessible                      -1.931\n",
       "d_wirelessinternet                          -1.520\n",
       "\n",
       "[97 rows x 1 columns]"
      ]
     },
     "execution_count": 90,
     "metadata": {},
     "output_type": "execute_result"
    }
   ],
   "source": [
    "ols_model_coeffs_df"
   ]
  },
  {
   "cell_type": "markdown",
   "metadata": {},
   "source": [
    "2.  LASSO\n",
    "\n",
    "using extended model w interactions"
   ]
  },
  {
   "cell_type": "code",
   "execution_count": 91,
   "metadata": {},
   "outputs": [],
   "source": [
    "from sklearn.linear_model import ElasticNet"
   ]
  },
  {
   "cell_type": "markdown",
   "metadata": {},
   "source": [
    "The `ElasticNet` model is combines L1 (LASSO) and L2 (Ridge) in a single class. \n",
    "\n",
    "The parameter `l1_ratio` (between [0,1]) is the weight of LASSO and Ridge. l1_ratio = 1 is the pure lasso penalty. Currently, l1_ratio <= 0.01 is not reliable, unless you supply your own sequence of alpha.\n",
    "\n",
    "https://scikit-learn.org/stable/modules/generated/sklearn.linear_model.ElasticNet.html"
   ]
  },
  {
   "cell_type": "code",
   "execution_count": 92,
   "metadata": {},
   "outputs": [],
   "source": [
    "lasso_model =  ElasticNet(l1_ratio = 1, fit_intercept = True)"
   ]
  },
  {
   "cell_type": "code",
   "execution_count": 93,
   "metadata": {},
   "outputs": [],
   "source": [
    "lasso_model_cv = GridSearchCV(\n",
    "    lasso_model,\n",
    "    # {\"alpha\":[i/100 for i in range(1, 26, 1)]}, > this option takes forever to run\n",
    "    {\"alpha\":[i/100 for i in range(5, 26, 5)]},\n",
    "    cv=5,\n",
    "    scoring=\"neg_root_mean_squared_error\",\n",
    "    verbose=3,\n",
    ")\n"
   ]
  },
  {
   "cell_type": "code",
   "execution_count": 94,
   "metadata": {},
   "outputs": [],
   "source": [
    "y, X = dmatrices(\"price ~ \" + \" + \".join(predictors_E), data_train)"
   ]
  },
  {
   "cell_type": "code",
   "execution_count": 95,
   "metadata": {
    "tags": []
   },
   "outputs": [
    {
     "name": "stdout",
     "output_type": "stream",
     "text": [
      "Fitting 5 folds for each of 5 candidates, totalling 25 fits\n",
      "[CV 1/5] END ......................alpha=0.05;, score=-46.909 total time=   6.1s\n",
      "[CV 2/5] END ......................alpha=0.05;, score=-45.683 total time=   5.0s\n",
      "[CV 3/5] END ......................alpha=0.05;, score=-46.376 total time=   5.6s\n",
      "[CV 4/5] END ......................alpha=0.05;, score=-44.244 total time=   8.0s\n",
      "[CV 5/5] END ......................alpha=0.05;, score=-47.264 total time=   7.7s\n",
      "[CV 1/5] END .......................alpha=0.1;, score=-47.012 total time=   4.1s\n",
      "[CV 2/5] END .......................alpha=0.1;, score=-45.804 total time=   4.2s\n",
      "[CV 3/5] END .......................alpha=0.1;, score=-46.422 total time=   4.2s\n",
      "[CV 4/5] END .......................alpha=0.1;, score=-44.426 total time=   4.5s\n",
      "[CV 5/5] END .......................alpha=0.1;, score=-47.437 total time=   4.5s\n",
      "[CV 1/5] END ......................alpha=0.15;, score=-47.123 total time=   3.9s\n",
      "[CV 2/5] END ......................alpha=0.15;, score=-45.921 total time=   3.9s\n",
      "[CV 3/5] END ......................alpha=0.15;, score=-46.489 total time=   4.0s\n",
      "[CV 4/5] END ......................alpha=0.15;, score=-44.554 total time=   4.3s\n",
      "[CV 5/5] END ......................alpha=0.15;, score=-47.596 total time=   4.3s\n",
      "[CV 1/5] END .......................alpha=0.2;, score=-47.254 total time=   4.0s\n",
      "[CV 2/5] END .......................alpha=0.2;, score=-46.043 total time=   4.0s\n",
      "[CV 3/5] END .......................alpha=0.2;, score=-46.567 total time=   3.8s\n",
      "[CV 4/5] END .......................alpha=0.2;, score=-44.703 total time=   3.6s\n",
      "[CV 5/5] END .......................alpha=0.2;, score=-47.756 total time=   3.5s\n",
      "[CV 1/5] END ......................alpha=0.25;, score=-47.394 total time=   3.1s\n",
      "[CV 2/5] END ......................alpha=0.25;, score=-46.178 total time=   3.1s\n",
      "[CV 3/5] END ......................alpha=0.25;, score=-46.677 total time=   3.1s\n",
      "[CV 4/5] END ......................alpha=0.25;, score=-44.873 total time=   3.1s\n",
      "[CV 5/5] END ......................alpha=0.25;, score=-47.904 total time=   3.2s\n",
      "CPU times: total: 1min 51s\n",
      "Wall time: 1min 58s\n"
     ]
    },
    {
     "data": {
      "text/html": [
       "<style>#sk-container-id-3 {color: black;}#sk-container-id-3 pre{padding: 0;}#sk-container-id-3 div.sk-toggleable {background-color: white;}#sk-container-id-3 label.sk-toggleable__label {cursor: pointer;display: block;width: 100%;margin-bottom: 0;padding: 0.3em;box-sizing: border-box;text-align: center;}#sk-container-id-3 label.sk-toggleable__label-arrow:before {content: \"▸\";float: left;margin-right: 0.25em;color: #696969;}#sk-container-id-3 label.sk-toggleable__label-arrow:hover:before {color: black;}#sk-container-id-3 div.sk-estimator:hover label.sk-toggleable__label-arrow:before {color: black;}#sk-container-id-3 div.sk-toggleable__content {max-height: 0;max-width: 0;overflow: hidden;text-align: left;background-color: #f0f8ff;}#sk-container-id-3 div.sk-toggleable__content pre {margin: 0.2em;color: black;border-radius: 0.25em;background-color: #f0f8ff;}#sk-container-id-3 input.sk-toggleable__control:checked~div.sk-toggleable__content {max-height: 200px;max-width: 100%;overflow: auto;}#sk-container-id-3 input.sk-toggleable__control:checked~label.sk-toggleable__label-arrow:before {content: \"▾\";}#sk-container-id-3 div.sk-estimator input.sk-toggleable__control:checked~label.sk-toggleable__label {background-color: #d4ebff;}#sk-container-id-3 div.sk-label input.sk-toggleable__control:checked~label.sk-toggleable__label {background-color: #d4ebff;}#sk-container-id-3 input.sk-hidden--visually {border: 0;clip: rect(1px 1px 1px 1px);clip: rect(1px, 1px, 1px, 1px);height: 1px;margin: -1px;overflow: hidden;padding: 0;position: absolute;width: 1px;}#sk-container-id-3 div.sk-estimator {font-family: monospace;background-color: #f0f8ff;border: 1px dotted black;border-radius: 0.25em;box-sizing: border-box;margin-bottom: 0.5em;}#sk-container-id-3 div.sk-estimator:hover {background-color: #d4ebff;}#sk-container-id-3 div.sk-parallel-item::after {content: \"\";width: 100%;border-bottom: 1px solid gray;flex-grow: 1;}#sk-container-id-3 div.sk-label:hover label.sk-toggleable__label {background-color: #d4ebff;}#sk-container-id-3 div.sk-serial::before {content: \"\";position: absolute;border-left: 1px solid gray;box-sizing: border-box;top: 0;bottom: 0;left: 50%;z-index: 0;}#sk-container-id-3 div.sk-serial {display: flex;flex-direction: column;align-items: center;background-color: white;padding-right: 0.2em;padding-left: 0.2em;position: relative;}#sk-container-id-3 div.sk-item {position: relative;z-index: 1;}#sk-container-id-3 div.sk-parallel {display: flex;align-items: stretch;justify-content: center;background-color: white;position: relative;}#sk-container-id-3 div.sk-item::before, #sk-container-id-3 div.sk-parallel-item::before {content: \"\";position: absolute;border-left: 1px solid gray;box-sizing: border-box;top: 0;bottom: 0;left: 50%;z-index: -1;}#sk-container-id-3 div.sk-parallel-item {display: flex;flex-direction: column;z-index: 1;position: relative;background-color: white;}#sk-container-id-3 div.sk-parallel-item:first-child::after {align-self: flex-end;width: 50%;}#sk-container-id-3 div.sk-parallel-item:last-child::after {align-self: flex-start;width: 50%;}#sk-container-id-3 div.sk-parallel-item:only-child::after {width: 0;}#sk-container-id-3 div.sk-dashed-wrapped {border: 1px dashed gray;margin: 0 0.4em 0.5em 0.4em;box-sizing: border-box;padding-bottom: 0.4em;background-color: white;}#sk-container-id-3 div.sk-label label {font-family: monospace;font-weight: bold;display: inline-block;line-height: 1.2em;}#sk-container-id-3 div.sk-label-container {text-align: center;}#sk-container-id-3 div.sk-container {/* jupyter's `normalize.less` sets `[hidden] { display: none; }` but bootstrap.min.css set `[hidden] { display: none !important; }` so we also need the `!important` here to be able to override the default hidden behavior on the sphinx rendered scikit-learn.org. See: https://github.com/scikit-learn/scikit-learn/issues/21755 */display: inline-block !important;position: relative;}#sk-container-id-3 div.sk-text-repr-fallback {display: none;}</style><div id=\"sk-container-id-3\" class=\"sk-top-container\"><div class=\"sk-text-repr-fallback\"><pre>GridSearchCV(cv=5, estimator=ElasticNet(l1_ratio=1),\n",
       "             param_grid={&#x27;alpha&#x27;: [0.05, 0.1, 0.15, 0.2, 0.25]},\n",
       "             scoring=&#x27;neg_root_mean_squared_error&#x27;, verbose=3)</pre><b>In a Jupyter environment, please rerun this cell to show the HTML representation or trust the notebook. <br />On GitHub, the HTML representation is unable to render, please try loading this page with nbviewer.org.</b></div><div class=\"sk-container\" hidden><div class=\"sk-item sk-dashed-wrapped\"><div class=\"sk-label-container\"><div class=\"sk-label sk-toggleable\"><input class=\"sk-toggleable__control sk-hidden--visually\" id=\"sk-estimator-id-9\" type=\"checkbox\" ><label for=\"sk-estimator-id-9\" class=\"sk-toggleable__label sk-toggleable__label-arrow\">GridSearchCV</label><div class=\"sk-toggleable__content\"><pre>GridSearchCV(cv=5, estimator=ElasticNet(l1_ratio=1),\n",
       "             param_grid={&#x27;alpha&#x27;: [0.05, 0.1, 0.15, 0.2, 0.25]},\n",
       "             scoring=&#x27;neg_root_mean_squared_error&#x27;, verbose=3)</pre></div></div></div><div class=\"sk-parallel\"><div class=\"sk-parallel-item\"><div class=\"sk-item\"><div class=\"sk-label-container\"><div class=\"sk-label sk-toggleable\"><input class=\"sk-toggleable__control sk-hidden--visually\" id=\"sk-estimator-id-10\" type=\"checkbox\" ><label for=\"sk-estimator-id-10\" class=\"sk-toggleable__label sk-toggleable__label-arrow\">estimator: ElasticNet</label><div class=\"sk-toggleable__content\"><pre>ElasticNet(l1_ratio=1)</pre></div></div></div><div class=\"sk-serial\"><div class=\"sk-item\"><div class=\"sk-estimator sk-toggleable\"><input class=\"sk-toggleable__control sk-hidden--visually\" id=\"sk-estimator-id-11\" type=\"checkbox\" ><label for=\"sk-estimator-id-11\" class=\"sk-toggleable__label sk-toggleable__label-arrow\">ElasticNet</label><div class=\"sk-toggleable__content\"><pre>ElasticNet(l1_ratio=1)</pre></div></div></div></div></div></div></div></div></div></div>"
      ],
      "text/plain": [
       "GridSearchCV(cv=5, estimator=ElasticNet(l1_ratio=1),\n",
       "             param_grid={'alpha': [0.05, 0.1, 0.15, 0.2, 0.25]},\n",
       "             scoring='neg_root_mean_squared_error', verbose=3)"
      ]
     },
     "execution_count": 95,
     "metadata": {},
     "output_type": "execute_result"
    }
   ],
   "source": [
    "%%time\n",
    "lasso_model_cv.fit(X, y.ravel())"
   ]
  },
  {
   "cell_type": "code",
   "execution_count": 96,
   "metadata": {},
   "outputs": [
    {
     "data": {
      "text/html": [
       "<div>\n",
       "<style scoped>\n",
       "    .dataframe tbody tr th:only-of-type {\n",
       "        vertical-align: middle;\n",
       "    }\n",
       "\n",
       "    .dataframe tbody tr th {\n",
       "        vertical-align: top;\n",
       "    }\n",
       "\n",
       "    .dataframe thead th {\n",
       "        text-align: right;\n",
       "    }\n",
       "</style>\n",
       "<table border=\"1\" class=\"dataframe\">\n",
       "  <thead>\n",
       "    <tr style=\"text-align: right;\">\n",
       "      <th></th>\n",
       "      <th>lasso_coefficient</th>\n",
       "    </tr>\n",
       "  </thead>\n",
       "  <tbody>\n",
       "    <tr>\n",
       "      <th>f_property_type[T.House]</th>\n",
       "      <td>-0.952</td>\n",
       "    </tr>\n",
       "    <tr>\n",
       "      <th>f_room_type[T.Private room]</th>\n",
       "      <td>-34.715</td>\n",
       "    </tr>\n",
       "    <tr>\n",
       "      <th>f_room_type[T.Shared room]</th>\n",
       "      <td>-43.299</td>\n",
       "    </tr>\n",
       "    <tr>\n",
       "      <th>f_cancellation_policy[T.moderate]</th>\n",
       "      <td>-1.070</td>\n",
       "    </tr>\n",
       "    <tr>\n",
       "      <th>f_cancellation_policy[T.strict]</th>\n",
       "      <td>4.749</td>\n",
       "    </tr>\n",
       "    <tr>\n",
       "      <th>...</th>\n",
       "      <td>...</td>\n",
       "    </tr>\n",
       "    <tr>\n",
       "      <th>d_suitableforevents</th>\n",
       "      <td>1.539</td>\n",
       "    </tr>\n",
       "    <tr>\n",
       "      <th>d_tv</th>\n",
       "      <td>5.794</td>\n",
       "    </tr>\n",
       "    <tr>\n",
       "      <th>d_washer</th>\n",
       "      <td>-4.357</td>\n",
       "    </tr>\n",
       "    <tr>\n",
       "      <th>d_washerdryer</th>\n",
       "      <td>26.637</td>\n",
       "    </tr>\n",
       "    <tr>\n",
       "      <th>d_wirelessinternet</th>\n",
       "      <td>-1.110</td>\n",
       "    </tr>\n",
       "  </tbody>\n",
       "</table>\n",
       "<p>98 rows × 1 columns</p>\n",
       "</div>"
      ],
      "text/plain": [
       "                                   lasso_coefficient\n",
       "f_property_type[T.House]                      -0.952\n",
       "f_room_type[T.Private room]                  -34.715\n",
       "f_room_type[T.Shared room]                   -43.299\n",
       "f_cancellation_policy[T.moderate]             -1.070\n",
       "f_cancellation_policy[T.strict]                4.749\n",
       "...                                              ...\n",
       "d_suitableforevents                            1.539\n",
       "d_tv                                           5.794\n",
       "d_washer                                      -4.357\n",
       "d_washerdryer                                 26.637\n",
       "d_wirelessinternet                            -1.110\n",
       "\n",
       "[98 rows x 1 columns]"
      ]
     },
     "execution_count": 96,
     "metadata": {},
     "output_type": "execute_result"
    }
   ],
   "source": [
    "pd.DataFrame(\n",
    "    lasso_model_cv.best_estimator_.coef_.tolist(),\n",
    "    index=X.design_info.column_names,\n",
    "    columns=[\"lasso_coefficient\"],\n",
    ").assign(lasso_coefficient=lambda x: x.lasso_coefficient.round(3)).loc[\n",
    "    lambda x: x.lasso_coefficient != 0\n",
    "]"
   ]
  },
  {
   "cell_type": "code",
   "execution_count": 97,
   "metadata": {},
   "outputs": [
    {
     "data": {
      "text/html": [
       "<style>#sk-container-id-4 {color: black;}#sk-container-id-4 pre{padding: 0;}#sk-container-id-4 div.sk-toggleable {background-color: white;}#sk-container-id-4 label.sk-toggleable__label {cursor: pointer;display: block;width: 100%;margin-bottom: 0;padding: 0.3em;box-sizing: border-box;text-align: center;}#sk-container-id-4 label.sk-toggleable__label-arrow:before {content: \"▸\";float: left;margin-right: 0.25em;color: #696969;}#sk-container-id-4 label.sk-toggleable__label-arrow:hover:before {color: black;}#sk-container-id-4 div.sk-estimator:hover label.sk-toggleable__label-arrow:before {color: black;}#sk-container-id-4 div.sk-toggleable__content {max-height: 0;max-width: 0;overflow: hidden;text-align: left;background-color: #f0f8ff;}#sk-container-id-4 div.sk-toggleable__content pre {margin: 0.2em;color: black;border-radius: 0.25em;background-color: #f0f8ff;}#sk-container-id-4 input.sk-toggleable__control:checked~div.sk-toggleable__content {max-height: 200px;max-width: 100%;overflow: auto;}#sk-container-id-4 input.sk-toggleable__control:checked~label.sk-toggleable__label-arrow:before {content: \"▾\";}#sk-container-id-4 div.sk-estimator input.sk-toggleable__control:checked~label.sk-toggleable__label {background-color: #d4ebff;}#sk-container-id-4 div.sk-label input.sk-toggleable__control:checked~label.sk-toggleable__label {background-color: #d4ebff;}#sk-container-id-4 input.sk-hidden--visually {border: 0;clip: rect(1px 1px 1px 1px);clip: rect(1px, 1px, 1px, 1px);height: 1px;margin: -1px;overflow: hidden;padding: 0;position: absolute;width: 1px;}#sk-container-id-4 div.sk-estimator {font-family: monospace;background-color: #f0f8ff;border: 1px dotted black;border-radius: 0.25em;box-sizing: border-box;margin-bottom: 0.5em;}#sk-container-id-4 div.sk-estimator:hover {background-color: #d4ebff;}#sk-container-id-4 div.sk-parallel-item::after {content: \"\";width: 100%;border-bottom: 1px solid gray;flex-grow: 1;}#sk-container-id-4 div.sk-label:hover label.sk-toggleable__label {background-color: #d4ebff;}#sk-container-id-4 div.sk-serial::before {content: \"\";position: absolute;border-left: 1px solid gray;box-sizing: border-box;top: 0;bottom: 0;left: 50%;z-index: 0;}#sk-container-id-4 div.sk-serial {display: flex;flex-direction: column;align-items: center;background-color: white;padding-right: 0.2em;padding-left: 0.2em;position: relative;}#sk-container-id-4 div.sk-item {position: relative;z-index: 1;}#sk-container-id-4 div.sk-parallel {display: flex;align-items: stretch;justify-content: center;background-color: white;position: relative;}#sk-container-id-4 div.sk-item::before, #sk-container-id-4 div.sk-parallel-item::before {content: \"\";position: absolute;border-left: 1px solid gray;box-sizing: border-box;top: 0;bottom: 0;left: 50%;z-index: -1;}#sk-container-id-4 div.sk-parallel-item {display: flex;flex-direction: column;z-index: 1;position: relative;background-color: white;}#sk-container-id-4 div.sk-parallel-item:first-child::after {align-self: flex-end;width: 50%;}#sk-container-id-4 div.sk-parallel-item:last-child::after {align-self: flex-start;width: 50%;}#sk-container-id-4 div.sk-parallel-item:only-child::after {width: 0;}#sk-container-id-4 div.sk-dashed-wrapped {border: 1px dashed gray;margin: 0 0.4em 0.5em 0.4em;box-sizing: border-box;padding-bottom: 0.4em;background-color: white;}#sk-container-id-4 div.sk-label label {font-family: monospace;font-weight: bold;display: inline-block;line-height: 1.2em;}#sk-container-id-4 div.sk-label-container {text-align: center;}#sk-container-id-4 div.sk-container {/* jupyter's `normalize.less` sets `[hidden] { display: none; }` but bootstrap.min.css set `[hidden] { display: none !important; }` so we also need the `!important` here to be able to override the default hidden behavior on the sphinx rendered scikit-learn.org. See: https://github.com/scikit-learn/scikit-learn/issues/21755 */display: inline-block !important;position: relative;}#sk-container-id-4 div.sk-text-repr-fallback {display: none;}</style><div id=\"sk-container-id-4\" class=\"sk-top-container\"><div class=\"sk-text-repr-fallback\"><pre>ElasticNet(alpha=0.05, l1_ratio=1)</pre><b>In a Jupyter environment, please rerun this cell to show the HTML representation or trust the notebook. <br />On GitHub, the HTML representation is unable to render, please try loading this page with nbviewer.org.</b></div><div class=\"sk-container\" hidden><div class=\"sk-item\"><div class=\"sk-estimator sk-toggleable\"><input class=\"sk-toggleable__control sk-hidden--visually\" id=\"sk-estimator-id-12\" type=\"checkbox\" checked><label for=\"sk-estimator-id-12\" class=\"sk-toggleable__label sk-toggleable__label-arrow\">ElasticNet</label><div class=\"sk-toggleable__content\"><pre>ElasticNet(alpha=0.05, l1_ratio=1)</pre></div></div></div></div></div>"
      ],
      "text/plain": [
       "ElasticNet(alpha=0.05, l1_ratio=1)"
      ]
     },
     "execution_count": 97,
     "metadata": {},
     "output_type": "execute_result"
    }
   ],
   "source": [
    "lasso_model_cv.best_estimator_"
   ]
  },
  {
   "cell_type": "code",
   "execution_count": 98,
   "metadata": {},
   "outputs": [
    {
     "data": {
      "text/plain": [
       "{'mean_fit_time': array([6.56188202, 4.38956943, 4.17193694, 3.84972396, 3.2310184 ]),\n",
       " 'std_fit_time': array([1.15859441, 0.16083458, 0.17507983, 0.21767331, 0.03766474]),\n",
       " 'mean_score_time': array([0.00458779, 0.00499578, 0.00481653, 0.00473666, 0.00460024]),\n",
       " 'std_score_time': array([0.00048932, 0.00063779, 0.00073893, 0.00073723, 0.00080255]),\n",
       " 'param_alpha': masked_array(data=[0.05, 0.1, 0.15, 0.2, 0.25],\n",
       "              mask=[False, False, False, False, False],\n",
       "        fill_value='?',\n",
       "             dtype=object),\n",
       " 'params': [{'alpha': 0.05},\n",
       "  {'alpha': 0.1},\n",
       "  {'alpha': 0.15},\n",
       "  {'alpha': 0.2},\n",
       "  {'alpha': 0.25}],\n",
       " 'split0_test_score': array([-46.9085158 , -47.01179297, -47.12312143, -47.25358714,\n",
       "        -47.39355355]),\n",
       " 'split1_test_score': array([-45.68281619, -45.80359869, -45.92143532, -46.04312036,\n",
       "        -46.17834193]),\n",
       " 'split2_test_score': array([-46.3764923 , -46.42170127, -46.48915387, -46.5667388 ,\n",
       "        -46.67701171]),\n",
       " 'split3_test_score': array([-44.24400087, -44.42560738, -44.554287  , -44.70253728,\n",
       "        -44.87281499]),\n",
       " 'split4_test_score': array([-47.26409622, -47.4373861 , -47.59582288, -47.7557461 ,\n",
       "        -47.90412052]),\n",
       " 'mean_test_score': array([-46.09518428, -46.22001728, -46.3367641 , -46.46434594,\n",
       "        -46.60516854]),\n",
       " 'std_test_score': array([1.06807536, 1.05288968, 1.05608069, 1.05664574, 1.0485436 ]),\n",
       " 'rank_test_score': array([1, 2, 3, 4, 5])}"
      ]
     },
     "execution_count": 98,
     "metadata": {},
     "output_type": "execute_result"
    }
   ],
   "source": [
    "lasso_model_cv.cv_results_"
   ]
  },
  {
   "cell_type": "code",
   "execution_count": 99,
   "metadata": {
    "scrolled": true,
    "tags": []
   },
   "outputs": [
    {
     "data": {
      "text/plain": [
       "46.095184276815225"
      ]
     },
     "execution_count": 99,
     "metadata": {},
     "output_type": "execute_result"
    }
   ],
   "source": [
    "lasso_rmse = pd.DataFrame(lasso_model_cv.cv_results_).loc[\n",
    "    lambda x: x.param_alpha == lasso_model_cv.best_estimator_.alpha\n",
    "].mean_test_score.values[0] * -1\n",
    "lasso_rmse"
   ]
  },
  {
   "cell_type": "markdown",
   "metadata": {},
   "source": [
    "3. ***CART model***"
   ]
  },
  {
   "cell_type": "code",
   "execution_count": 100,
   "metadata": {},
   "outputs": [],
   "source": [
    "from sklearn.tree import DecisionTreeRegressor"
   ]
  },
  {
   "cell_type": "code",
   "execution_count": 101,
   "metadata": {},
   "outputs": [],
   "source": [
    "y, X = dmatrices(\"price ~ \" + \" + \".join(predictors_2), data_train)"
   ]
  },
  {
   "cell_type": "code",
   "execution_count": 102,
   "metadata": {},
   "outputs": [],
   "source": [
    "cart_model = DecisionTreeRegressor(random_state=20240129)"
   ]
  },
  {
   "cell_type": "markdown",
   "metadata": {},
   "source": [
    "Get potential ccp_alpha parameters"
   ]
  },
  {
   "cell_type": "code",
   "execution_count": 103,
   "metadata": {},
   "outputs": [],
   "source": [
    "path = cart_model.cost_complexity_pruning_path(X, y.ravel())\n",
    "ccp_alphas, impurities = path.ccp_alphas, path.impurities"
   ]
  },
  {
   "cell_type": "code",
   "execution_count": 104,
   "metadata": {},
   "outputs": [
    {
     "data": {
      "text/plain": [
       "array([ 0.00000000e+00, -2.60208521e-17,  6.50521303e-18, ...,\n",
       "        1.02748000e+02,  6.02687464e+02,  1.48528692e+03])"
      ]
     },
     "execution_count": 104,
     "metadata": {},
     "output_type": "execute_result"
    }
   ],
   "source": [
    "ccp_alphas"
   ]
  },
  {
   "cell_type": "code",
   "execution_count": 105,
   "metadata": {
    "tags": []
   },
   "outputs": [
    {
     "data": {
      "text/plain": [
       "(25795,)"
      ]
     },
     "execution_count": 105,
     "metadata": {},
     "output_type": "execute_result"
    }
   ],
   "source": [
    "ccp_alphas.shape"
   ]
  },
  {
   "cell_type": "markdown",
   "metadata": {},
   "source": [
    "Apply random search to select a \"best\" alpha, default is 10 iterations\n",
    "`RandomizedSearchCV` does not calculate all potential alphas, just a random 10-element subset of the many potential alphas"
   ]
  },
  {
   "cell_type": "code",
   "execution_count": 106,
   "metadata": {
    "tags": []
   },
   "outputs": [
    {
     "name": "stdout",
     "output_type": "stream",
     "text": [
      "Fitting 5 folds for each of 10 candidates, totalling 50 fits\n",
      "[CV 1/5] END .ccp_alpha=0.0003583921096393142;, score=-62.466 total time=   1.2s\n",
      "[CV 2/5] END .ccp_alpha=0.0003583921096393142;, score=-64.088 total time=   1.2s\n",
      "[CV 3/5] END .ccp_alpha=0.0003583921096393142;, score=-63.414 total time=   1.2s\n",
      "[CV 4/5] END .ccp_alpha=0.0003583921096393142;, score=-60.018 total time=   1.1s\n",
      "[CV 5/5] END .ccp_alpha=0.0003583921096393142;, score=-63.474 total time=   1.2s\n",
      "[CV 1/5] END ...ccp_alpha=0.00206433855152245;, score=-62.434 total time=   1.8s\n",
      "[CV 2/5] END ...ccp_alpha=0.00206433855152245;, score=-64.022 total time=   1.8s\n",
      "[CV 3/5] END ...ccp_alpha=0.00206433855152245;, score=-63.372 total time=   1.8s\n",
      "[CV 4/5] END ...ccp_alpha=0.00206433855152245;, score=-59.984 total time=   1.8s\n",
      "[CV 5/5] END ...ccp_alpha=0.00206433855152245;, score=-63.426 total time=   1.9s\n",
      "[CV 1/5] END ...ccp_alpha=0.05550776994093698;, score=-61.042 total time=   2.6s\n",
      "[CV 2/5] END ...ccp_alpha=0.05550776994093698;, score=-62.817 total time=   2.6s\n",
      "[CV 3/5] END ...ccp_alpha=0.05550776994093698;, score=-61.984 total time=   2.6s\n",
      "[CV 4/5] END ...ccp_alpha=0.05550776994093698;, score=-58.686 total time=   2.6s\n",
      "[CV 5/5] END ...ccp_alpha=0.05550776994093698;, score=-62.186 total time=   2.6s\n",
      "[CV 1/5] END .ccp_alpha=0.0012233117342355215;, score=-62.448 total time=   1.6s\n",
      "[CV 2/5] END .ccp_alpha=0.0012233117342355215;, score=-64.052 total time=   1.7s\n",
      "[CV 3/5] END .ccp_alpha=0.0012233117342355215;, score=-63.384 total time=   1.6s\n",
      "[CV 4/5] END .ccp_alpha=0.0012233117342355215;, score=-59.992 total time=   1.7s\n",
      "[CV 5/5] END .ccp_alpha=0.0012233117342355215;, score=-63.459 total time=   1.7s\n",
      "[CV 1/5] END ..ccp_alpha=0.014455148422118936;, score=-62.142 total time=   2.4s\n",
      "[CV 2/5] END ..ccp_alpha=0.014455148422118936;, score=-63.762 total time=   2.4s\n",
      "[CV 3/5] END ..ccp_alpha=0.014455148422118936;, score=-63.058 total time=   2.4s\n",
      "[CV 4/5] END ..ccp_alpha=0.014455148422118936;, score=-59.706 total time=   2.4s\n",
      "[CV 5/5] END ..ccp_alpha=0.014455148422118936;, score=-63.089 total time=   2.4s\n",
      "[CV 1/5] END ...ccp_alpha=0.04491711666512804;, score=-61.332 total time=   2.6s\n",
      "[CV 2/5] END ...ccp_alpha=0.04491711666512804;, score=-62.969 total time=   2.6s\n",
      "[CV 3/5] END ...ccp_alpha=0.04491711666512804;, score=-62.291 total time=   2.6s\n",
      "[CV 4/5] END ...ccp_alpha=0.04491711666512804;, score=-58.903 total time=   2.6s\n",
      "[CV 5/5] END ...ccp_alpha=0.04491711666512804;, score=-62.283 total time=   2.6s\n",
      "[CV 1/5] END .ccp_alpha=0.0008747042980657978;, score=-62.446 total time=   1.5s\n",
      "[CV 2/5] END .ccp_alpha=0.0008747042980657978;, score=-64.066 total time=   1.6s\n",
      "[CV 3/5] END .ccp_alpha=0.0008747042980657978;, score=-63.399 total time=   1.5s\n",
      "[CV 4/5] END .ccp_alpha=0.0008747042980657978;, score=-60.003 total time=   1.5s\n",
      "[CV 5/5] END .ccp_alpha=0.0008747042980657978;, score=-63.463 total time=   1.6s\n",
      "[CV 1/5] END ..ccp_alpha=0.003822849169485983;, score=-62.385 total time=   2.0s\n",
      "[CV 2/5] END ..ccp_alpha=0.003822849169485983;, score=-63.967 total time=   2.0s\n",
      "[CV 3/5] END ..ccp_alpha=0.003822849169485983;, score=-63.335 total time=   2.0s\n",
      "[CV 4/5] END ..ccp_alpha=0.003822849169485983;, score=-59.956 total time=   2.0s\n",
      "[CV 5/5] END ..ccp_alpha=0.003822849169485983;, score=-63.412 total time=   2.0s\n",
      "[CV 1/5] END .ccp_alpha=0.0017346178106542806;, score=-62.455 total time=   1.8s\n",
      "[CV 2/5] END .ccp_alpha=0.0017346178106542806;, score=-64.034 total time=   1.8s\n",
      "[CV 3/5] END .ccp_alpha=0.0017346178106542806;, score=-63.383 total time=   1.7s\n",
      "[CV 4/5] END .ccp_alpha=0.0017346178106542806;, score=-59.988 total time=   1.8s\n",
      "[CV 5/5] END .ccp_alpha=0.0017346178106542806;, score=-63.438 total time=   1.8s\n",
      "[CV 1/5] END ..ccp_alpha=0.013170910029244691;, score=-62.170 total time=   2.4s\n",
      "[CV 2/5] END ..ccp_alpha=0.013170910029244691;, score=-63.799 total time=   2.4s\n",
      "[CV 3/5] END ..ccp_alpha=0.013170910029244691;, score=-63.083 total time=   2.4s\n",
      "[CV 4/5] END ..ccp_alpha=0.013170910029244691;, score=-59.714 total time=   2.4s\n",
      "[CV 5/5] END ..ccp_alpha=0.013170910029244691;, score=-63.135 total time=   2.4s\n",
      "CPU times: total: 1min 49s\n",
      "Wall time: 1min 49s\n"
     ]
    },
    {
     "data": {
      "text/html": [
       "<style>#sk-container-id-5 {color: black;}#sk-container-id-5 pre{padding: 0;}#sk-container-id-5 div.sk-toggleable {background-color: white;}#sk-container-id-5 label.sk-toggleable__label {cursor: pointer;display: block;width: 100%;margin-bottom: 0;padding: 0.3em;box-sizing: border-box;text-align: center;}#sk-container-id-5 label.sk-toggleable__label-arrow:before {content: \"▸\";float: left;margin-right: 0.25em;color: #696969;}#sk-container-id-5 label.sk-toggleable__label-arrow:hover:before {color: black;}#sk-container-id-5 div.sk-estimator:hover label.sk-toggleable__label-arrow:before {color: black;}#sk-container-id-5 div.sk-toggleable__content {max-height: 0;max-width: 0;overflow: hidden;text-align: left;background-color: #f0f8ff;}#sk-container-id-5 div.sk-toggleable__content pre {margin: 0.2em;color: black;border-radius: 0.25em;background-color: #f0f8ff;}#sk-container-id-5 input.sk-toggleable__control:checked~div.sk-toggleable__content {max-height: 200px;max-width: 100%;overflow: auto;}#sk-container-id-5 input.sk-toggleable__control:checked~label.sk-toggleable__label-arrow:before {content: \"▾\";}#sk-container-id-5 div.sk-estimator input.sk-toggleable__control:checked~label.sk-toggleable__label {background-color: #d4ebff;}#sk-container-id-5 div.sk-label input.sk-toggleable__control:checked~label.sk-toggleable__label {background-color: #d4ebff;}#sk-container-id-5 input.sk-hidden--visually {border: 0;clip: rect(1px 1px 1px 1px);clip: rect(1px, 1px, 1px, 1px);height: 1px;margin: -1px;overflow: hidden;padding: 0;position: absolute;width: 1px;}#sk-container-id-5 div.sk-estimator {font-family: monospace;background-color: #f0f8ff;border: 1px dotted black;border-radius: 0.25em;box-sizing: border-box;margin-bottom: 0.5em;}#sk-container-id-5 div.sk-estimator:hover {background-color: #d4ebff;}#sk-container-id-5 div.sk-parallel-item::after {content: \"\";width: 100%;border-bottom: 1px solid gray;flex-grow: 1;}#sk-container-id-5 div.sk-label:hover label.sk-toggleable__label {background-color: #d4ebff;}#sk-container-id-5 div.sk-serial::before {content: \"\";position: absolute;border-left: 1px solid gray;box-sizing: border-box;top: 0;bottom: 0;left: 50%;z-index: 0;}#sk-container-id-5 div.sk-serial {display: flex;flex-direction: column;align-items: center;background-color: white;padding-right: 0.2em;padding-left: 0.2em;position: relative;}#sk-container-id-5 div.sk-item {position: relative;z-index: 1;}#sk-container-id-5 div.sk-parallel {display: flex;align-items: stretch;justify-content: center;background-color: white;position: relative;}#sk-container-id-5 div.sk-item::before, #sk-container-id-5 div.sk-parallel-item::before {content: \"\";position: absolute;border-left: 1px solid gray;box-sizing: border-box;top: 0;bottom: 0;left: 50%;z-index: -1;}#sk-container-id-5 div.sk-parallel-item {display: flex;flex-direction: column;z-index: 1;position: relative;background-color: white;}#sk-container-id-5 div.sk-parallel-item:first-child::after {align-self: flex-end;width: 50%;}#sk-container-id-5 div.sk-parallel-item:last-child::after {align-self: flex-start;width: 50%;}#sk-container-id-5 div.sk-parallel-item:only-child::after {width: 0;}#sk-container-id-5 div.sk-dashed-wrapped {border: 1px dashed gray;margin: 0 0.4em 0.5em 0.4em;box-sizing: border-box;padding-bottom: 0.4em;background-color: white;}#sk-container-id-5 div.sk-label label {font-family: monospace;font-weight: bold;display: inline-block;line-height: 1.2em;}#sk-container-id-5 div.sk-label-container {text-align: center;}#sk-container-id-5 div.sk-container {/* jupyter's `normalize.less` sets `[hidden] { display: none; }` but bootstrap.min.css set `[hidden] { display: none !important; }` so we also need the `!important` here to be able to override the default hidden behavior on the sphinx rendered scikit-learn.org. See: https://github.com/scikit-learn/scikit-learn/issues/21755 */display: inline-block !important;position: relative;}#sk-container-id-5 div.sk-text-repr-fallback {display: none;}</style><div id=\"sk-container-id-5\" class=\"sk-top-container\"><div class=\"sk-text-repr-fallback\"><pre>RandomizedSearchCV(cv=5, estimator=DecisionTreeRegressor(random_state=20240129),\n",
       "                   param_distributions={&#x27;ccp_alpha&#x27;: array([ 0.00000000e+00, -2.60208521e-17,  6.50521303e-18, ...,\n",
       "        1.02748000e+02,  6.02687464e+02,  1.48528692e+03])},\n",
       "                   scoring=&#x27;neg_root_mean_squared_error&#x27;, verbose=3)</pre><b>In a Jupyter environment, please rerun this cell to show the HTML representation or trust the notebook. <br />On GitHub, the HTML representation is unable to render, please try loading this page with nbviewer.org.</b></div><div class=\"sk-container\" hidden><div class=\"sk-item sk-dashed-wrapped\"><div class=\"sk-label-container\"><div class=\"sk-label sk-toggleable\"><input class=\"sk-toggleable__control sk-hidden--visually\" id=\"sk-estimator-id-13\" type=\"checkbox\" ><label for=\"sk-estimator-id-13\" class=\"sk-toggleable__label sk-toggleable__label-arrow\">RandomizedSearchCV</label><div class=\"sk-toggleable__content\"><pre>RandomizedSearchCV(cv=5, estimator=DecisionTreeRegressor(random_state=20240129),\n",
       "                   param_distributions={&#x27;ccp_alpha&#x27;: array([ 0.00000000e+00, -2.60208521e-17,  6.50521303e-18, ...,\n",
       "        1.02748000e+02,  6.02687464e+02,  1.48528692e+03])},\n",
       "                   scoring=&#x27;neg_root_mean_squared_error&#x27;, verbose=3)</pre></div></div></div><div class=\"sk-parallel\"><div class=\"sk-parallel-item\"><div class=\"sk-item\"><div class=\"sk-label-container\"><div class=\"sk-label sk-toggleable\"><input class=\"sk-toggleable__control sk-hidden--visually\" id=\"sk-estimator-id-14\" type=\"checkbox\" ><label for=\"sk-estimator-id-14\" class=\"sk-toggleable__label sk-toggleable__label-arrow\">estimator: DecisionTreeRegressor</label><div class=\"sk-toggleable__content\"><pre>DecisionTreeRegressor(random_state=20240129)</pre></div></div></div><div class=\"sk-serial\"><div class=\"sk-item\"><div class=\"sk-estimator sk-toggleable\"><input class=\"sk-toggleable__control sk-hidden--visually\" id=\"sk-estimator-id-15\" type=\"checkbox\" ><label for=\"sk-estimator-id-15\" class=\"sk-toggleable__label sk-toggleable__label-arrow\">DecisionTreeRegressor</label><div class=\"sk-toggleable__content\"><pre>DecisionTreeRegressor(random_state=20240129)</pre></div></div></div></div></div></div></div></div></div></div>"
      ],
      "text/plain": [
       "RandomizedSearchCV(cv=5, estimator=DecisionTreeRegressor(random_state=20240129),\n",
       "                   param_distributions={'ccp_alpha': array([ 0.00000000e+00, -2.60208521e-17,  6.50521303e-18, ...,\n",
       "        1.02748000e+02,  6.02687464e+02,  1.48528692e+03])},\n",
       "                   scoring='neg_root_mean_squared_error', verbose=3)"
      ]
     },
     "execution_count": 106,
     "metadata": {},
     "output_type": "execute_result"
    }
   ],
   "source": [
    "%%time\n",
    "\n",
    "cart_model_cv = RandomizedSearchCV(\n",
    "    cart_model,\n",
    "    {\"ccp_alpha\":ccp_alphas},\n",
    "    cv=5,\n",
    "    scoring=\"neg_root_mean_squared_error\",\n",
    "    verbose=3,\n",
    ")\n",
    "cart_model_cv.fit(X,y.ravel())"
   ]
  },
  {
   "cell_type": "code",
   "execution_count": 107,
   "metadata": {
    "tags": []
   },
   "outputs": [
    {
     "data": {
      "text/plain": [
       "61.34291476965798"
      ]
     },
     "execution_count": 107,
     "metadata": {},
     "output_type": "execute_result"
    }
   ],
   "source": [
    "cart_rmse = pd.DataFrame(cart_model_cv.cv_results_).loc[\n",
    "    lambda x: x.param_ccp_alpha == cart_model_cv.best_estimator_.ccp_alpha\n",
    "].mean_test_score.values[0] * -1\n",
    "cart_rmse"
   ]
  },
  {
   "cell_type": "markdown",
   "metadata": {},
   "source": [
    "4. GBM\n",
    "\n",
    "**NOTE:** With complex grid search run for a **very long time**"
   ]
  },
  {
   "cell_type": "code",
   "execution_count": 109,
   "metadata": {},
   "outputs": [],
   "source": [
    "from sklearn.ensemble import GradientBoostingRegressor"
   ]
  },
  {
   "cell_type": "code",
   "execution_count": 110,
   "metadata": {},
   "outputs": [],
   "source": [
    "gbm = GradientBoostingRegressor(learning_rate=0.1, min_samples_split=20, max_features = 10\n",
    "                                #, n_estimators = 50\n",
    "                               )\n",
    "\n",
    "tune_grid = {\"n_estimators\": [200, 300], \"max_depth\": [5, 10]}\n",
    "\n",
    "gbm_model_cv = GridSearchCV(\n",
    "    gbm,\n",
    "    tune_grid,\n",
    "    cv=5,\n",
    "    scoring=\"neg_root_mean_squared_error\",\n",
    "    verbose=10,\n",
    "    n_jobs=-1\n",
    ")"
   ]
  },
  {
   "cell_type": "code",
   "execution_count": 111,
   "metadata": {},
   "outputs": [],
   "source": [
    "categorical_columns = [col for col in predictors_2 if col.startswith(\"f_\")]\n",
    "numerical_columns = [col for col in predictors_2 if col not in categorical_columns]\n",
    "\n",
    "categorical_encoder = OneHotEncoder(handle_unknown=\"ignore\")\n",
    "\n",
    "preprocessing = ColumnTransformer(\n",
    "    [\n",
    "        (\"cat\", categorical_encoder, categorical_columns),\n",
    "        (\"num\", \"passthrough\", numerical_columns),\n",
    "    ]\n",
    ")\n",
    "\n",
    "gbm_pipe = Pipeline(\n",
    "    [(\"preprocess\", preprocessing), (\"regressor\", gbm_model_cv)], verbose=True\n",
    ")"
   ]
  },
  {
   "cell_type": "code",
   "execution_count": 112,
   "metadata": {
    "tags": []
   },
   "outputs": [
    {
     "name": "stdout",
     "output_type": "stream",
     "text": [
      "[Pipeline] ........ (step 1 of 2) Processing preprocess, total=   0.1s\n",
      "Fitting 5 folds for each of 4 candidates, totalling 20 fits\n",
      "[Pipeline] ......... (step 2 of 2) Processing regressor, total= 1.3min\n",
      "CPU times: total: 9.2 s\n",
      "Wall time: 1min 15s\n"
     ]
    },
    {
     "data": {
      "text/html": [
       "<style>#sk-container-id-6 {color: black;}#sk-container-id-6 pre{padding: 0;}#sk-container-id-6 div.sk-toggleable {background-color: white;}#sk-container-id-6 label.sk-toggleable__label {cursor: pointer;display: block;width: 100%;margin-bottom: 0;padding: 0.3em;box-sizing: border-box;text-align: center;}#sk-container-id-6 label.sk-toggleable__label-arrow:before {content: \"▸\";float: left;margin-right: 0.25em;color: #696969;}#sk-container-id-6 label.sk-toggleable__label-arrow:hover:before {color: black;}#sk-container-id-6 div.sk-estimator:hover label.sk-toggleable__label-arrow:before {color: black;}#sk-container-id-6 div.sk-toggleable__content {max-height: 0;max-width: 0;overflow: hidden;text-align: left;background-color: #f0f8ff;}#sk-container-id-6 div.sk-toggleable__content pre {margin: 0.2em;color: black;border-radius: 0.25em;background-color: #f0f8ff;}#sk-container-id-6 input.sk-toggleable__control:checked~div.sk-toggleable__content {max-height: 200px;max-width: 100%;overflow: auto;}#sk-container-id-6 input.sk-toggleable__control:checked~label.sk-toggleable__label-arrow:before {content: \"▾\";}#sk-container-id-6 div.sk-estimator input.sk-toggleable__control:checked~label.sk-toggleable__label {background-color: #d4ebff;}#sk-container-id-6 div.sk-label input.sk-toggleable__control:checked~label.sk-toggleable__label {background-color: #d4ebff;}#sk-container-id-6 input.sk-hidden--visually {border: 0;clip: rect(1px 1px 1px 1px);clip: rect(1px, 1px, 1px, 1px);height: 1px;margin: -1px;overflow: hidden;padding: 0;position: absolute;width: 1px;}#sk-container-id-6 div.sk-estimator {font-family: monospace;background-color: #f0f8ff;border: 1px dotted black;border-radius: 0.25em;box-sizing: border-box;margin-bottom: 0.5em;}#sk-container-id-6 div.sk-estimator:hover {background-color: #d4ebff;}#sk-container-id-6 div.sk-parallel-item::after {content: \"\";width: 100%;border-bottom: 1px solid gray;flex-grow: 1;}#sk-container-id-6 div.sk-label:hover label.sk-toggleable__label {background-color: #d4ebff;}#sk-container-id-6 div.sk-serial::before {content: \"\";position: absolute;border-left: 1px solid gray;box-sizing: border-box;top: 0;bottom: 0;left: 50%;z-index: 0;}#sk-container-id-6 div.sk-serial {display: flex;flex-direction: column;align-items: center;background-color: white;padding-right: 0.2em;padding-left: 0.2em;position: relative;}#sk-container-id-6 div.sk-item {position: relative;z-index: 1;}#sk-container-id-6 div.sk-parallel {display: flex;align-items: stretch;justify-content: center;background-color: white;position: relative;}#sk-container-id-6 div.sk-item::before, #sk-container-id-6 div.sk-parallel-item::before {content: \"\";position: absolute;border-left: 1px solid gray;box-sizing: border-box;top: 0;bottom: 0;left: 50%;z-index: -1;}#sk-container-id-6 div.sk-parallel-item {display: flex;flex-direction: column;z-index: 1;position: relative;background-color: white;}#sk-container-id-6 div.sk-parallel-item:first-child::after {align-self: flex-end;width: 50%;}#sk-container-id-6 div.sk-parallel-item:last-child::after {align-self: flex-start;width: 50%;}#sk-container-id-6 div.sk-parallel-item:only-child::after {width: 0;}#sk-container-id-6 div.sk-dashed-wrapped {border: 1px dashed gray;margin: 0 0.4em 0.5em 0.4em;box-sizing: border-box;padding-bottom: 0.4em;background-color: white;}#sk-container-id-6 div.sk-label label {font-family: monospace;font-weight: bold;display: inline-block;line-height: 1.2em;}#sk-container-id-6 div.sk-label-container {text-align: center;}#sk-container-id-6 div.sk-container {/* jupyter's `normalize.less` sets `[hidden] { display: none; }` but bootstrap.min.css set `[hidden] { display: none !important; }` so we also need the `!important` here to be able to override the default hidden behavior on the sphinx rendered scikit-learn.org. See: https://github.com/scikit-learn/scikit-learn/issues/21755 */display: inline-block !important;position: relative;}#sk-container-id-6 div.sk-text-repr-fallback {display: none;}</style><div id=\"sk-container-id-6\" class=\"sk-top-container\"><div class=\"sk-text-repr-fallback\"><pre>Pipeline(steps=[(&#x27;preprocess&#x27;,\n",
       "                 ColumnTransformer(transformers=[(&#x27;cat&#x27;,\n",
       "                                                  OneHotEncoder(handle_unknown=&#x27;ignore&#x27;),\n",
       "                                                  [&#x27;f_property_type&#x27;,\n",
       "                                                   &#x27;f_room_type&#x27;, &#x27;f_bathroom&#x27;,\n",
       "                                                   &#x27;f_cancellation_policy&#x27;,\n",
       "                                                   &#x27;f_bed_type&#x27;,\n",
       "                                                   &#x27;f_neighbourhood_cleansed&#x27;]),\n",
       "                                                 (&#x27;num&#x27;, &#x27;passthrough&#x27;,\n",
       "                                                  [&#x27;n_accommodates&#x27;, &#x27;n_beds&#x27;,\n",
       "                                                   &#x27;n_days_since&#x27;,\n",
       "                                                   &#x27;n_number_of_reviews&#x27;,\n",
       "                                                   &#x27;flag_n_number_of_reviews&#x27;,\n",
       "                                                   &#x27;n_review_scores_r...\n",
       "                                                   &#x27;d_freeparkingonpremises&#x27;,\n",
       "                                                   &#x27;d_freeparkingonstreet&#x27;,\n",
       "                                                   &#x27;d_gym&#x27;, &#x27;d_hairdryer&#x27;,\n",
       "                                                   &#x27;d_hangers&#x27;, &#x27;d_heating&#x27;,\n",
       "                                                   &#x27;d_hottub&#x27;, ...])])),\n",
       "                (&#x27;regressor&#x27;,\n",
       "                 GridSearchCV(cv=5,\n",
       "                              estimator=GradientBoostingRegressor(max_features=10,\n",
       "                                                                  min_samples_split=20),\n",
       "                              n_jobs=-1,\n",
       "                              param_grid={&#x27;max_depth&#x27;: [5, 10],\n",
       "                                          &#x27;n_estimators&#x27;: [200, 300]},\n",
       "                              scoring=&#x27;neg_root_mean_squared_error&#x27;,\n",
       "                              verbose=10))],\n",
       "         verbose=True)</pre><b>In a Jupyter environment, please rerun this cell to show the HTML representation or trust the notebook. <br />On GitHub, the HTML representation is unable to render, please try loading this page with nbviewer.org.</b></div><div class=\"sk-container\" hidden><div class=\"sk-item sk-dashed-wrapped\"><div class=\"sk-label-container\"><div class=\"sk-label sk-toggleable\"><input class=\"sk-toggleable__control sk-hidden--visually\" id=\"sk-estimator-id-16\" type=\"checkbox\" ><label for=\"sk-estimator-id-16\" class=\"sk-toggleable__label sk-toggleable__label-arrow\">Pipeline</label><div class=\"sk-toggleable__content\"><pre>Pipeline(steps=[(&#x27;preprocess&#x27;,\n",
       "                 ColumnTransformer(transformers=[(&#x27;cat&#x27;,\n",
       "                                                  OneHotEncoder(handle_unknown=&#x27;ignore&#x27;),\n",
       "                                                  [&#x27;f_property_type&#x27;,\n",
       "                                                   &#x27;f_room_type&#x27;, &#x27;f_bathroom&#x27;,\n",
       "                                                   &#x27;f_cancellation_policy&#x27;,\n",
       "                                                   &#x27;f_bed_type&#x27;,\n",
       "                                                   &#x27;f_neighbourhood_cleansed&#x27;]),\n",
       "                                                 (&#x27;num&#x27;, &#x27;passthrough&#x27;,\n",
       "                                                  [&#x27;n_accommodates&#x27;, &#x27;n_beds&#x27;,\n",
       "                                                   &#x27;n_days_since&#x27;,\n",
       "                                                   &#x27;n_number_of_reviews&#x27;,\n",
       "                                                   &#x27;flag_n_number_of_reviews&#x27;,\n",
       "                                                   &#x27;n_review_scores_r...\n",
       "                                                   &#x27;d_freeparkingonpremises&#x27;,\n",
       "                                                   &#x27;d_freeparkingonstreet&#x27;,\n",
       "                                                   &#x27;d_gym&#x27;, &#x27;d_hairdryer&#x27;,\n",
       "                                                   &#x27;d_hangers&#x27;, &#x27;d_heating&#x27;,\n",
       "                                                   &#x27;d_hottub&#x27;, ...])])),\n",
       "                (&#x27;regressor&#x27;,\n",
       "                 GridSearchCV(cv=5,\n",
       "                              estimator=GradientBoostingRegressor(max_features=10,\n",
       "                                                                  min_samples_split=20),\n",
       "                              n_jobs=-1,\n",
       "                              param_grid={&#x27;max_depth&#x27;: [5, 10],\n",
       "                                          &#x27;n_estimators&#x27;: [200, 300]},\n",
       "                              scoring=&#x27;neg_root_mean_squared_error&#x27;,\n",
       "                              verbose=10))],\n",
       "         verbose=True)</pre></div></div></div><div class=\"sk-serial\"><div class=\"sk-item sk-dashed-wrapped\"><div class=\"sk-label-container\"><div class=\"sk-label sk-toggleable\"><input class=\"sk-toggleable__control sk-hidden--visually\" id=\"sk-estimator-id-17\" type=\"checkbox\" ><label for=\"sk-estimator-id-17\" class=\"sk-toggleable__label sk-toggleable__label-arrow\">preprocess: ColumnTransformer</label><div class=\"sk-toggleable__content\"><pre>ColumnTransformer(transformers=[(&#x27;cat&#x27;, OneHotEncoder(handle_unknown=&#x27;ignore&#x27;),\n",
       "                                 [&#x27;f_property_type&#x27;, &#x27;f_room_type&#x27;,\n",
       "                                  &#x27;f_bathroom&#x27;, &#x27;f_cancellation_policy&#x27;,\n",
       "                                  &#x27;f_bed_type&#x27;, &#x27;f_neighbourhood_cleansed&#x27;]),\n",
       "                                (&#x27;num&#x27;, &#x27;passthrough&#x27;,\n",
       "                                 [&#x27;n_accommodates&#x27;, &#x27;n_beds&#x27;, &#x27;n_days_since&#x27;,\n",
       "                                  &#x27;n_number_of_reviews&#x27;,\n",
       "                                  &#x27;flag_n_number_of_reviews&#x27;,\n",
       "                                  &#x27;n_review_scores_rating&#x27;,\n",
       "                                  &#x27;flag_review_scores_rat...\n",
       "                                  &#x27;d_24hourcheckin&#x27;, &#x27;d_airconditioning&#x27;,\n",
       "                                  &#x27;d_breakfast&#x27;, &#x27;d_buzzerwirelessintercom&#x27;,\n",
       "                                  &#x27;d_cabletv&#x27;, &#x27;d_carbonmonoxidedetector&#x27;,\n",
       "                                  &#x27;d_cats&#x27;, &#x27;d_dogs&#x27;, &#x27;d_doorman&#x27;,\n",
       "                                  &#x27;d_doormanentry&#x27;, &#x27;d_dryer&#x27;,\n",
       "                                  &#x27;d_elevatorinbuilding&#x27;, &#x27;d_essentials&#x27;,\n",
       "                                  &#x27;d_familykidfriendly&#x27;, &#x27;d_fireextinguisher&#x27;,\n",
       "                                  &#x27;d_firstaidkit&#x27;, &#x27;d_freeparkingonpremises&#x27;,\n",
       "                                  &#x27;d_freeparkingonstreet&#x27;, &#x27;d_gym&#x27;,\n",
       "                                  &#x27;d_hairdryer&#x27;, &#x27;d_hangers&#x27;, &#x27;d_heating&#x27;,\n",
       "                                  &#x27;d_hottub&#x27;, ...])])</pre></div></div></div><div class=\"sk-parallel\"><div class=\"sk-parallel-item\"><div class=\"sk-item\"><div class=\"sk-label-container\"><div class=\"sk-label sk-toggleable\"><input class=\"sk-toggleable__control sk-hidden--visually\" id=\"sk-estimator-id-18\" type=\"checkbox\" ><label for=\"sk-estimator-id-18\" class=\"sk-toggleable__label sk-toggleable__label-arrow\">cat</label><div class=\"sk-toggleable__content\"><pre>[&#x27;f_property_type&#x27;, &#x27;f_room_type&#x27;, &#x27;f_bathroom&#x27;, &#x27;f_cancellation_policy&#x27;, &#x27;f_bed_type&#x27;, &#x27;f_neighbourhood_cleansed&#x27;]</pre></div></div></div><div class=\"sk-serial\"><div class=\"sk-item\"><div class=\"sk-estimator sk-toggleable\"><input class=\"sk-toggleable__control sk-hidden--visually\" id=\"sk-estimator-id-19\" type=\"checkbox\" ><label for=\"sk-estimator-id-19\" class=\"sk-toggleable__label sk-toggleable__label-arrow\">OneHotEncoder</label><div class=\"sk-toggleable__content\"><pre>OneHotEncoder(handle_unknown=&#x27;ignore&#x27;)</pre></div></div></div></div></div></div><div class=\"sk-parallel-item\"><div class=\"sk-item\"><div class=\"sk-label-container\"><div class=\"sk-label sk-toggleable\"><input class=\"sk-toggleable__control sk-hidden--visually\" id=\"sk-estimator-id-20\" type=\"checkbox\" ><label for=\"sk-estimator-id-20\" class=\"sk-toggleable__label sk-toggleable__label-arrow\">num</label><div class=\"sk-toggleable__content\"><pre>[&#x27;n_accommodates&#x27;, &#x27;n_beds&#x27;, &#x27;n_days_since&#x27;, &#x27;n_number_of_reviews&#x27;, &#x27;flag_n_number_of_reviews&#x27;, &#x27;n_review_scores_rating&#x27;, &#x27;flag_review_scores_rating&#x27;, &#x27;d_24hourcheckin&#x27;, &#x27;d_airconditioning&#x27;, &#x27;d_breakfast&#x27;, &#x27;d_buzzerwirelessintercom&#x27;, &#x27;d_cabletv&#x27;, &#x27;d_carbonmonoxidedetector&#x27;, &#x27;d_cats&#x27;, &#x27;d_dogs&#x27;, &#x27;d_doorman&#x27;, &#x27;d_doormanentry&#x27;, &#x27;d_dryer&#x27;, &#x27;d_elevatorinbuilding&#x27;, &#x27;d_essentials&#x27;, &#x27;d_familykidfriendly&#x27;, &#x27;d_fireextinguisher&#x27;, &#x27;d_firstaidkit&#x27;, &#x27;d_freeparkingonpremises&#x27;, &#x27;d_freeparkingonstreet&#x27;, &#x27;d_gym&#x27;, &#x27;d_hairdryer&#x27;, &#x27;d_hangers&#x27;, &#x27;d_heating&#x27;, &#x27;d_hottub&#x27;, &#x27;d_indoorfireplace&#x27;, &#x27;d_internet&#x27;, &#x27;d_iron&#x27;, &#x27;d_keypad&#x27;, &#x27;d_kitchen&#x27;, &#x27;d_laptopfriendlyworkspace&#x27;, &#x27;d_lockonbedroomdoor&#x27;, &#x27;d_lockbox&#x27;, &#x27;d_otherpets&#x27;, &#x27;d_paidparkingoffpremises&#x27;, &#x27;d_petsallowed&#x27;, &#x27;d_petsliveonthisproperty&#x27;, &#x27;d_pool&#x27;, &#x27;d_privateentrance&#x27;, &#x27;d_privatelivingroom&#x27;, &#x27;d_safetycard&#x27;, &#x27;d_selfcheckin&#x27;, &#x27;d_shampoo&#x27;, &#x27;d_smartlock&#x27;, &#x27;d_smokedetector&#x27;, &#x27;d_smokingallowed&#x27;, &#x27;d_suitableforevents&#x27;, &#x27;d_tv&#x27;, &#x27;d_washer&#x27;, &#x27;d_washerdryer&#x27;, &#x27;d_wheelchairaccessible&#x27;, &#x27;d_wirelessinternet&#x27;]</pre></div></div></div><div class=\"sk-serial\"><div class=\"sk-item\"><div class=\"sk-estimator sk-toggleable\"><input class=\"sk-toggleable__control sk-hidden--visually\" id=\"sk-estimator-id-21\" type=\"checkbox\" ><label for=\"sk-estimator-id-21\" class=\"sk-toggleable__label sk-toggleable__label-arrow\">passthrough</label><div class=\"sk-toggleable__content\"><pre>passthrough</pre></div></div></div></div></div></div></div></div><div class=\"sk-item sk-dashed-wrapped\"><div class=\"sk-label-container\"><div class=\"sk-label sk-toggleable\"><input class=\"sk-toggleable__control sk-hidden--visually\" id=\"sk-estimator-id-22\" type=\"checkbox\" ><label for=\"sk-estimator-id-22\" class=\"sk-toggleable__label sk-toggleable__label-arrow\">regressor: GridSearchCV</label><div class=\"sk-toggleable__content\"><pre>GridSearchCV(cv=5,\n",
       "             estimator=GradientBoostingRegressor(max_features=10,\n",
       "                                                 min_samples_split=20),\n",
       "             n_jobs=-1,\n",
       "             param_grid={&#x27;max_depth&#x27;: [5, 10], &#x27;n_estimators&#x27;: [200, 300]},\n",
       "             scoring=&#x27;neg_root_mean_squared_error&#x27;, verbose=10)</pre></div></div></div><div class=\"sk-parallel\"><div class=\"sk-parallel-item\"><div class=\"sk-item\"><div class=\"sk-label-container\"><div class=\"sk-label sk-toggleable\"><input class=\"sk-toggleable__control sk-hidden--visually\" id=\"sk-estimator-id-23\" type=\"checkbox\" ><label for=\"sk-estimator-id-23\" class=\"sk-toggleable__label sk-toggleable__label-arrow\">estimator: GradientBoostingRegressor</label><div class=\"sk-toggleable__content\"><pre>GradientBoostingRegressor(max_features=10, min_samples_split=20)</pre></div></div></div><div class=\"sk-serial\"><div class=\"sk-item\"><div class=\"sk-estimator sk-toggleable\"><input class=\"sk-toggleable__control sk-hidden--visually\" id=\"sk-estimator-id-24\" type=\"checkbox\" ><label for=\"sk-estimator-id-24\" class=\"sk-toggleable__label sk-toggleable__label-arrow\">GradientBoostingRegressor</label><div class=\"sk-toggleable__content\"><pre>GradientBoostingRegressor(max_features=10, min_samples_split=20)</pre></div></div></div></div></div></div></div></div></div></div></div></div>"
      ],
      "text/plain": [
       "Pipeline(steps=[('preprocess',\n",
       "                 ColumnTransformer(transformers=[('cat',\n",
       "                                                  OneHotEncoder(handle_unknown='ignore'),\n",
       "                                                  ['f_property_type',\n",
       "                                                   'f_room_type', 'f_bathroom',\n",
       "                                                   'f_cancellation_policy',\n",
       "                                                   'f_bed_type',\n",
       "                                                   'f_neighbourhood_cleansed']),\n",
       "                                                 ('num', 'passthrough',\n",
       "                                                  ['n_accommodates', 'n_beds',\n",
       "                                                   'n_days_since',\n",
       "                                                   'n_number_of_reviews',\n",
       "                                                   'flag_n_number_of_reviews',\n",
       "                                                   'n_review_scores_r...\n",
       "                                                   'd_freeparkingonpremises',\n",
       "                                                   'd_freeparkingonstreet',\n",
       "                                                   'd_gym', 'd_hairdryer',\n",
       "                                                   'd_hangers', 'd_heating',\n",
       "                                                   'd_hottub', ...])])),\n",
       "                ('regressor',\n",
       "                 GridSearchCV(cv=5,\n",
       "                              estimator=GradientBoostingRegressor(max_features=10,\n",
       "                                                                  min_samples_split=20),\n",
       "                              n_jobs=-1,\n",
       "                              param_grid={'max_depth': [5, 10],\n",
       "                                          'n_estimators': [200, 300]},\n",
       "                              scoring='neg_root_mean_squared_error',\n",
       "                              verbose=10))],\n",
       "         verbose=True)"
      ]
     },
     "execution_count": 112,
     "metadata": {},
     "output_type": "execute_result"
    }
   ],
   "source": [
    "%%time\n",
    "gbm_pipe.fit(data_train[predictors_2],data_train.price)"
   ]
  },
  {
   "cell_type": "code",
   "execution_count": 113,
   "metadata": {},
   "outputs": [
    {
     "data": {
      "text/plain": [
       "{'mean_fit_time': array([20.32769241, 31.20052023, 31.01732516, 31.06225705]),\n",
       " 'std_fit_time': array([1.65689018, 1.58256406, 3.00757994, 2.98435981]),\n",
       " 'mean_score_time': array([0.402068  , 0.58708978, 0.32450461, 0.12998896]),\n",
       " 'std_score_time': array([0.02736016, 0.08254504, 0.12145439, 0.04160559]),\n",
       " 'param_max_depth': masked_array(data=[5, 5, 10, 10],\n",
       "              mask=[False, False, False, False],\n",
       "        fill_value='?',\n",
       "             dtype=object),\n",
       " 'param_n_estimators': masked_array(data=[200, 300, 200, 300],\n",
       "              mask=[False, False, False, False],\n",
       "        fill_value='?',\n",
       "             dtype=object),\n",
       " 'params': [{'max_depth': 5, 'n_estimators': 200},\n",
       "  {'max_depth': 5, 'n_estimators': 300},\n",
       "  {'max_depth': 10, 'n_estimators': 200},\n",
       "  {'max_depth': 10, 'n_estimators': 300}],\n",
       " 'split0_test_score': array([-44.29607537, -43.97553053, -44.24871891, -43.93810857]),\n",
       " 'split1_test_score': array([-43.47817252, -43.28127583, -43.31308269, -43.36874306]),\n",
       " 'split2_test_score': array([-43.69568107, -43.68444395, -43.60627715, -43.70883633]),\n",
       " 'split3_test_score': array([-41.3975409 , -41.09687595, -40.59961907, -40.91327728]),\n",
       " 'split4_test_score': array([-44.6971758 , -44.39886393, -44.42138005, -44.67033865]),\n",
       " 'mean_test_score': array([-43.51292913, -43.28739804, -43.23781557, -43.31986078]),\n",
       " 'std_test_score': array([1.14238626, 1.1545521 , 1.38016378, 1.27682077]),\n",
       " 'rank_test_score': array([4, 2, 1, 3])}"
      ]
     },
     "execution_count": 113,
     "metadata": {},
     "output_type": "execute_result"
    }
   ],
   "source": [
    "gbm_model_cv.cv_results_"
   ]
  },
  {
   "cell_type": "code",
   "execution_count": 114,
   "metadata": {},
   "outputs": [
    {
     "data": {
      "text/html": [
       "<style>#sk-container-id-7 {color: black;}#sk-container-id-7 pre{padding: 0;}#sk-container-id-7 div.sk-toggleable {background-color: white;}#sk-container-id-7 label.sk-toggleable__label {cursor: pointer;display: block;width: 100%;margin-bottom: 0;padding: 0.3em;box-sizing: border-box;text-align: center;}#sk-container-id-7 label.sk-toggleable__label-arrow:before {content: \"▸\";float: left;margin-right: 0.25em;color: #696969;}#sk-container-id-7 label.sk-toggleable__label-arrow:hover:before {color: black;}#sk-container-id-7 div.sk-estimator:hover label.sk-toggleable__label-arrow:before {color: black;}#sk-container-id-7 div.sk-toggleable__content {max-height: 0;max-width: 0;overflow: hidden;text-align: left;background-color: #f0f8ff;}#sk-container-id-7 div.sk-toggleable__content pre {margin: 0.2em;color: black;border-radius: 0.25em;background-color: #f0f8ff;}#sk-container-id-7 input.sk-toggleable__control:checked~div.sk-toggleable__content {max-height: 200px;max-width: 100%;overflow: auto;}#sk-container-id-7 input.sk-toggleable__control:checked~label.sk-toggleable__label-arrow:before {content: \"▾\";}#sk-container-id-7 div.sk-estimator input.sk-toggleable__control:checked~label.sk-toggleable__label {background-color: #d4ebff;}#sk-container-id-7 div.sk-label input.sk-toggleable__control:checked~label.sk-toggleable__label {background-color: #d4ebff;}#sk-container-id-7 input.sk-hidden--visually {border: 0;clip: rect(1px 1px 1px 1px);clip: rect(1px, 1px, 1px, 1px);height: 1px;margin: -1px;overflow: hidden;padding: 0;position: absolute;width: 1px;}#sk-container-id-7 div.sk-estimator {font-family: monospace;background-color: #f0f8ff;border: 1px dotted black;border-radius: 0.25em;box-sizing: border-box;margin-bottom: 0.5em;}#sk-container-id-7 div.sk-estimator:hover {background-color: #d4ebff;}#sk-container-id-7 div.sk-parallel-item::after {content: \"\";width: 100%;border-bottom: 1px solid gray;flex-grow: 1;}#sk-container-id-7 div.sk-label:hover label.sk-toggleable__label {background-color: #d4ebff;}#sk-container-id-7 div.sk-serial::before {content: \"\";position: absolute;border-left: 1px solid gray;box-sizing: border-box;top: 0;bottom: 0;left: 50%;z-index: 0;}#sk-container-id-7 div.sk-serial {display: flex;flex-direction: column;align-items: center;background-color: white;padding-right: 0.2em;padding-left: 0.2em;position: relative;}#sk-container-id-7 div.sk-item {position: relative;z-index: 1;}#sk-container-id-7 div.sk-parallel {display: flex;align-items: stretch;justify-content: center;background-color: white;position: relative;}#sk-container-id-7 div.sk-item::before, #sk-container-id-7 div.sk-parallel-item::before {content: \"\";position: absolute;border-left: 1px solid gray;box-sizing: border-box;top: 0;bottom: 0;left: 50%;z-index: -1;}#sk-container-id-7 div.sk-parallel-item {display: flex;flex-direction: column;z-index: 1;position: relative;background-color: white;}#sk-container-id-7 div.sk-parallel-item:first-child::after {align-self: flex-end;width: 50%;}#sk-container-id-7 div.sk-parallel-item:last-child::after {align-self: flex-start;width: 50%;}#sk-container-id-7 div.sk-parallel-item:only-child::after {width: 0;}#sk-container-id-7 div.sk-dashed-wrapped {border: 1px dashed gray;margin: 0 0.4em 0.5em 0.4em;box-sizing: border-box;padding-bottom: 0.4em;background-color: white;}#sk-container-id-7 div.sk-label label {font-family: monospace;font-weight: bold;display: inline-block;line-height: 1.2em;}#sk-container-id-7 div.sk-label-container {text-align: center;}#sk-container-id-7 div.sk-container {/* jupyter's `normalize.less` sets `[hidden] { display: none; }` but bootstrap.min.css set `[hidden] { display: none !important; }` so we also need the `!important` here to be able to override the default hidden behavior on the sphinx rendered scikit-learn.org. See: https://github.com/scikit-learn/scikit-learn/issues/21755 */display: inline-block !important;position: relative;}#sk-container-id-7 div.sk-text-repr-fallback {display: none;}</style><div id=\"sk-container-id-7\" class=\"sk-top-container\"><div class=\"sk-text-repr-fallback\"><pre>GradientBoostingRegressor(max_depth=10, max_features=10, min_samples_split=20,\n",
       "                          n_estimators=200)</pre><b>In a Jupyter environment, please rerun this cell to show the HTML representation or trust the notebook. <br />On GitHub, the HTML representation is unable to render, please try loading this page with nbviewer.org.</b></div><div class=\"sk-container\" hidden><div class=\"sk-item\"><div class=\"sk-estimator sk-toggleable\"><input class=\"sk-toggleable__control sk-hidden--visually\" id=\"sk-estimator-id-25\" type=\"checkbox\" checked><label for=\"sk-estimator-id-25\" class=\"sk-toggleable__label sk-toggleable__label-arrow\">GradientBoostingRegressor</label><div class=\"sk-toggleable__content\"><pre>GradientBoostingRegressor(max_depth=10, max_features=10, min_samples_split=20,\n",
       "                          n_estimators=200)</pre></div></div></div></div></div>"
      ],
      "text/plain": [
       "GradientBoostingRegressor(max_depth=10, max_features=10, min_samples_split=20,\n",
       "                          n_estimators=200)"
      ]
     },
     "execution_count": 114,
     "metadata": {},
     "output_type": "execute_result"
    }
   ],
   "source": [
    "gbm_model_cv.best_estimator_"
   ]
  },
  {
   "cell_type": "code",
   "execution_count": 115,
   "metadata": {},
   "outputs": [],
   "source": [
    "gbm_rmse = gbm_model_cv.best_score_*-1"
   ]
  },
  {
   "cell_type": "code",
   "execution_count": 116,
   "metadata": {
    "tags": []
   },
   "outputs": [
    {
     "data": {
      "text/plain": [
       "43.23781557385735"
      ]
     },
     "execution_count": 116,
     "metadata": {},
     "output_type": "execute_result"
    }
   ],
   "source": [
    "gbm_rmse"
   ]
  },
  {
   "cell_type": "markdown",
   "metadata": {},
   "source": [
    "Comparing model results on CV RMSE."
   ]
  },
  {
   "cell_type": "code",
   "execution_count": 117,
   "metadata": {
    "tags": []
   },
   "outputs": [
    {
     "data": {
      "text/html": [
       "<div>\n",
       "<style scoped>\n",
       "    .dataframe tbody tr th:only-of-type {\n",
       "        vertical-align: middle;\n",
       "    }\n",
       "\n",
       "    .dataframe tbody tr th {\n",
       "        vertical-align: top;\n",
       "    }\n",
       "\n",
       "    .dataframe thead th {\n",
       "        text-align: right;\n",
       "    }\n",
       "</style>\n",
       "<table border=\"1\" class=\"dataframe\">\n",
       "  <thead>\n",
       "    <tr style=\"text-align: right;\">\n",
       "      <th></th>\n",
       "      <th>model</th>\n",
       "      <th>CV RMSE</th>\n",
       "    </tr>\n",
       "  </thead>\n",
       "  <tbody>\n",
       "    <tr>\n",
       "      <th>0</th>\n",
       "      <td>OLS</td>\n",
       "      <td>47.153680</td>\n",
       "    </tr>\n",
       "    <tr>\n",
       "      <th>1</th>\n",
       "      <td>LASSO</td>\n",
       "      <td>46.095184</td>\n",
       "    </tr>\n",
       "    <tr>\n",
       "      <th>2</th>\n",
       "      <td>CART</td>\n",
       "      <td>61.342915</td>\n",
       "    </tr>\n",
       "    <tr>\n",
       "      <th>3</th>\n",
       "      <td>random forest</td>\n",
       "      <td>45.590000</td>\n",
       "    </tr>\n",
       "    <tr>\n",
       "      <th>4</th>\n",
       "      <td>GBM</td>\n",
       "      <td>43.237816</td>\n",
       "    </tr>\n",
       "  </tbody>\n",
       "</table>\n",
       "</div>"
      ],
      "text/plain": [
       "           model    CV RMSE\n",
       "0            OLS  47.153680\n",
       "1          LASSO  46.095184\n",
       "2           CART  61.342915\n",
       "3  random forest  45.590000\n",
       "4            GBM  43.237816"
      ]
     },
     "execution_count": 117,
     "metadata": {},
     "output_type": "execute_result"
    }
   ],
   "source": [
    "pd.DataFrame({'model': ['OLS', 'LASSO', 'CART', 'random forest', 'GBM'],\n",
    "              'CV RMSE': [ols_rmse, lasso_rmse, cart_rmse, all_holdout.rmse[0], gbm_rmse]})"
   ]
  },
  {
   "cell_type": "markdown",
   "metadata": {},
   "source": [
    "***GBM with complex tuning parameter set: takes forever to run***"
   ]
  },
  {
   "cell_type": "markdown",
   "metadata": {},
   "source": [
    "Histogram-based Gradient Boosting Regression Tree. It is experimental so we need to enable experimental features first. This implementation is inspired by [LightGBM](https://github.com/Microsoft/LightGBM)."
   ]
  },
  {
   "cell_type": "code",
   "execution_count": null,
   "metadata": {},
   "outputs": [],
   "source": [
    "# from sklearn.experimental import enable_hist_gradient_boosting\n",
    "from sklearn.ensemble import HistGradientBoostingRegressor"
   ]
  },
  {
   "cell_type": "code",
   "execution_count": null,
   "metadata": {},
   "outputs": [],
   "source": [
    "gbm_broad = HistGradientBoostingRegressor(random_state = 20240129)"
   ]
  },
  {
   "cell_type": "code",
   "execution_count": null,
   "metadata": {},
   "outputs": [],
   "source": [
    "tune_grid = {\n",
    "    \"max_iter\": [50, 100, 200],\n",
    "    \"max_depth\": [1, 5, 10],\n",
    "    \"learning_rate\": [0.1, 0.15, 0.2],\n",
    "    \"min_samples_leaf\": [5, 10, 20, 30],\n",
    "}\n",
    "\n",
    "gbm_model_cv_broad = GridSearchCV(\n",
    "    gbm_broad,\n",
    "    tune_grid,\n",
    "    cv=5,\n",
    "    scoring=\"neg_root_mean_squared_error\",\n",
    "    verbose=10,\n",
    ")"
   ]
  },
  {
   "cell_type": "code",
   "execution_count": null,
   "metadata": {},
   "outputs": [],
   "source": [
    "categorical_columns = [col for col in predictors_2 if col.startswith(\"f_\")]\n",
    "numerical_columns = [col for col in predictors_2 if col not in categorical_columns]\n",
    "\n",
    "categorical_encoder = OneHotEncoder(handle_unknown=\"ignore\")\n",
    "\n",
    "preprocessing = ColumnTransformer(\n",
    "    [\n",
    "        (\"cat\", categorical_encoder, categorical_columns),\n",
    "        (\"num\", \"passthrough\", numerical_columns),\n",
    "    ]\n",
    ")\n",
    "\n",
    "gbm_pipe_broad = Pipeline(\n",
    "    [(\"preprocess\", preprocessing), (\"regressor\", gbm_model_cv_broad)], verbose=True\n",
    ")"
   ]
  },
  {
   "cell_type": "code",
   "execution_count": null,
   "metadata": {
    "tags": []
   },
   "outputs": [],
   "source": [
    "%%time\n",
    "gbm_pipe_broad.fit(data_train[predictors_2],data_train.price)"
   ]
  },
  {
   "cell_type": "code",
   "execution_count": null,
   "metadata": {
    "tags": []
   },
   "outputs": [],
   "source": [
    "gbm_model_cv_broad.best_params_"
   ]
  },
  {
   "cell_type": "code",
   "execution_count": null,
   "metadata": {
    "tags": []
   },
   "outputs": [],
   "source": [
    "print('Broad GBM RMSE is: {:.4f}.'.format(gbm_model_cv_broad.best_score_*-1))\n",
    "print('Simple GBM RMSE is: {:.4f}.'.format(gbm_model_cv.best_score_*-1))"
   ]
  },
  {
   "cell_type": "code",
   "execution_count": null,
   "metadata": {},
   "outputs": [],
   "source": []
  }
 ],
 "metadata": {
  "kernelspec": {
   "display_name": "Python 3 (ipykernel)",
   "language": "python",
   "name": "python3"
  },
  "language_info": {
   "codemirror_mode": {
    "name": "ipython",
    "version": 3
   },
   "file_extension": ".py",
   "mimetype": "text/x-python",
   "name": "python",
   "nbconvert_exporter": "python",
   "pygments_lexer": "ipython3",
   "version": "3.10.13"
  }
 },
 "nbformat": 4,
 "nbformat_minor": 4
}
